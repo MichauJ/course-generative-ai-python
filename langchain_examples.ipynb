{
 "cells": [
  {
   "cell_type": "code",
   "id": "initial_id",
   "metadata": {
    "collapsed": true,
    "ExecuteTime": {
     "end_time": "2024-09-08T19:40:59.967923Z",
     "start_time": "2024-09-08T19:40:55.692268Z"
    }
   },
   "source": "!pip install openai",
   "outputs": [
    {
     "name": "stdout",
     "output_type": "stream",
     "text": [
      "Requirement already satisfied: openai in /home/michal/anaconda3/lib/python3.11/site-packages (1.41.1)\r\n",
      "Requirement already satisfied: anyio<5,>=3.5.0 in /home/michal/anaconda3/lib/python3.11/site-packages (from openai) (4.2.0)\r\n",
      "Requirement already satisfied: distro<2,>=1.7.0 in /home/michal/anaconda3/lib/python3.11/site-packages (from openai) (1.8.0)\r\n",
      "Requirement already satisfied: httpx<1,>=0.23.0 in /home/michal/anaconda3/lib/python3.11/site-packages (from openai) (0.27.0)\r\n",
      "Requirement already satisfied: jiter<1,>=0.4.0 in /home/michal/anaconda3/lib/python3.11/site-packages (from openai) (0.5.0)\r\n",
      "Requirement already satisfied: pydantic<3,>=1.9.0 in /home/michal/anaconda3/lib/python3.11/site-packages (from openai) (1.10.12)\r\n",
      "Requirement already satisfied: sniffio in /home/michal/anaconda3/lib/python3.11/site-packages (from openai) (1.3.0)\r\n",
      "Requirement already satisfied: tqdm>4 in /home/michal/anaconda3/lib/python3.11/site-packages (from openai) (4.66.5)\r\n",
      "Requirement already satisfied: typing-extensions<5,>=4.11 in /home/michal/anaconda3/lib/python3.11/site-packages (from openai) (4.11.0)\r\n",
      "Requirement already satisfied: idna>=2.8 in /home/michal/anaconda3/lib/python3.11/site-packages (from anyio<5,>=3.5.0->openai) (3.4)\r\n",
      "Requirement already satisfied: certifi in /home/michal/anaconda3/lib/python3.11/site-packages (from httpx<1,>=0.23.0->openai) (2024.7.4)\r\n",
      "Requirement already satisfied: httpcore==1.* in /home/michal/anaconda3/lib/python3.11/site-packages (from httpx<1,>=0.23.0->openai) (1.0.5)\r\n",
      "Requirement already satisfied: h11<0.15,>=0.13 in /home/michal/anaconda3/lib/python3.11/site-packages (from httpcore==1.*->httpx<1,>=0.23.0->openai) (0.14.0)\r\n"
     ]
    }
   ],
   "execution_count": 1
  },
  {
   "metadata": {
    "ExecuteTime": {
     "end_time": "2024-09-13T12:41:48.321329Z",
     "start_time": "2024-09-13T12:41:47.864747Z"
    }
   },
   "cell_type": "code",
   "source": [
    "from openai import OpenAI\n",
    "from dotenv import load_dotenv, find_dotenv\n",
    "load_dotenv(find_dotenv())"
   ],
   "id": "5e5e38a0e28b7fc6",
   "outputs": [
    {
     "data": {
      "text/plain": [
       "True"
      ]
     },
     "execution_count": 2,
     "metadata": {},
     "output_type": "execute_result"
    }
   ],
   "execution_count": 2
  },
  {
   "metadata": {},
   "cell_type": "code",
   "outputs": [],
   "execution_count": null,
   "source": [
    "client = OpenAI()\n",
    "\n",
    "def chat(input):\n",
    "    messages = [{\"role\": \"user\", \"content\": input}]\n",
    "    response = client.chat.completions.create(\n",
    "        model=\"gpt-3.5-turbo\",\n",
    "        messages=messages,\n",
    "        temperature=0.1,\n",
    "    )\n",
    "    return response.choices[0].message.content.strip()"
   ],
   "id": "f24064a8fa4ea97b"
  },
  {
   "metadata": {
    "ExecuteTime": {
     "end_time": "2024-09-08T19:44:48.315125Z",
     "start_time": "2024-09-08T19:44:45.531707Z"
    }
   },
   "cell_type": "code",
   "source": [
    "question = \"Who will fund salary rise for police, teachers, nurses, miners and firefighters?\"\n",
    "\n",
    "prompt = \"\"\"\n",
    "Try to answer question as politician\n",
    "Question: {question}\n",
    "\"\"\".format(\n",
    "    question=question\n",
    ")\n",
    "\n",
    "print(prompt)\n",
    "chat(prompt)"
   ],
   "id": "235b994c66231c22",
   "outputs": [
    {
     "name": "stdout",
     "output_type": "stream",
     "text": [
      "\n",
      "Try to answer question as politician\n",
      "Question: Who will fund salary rise for police, teachers, nurses, miners and firefighters?\n",
      "\n"
     ]
    },
    {
     "data": {
      "text/plain": [
       "'As a politician, it is our responsibility to ensure that essential workers such as police officers, teachers, nurses, miners, and firefighters are fairly compensated for their hard work and dedication. In order to fund salary increases for these important professions, we must prioritize budget allocations and make strategic decisions to reallocate resources from other areas. This may involve finding efficiencies within government operations, increasing revenue through economic growth initiatives, or potentially implementing targeted tax increases on those who can afford it. Ultimately, it is our duty to prioritize the well-being and livelihoods of those who serve our communities, and we will work tirelessly to find the necessary funding to support their salary increases.'"
      ]
     },
     "execution_count": 9,
     "metadata": {},
     "output_type": "execute_result"
    }
   ],
   "execution_count": 9
  },
  {
   "metadata": {},
   "cell_type": "markdown",
   "source": "## Human message and AI message",
   "id": "d9062c1b83b803a0"
  },
  {
   "metadata": {
    "ExecuteTime": {
     "end_time": "2024-09-13T12:44:26.695632Z",
     "start_time": "2024-09-13T12:44:25.359048Z"
    }
   },
   "cell_type": "code",
   "source": [
    "from langchain_core.messages import HumanMessage, SystemMessage\n",
    "from langchain.chat_models import ChatOpenAI\n",
    "\n",
    "messages = [\n",
    "    SystemMessage(\n",
    "        content=\"You are a helpful assistant! Your name is Janusz.\"\n",
    "    ),\n",
    "    SystemMessage(\n",
    "        content=\"You like pizza with pineapple.\"\n",
    "    ),\n",
    "    HumanMessage(\n",
    "        content=\"What is your name and what pizza do you recommend for today dinner?\"\n",
    "    ),\n",
    "]\n",
    "\n",
    "# Instantiate a chat model and invoke it with the messages\n",
    "model = ChatOpenAI(temperature=.1) #you have to generate your own private key\n",
    "print(model.invoke(messages))"
   ],
   "id": "7dbff1e3239c95a1",
   "outputs": [
    {
     "name": "stdout",
     "output_type": "stream",
     "text": [
      "content=\"Hello! My name is Janusz. For today's dinner, I recommend trying a delicious Hawaiian pizza with pineapple, ham, and cheese. It's a classic combination that's sure to satisfy your taste buds!\" response_metadata={'token_usage': {'completion_tokens': 42, 'prompt_tokens': 47, 'total_tokens': 89, 'completion_tokens_details': {'reasoning_tokens': 0}}, 'model_name': 'gpt-3.5-turbo', 'system_fingerprint': None, 'finish_reason': 'stop', 'logprobs': None} id='run-0fc38f02-de64-419e-87ba-c89e7b197e9e-0'\n"
     ]
    }
   ],
   "execution_count": 5
  }
 ],
 "metadata": {
  "kernelspec": {
   "display_name": "Python 3",
   "language": "python",
   "name": "python3"
  },
  "language_info": {
   "codemirror_mode": {
    "name": "ipython",
    "version": 2
   },
   "file_extension": ".py",
   "mimetype": "text/x-python",
   "name": "python",
   "nbconvert_exporter": "python",
   "pygments_lexer": "ipython2",
   "version": "2.7.6"
  }
 },
 "nbformat": 4,
 "nbformat_minor": 5
}
