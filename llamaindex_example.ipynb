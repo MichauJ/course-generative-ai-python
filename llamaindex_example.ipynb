{
 "cells": [
  {
   "metadata": {},
   "cell_type": "markdown",
   "source": "# Example of using Llamaindex framework for Retrieval Augmented Generation",
   "id": "70d30ca2d5a1c40"
  },
  {
   "cell_type": "markdown",
   "id": "1c909ec1-0a86-48a2-8411-f038788662d0",
   "metadata": {
    "editable": true,
    "slideshow": {
     "slide_type": ""
    },
    "tags": []
   },
   "source": [
    "## Llamaindex setup\n",
    "### Download llamafile\n",
    "Download the llamafile with model. Llamafile can contain any LLM. Framework enabled to run it as a local server and use via API. \n",
    "TinyLlama-1.1B-Chat-v1.0 model is used for purpose of this example\n",
    "\n",
    "`wget https://huggingface.co/jartine/TinyLlama-1.1B-Chat-v1.0-GGUF/resolve/main/TinyLlama-1.1B-Chat-v1.0.Q5_K_M.llamafile`\n",
    "\n",
    "Make executable \n",
    "\n",
    "`chmod +x TinyLlama-1.1B-Chat-v1.0.Q5_K_M.llamafile`\n",
    "\n",
    "Run in server mode\n",
    "\n",
    "`./TinyLlama-1.1B-Chat-v1.0.Q5_K_M.llamafile --server --nobrowser --embedding --port 8080`"
   ]
  },
  {
   "metadata": {},
   "cell_type": "markdown",
   "source": "### Install Llamaindex Python library",
   "id": "134d68a367f51f2f"
  },
  {
   "cell_type": "code",
   "id": "0cb0a872-57d2-437b-ba7f-0dc5d47d02b0",
   "metadata": {
    "editable": true,
    "slideshow": {
     "slide_type": ""
    },
    "tags": [],
    "ExecuteTime": {
     "end_time": "2024-08-21T05:50:12.148095Z",
     "start_time": "2024-08-21T05:50:03.702100Z"
    }
   },
   "source": [
    "# Install llama-index\n",
    "!pip install llama-index \n",
    "# Install llamafile integrations and SimpleWebPageReader\n",
    "!pip install llama-index-embeddings-llamafile llama-index-llms-llamafile llama-index-readers-web"
   ],
   "outputs": [
    {
     "name": "stdout",
     "output_type": "stream",
     "text": [
      "Requirement already satisfied: llama-index in /home/michal/anaconda3/lib/python3.11/site-packages (0.10.67.post1)\r\n",
      "Requirement already satisfied: llama-index-agent-openai<0.3.0,>=0.1.4 in /home/michal/anaconda3/lib/python3.11/site-packages (from llama-index) (0.2.9)\r\n",
      "Requirement already satisfied: llama-index-cli<0.2.0,>=0.1.2 in /home/michal/anaconda3/lib/python3.11/site-packages (from llama-index) (0.1.13)\r\n",
      "Requirement already satisfied: llama-index-core<0.11.0,>=0.10.67 in /home/michal/anaconda3/lib/python3.11/site-packages (from llama-index) (0.10.67)\r\n",
      "Requirement already satisfied: llama-index-embeddings-openai<0.2.0,>=0.1.5 in /home/michal/anaconda3/lib/python3.11/site-packages (from llama-index) (0.1.11)\r\n",
      "Requirement already satisfied: llama-index-indices-managed-llama-cloud>=0.2.0 in /home/michal/anaconda3/lib/python3.11/site-packages (from llama-index) (0.2.7)\r\n",
      "Requirement already satisfied: llama-index-legacy<0.10.0,>=0.9.48 in /home/michal/anaconda3/lib/python3.11/site-packages (from llama-index) (0.9.48.post3)\r\n",
      "Requirement already satisfied: llama-index-llms-openai<0.2.0,>=0.1.27 in /home/michal/anaconda3/lib/python3.11/site-packages (from llama-index) (0.1.29)\r\n",
      "Requirement already satisfied: llama-index-multi-modal-llms-openai<0.2.0,>=0.1.3 in /home/michal/anaconda3/lib/python3.11/site-packages (from llama-index) (0.1.9)\r\n",
      "Requirement already satisfied: llama-index-program-openai<0.2.0,>=0.1.3 in /home/michal/anaconda3/lib/python3.11/site-packages (from llama-index) (0.1.7)\r\n",
      "Requirement already satisfied: llama-index-question-gen-openai<0.2.0,>=0.1.2 in /home/michal/anaconda3/lib/python3.11/site-packages (from llama-index) (0.1.3)\r\n",
      "Requirement already satisfied: llama-index-readers-file<0.2.0,>=0.1.4 in /home/michal/anaconda3/lib/python3.11/site-packages (from llama-index) (0.1.33)\r\n",
      "Requirement already satisfied: llama-index-readers-llama-parse>=0.1.2 in /home/michal/anaconda3/lib/python3.11/site-packages (from llama-index) (0.1.6)\r\n",
      "Requirement already satisfied: openai>=1.14.0 in /home/michal/anaconda3/lib/python3.11/site-packages (from llama-index-agent-openai<0.3.0,>=0.1.4->llama-index) (1.41.1)\r\n",
      "Requirement already satisfied: PyYAML>=6.0.1 in /home/michal/anaconda3/lib/python3.11/site-packages (from llama-index-core<0.11.0,>=0.10.67->llama-index) (6.0.1)\r\n",
      "Requirement already satisfied: SQLAlchemy>=1.4.49 in /home/michal/anaconda3/lib/python3.11/site-packages (from SQLAlchemy[asyncio]>=1.4.49->llama-index-core<0.11.0,>=0.10.67->llama-index) (1.4.52)\r\n",
      "Requirement already satisfied: aiohttp<4.0.0,>=3.8.6 in /home/michal/anaconda3/lib/python3.11/site-packages (from llama-index-core<0.11.0,>=0.10.67->llama-index) (3.9.3)\r\n",
      "Requirement already satisfied: dataclasses-json in /home/michal/anaconda3/lib/python3.11/site-packages (from llama-index-core<0.11.0,>=0.10.67->llama-index) (0.6.4)\r\n",
      "Requirement already satisfied: deprecated>=1.2.9.3 in /home/michal/anaconda3/lib/python3.11/site-packages (from llama-index-core<0.11.0,>=0.10.67->llama-index) (1.2.14)\r\n",
      "Requirement already satisfied: dirtyjson<2.0.0,>=1.0.8 in /home/michal/anaconda3/lib/python3.11/site-packages (from llama-index-core<0.11.0,>=0.10.67->llama-index) (1.0.8)\r\n",
      "Requirement already satisfied: fsspec>=2023.5.0 in /home/michal/anaconda3/lib/python3.11/site-packages (from llama-index-core<0.11.0,>=0.10.67->llama-index) (2023.10.0)\r\n",
      "Requirement already satisfied: httpx in /home/michal/anaconda3/lib/python3.11/site-packages (from llama-index-core<0.11.0,>=0.10.67->llama-index) (0.27.0)\r\n",
      "Requirement already satisfied: nest-asyncio<2.0.0,>=1.5.8 in /home/michal/anaconda3/lib/python3.11/site-packages (from llama-index-core<0.11.0,>=0.10.67->llama-index) (1.6.0)\r\n",
      "Requirement already satisfied: networkx>=3.0 in /home/michal/anaconda3/lib/python3.11/site-packages (from llama-index-core<0.11.0,>=0.10.67->llama-index) (3.1)\r\n",
      "Requirement already satisfied: nltk!=3.9,>=3.8.1 in /home/michal/anaconda3/lib/python3.11/site-packages (from llama-index-core<0.11.0,>=0.10.67->llama-index) (3.8.1)\r\n",
      "Requirement already satisfied: numpy<2.0.0 in /home/michal/anaconda3/lib/python3.11/site-packages (from llama-index-core<0.11.0,>=0.10.67->llama-index) (1.26.4)\r\n",
      "Requirement already satisfied: pandas in /home/michal/anaconda3/lib/python3.11/site-packages (from llama-index-core<0.11.0,>=0.10.67->llama-index) (1.5.3)\r\n",
      "Requirement already satisfied: pillow>=9.0.0 in /home/michal/anaconda3/lib/python3.11/site-packages (from llama-index-core<0.11.0,>=0.10.67->llama-index) (10.2.0)\r\n",
      "Requirement already satisfied: requests>=2.31.0 in /home/michal/anaconda3/lib/python3.11/site-packages (from llama-index-core<0.11.0,>=0.10.67->llama-index) (2.31.0)\r\n",
      "Requirement already satisfied: tenacity!=8.4.0,<9.0.0,>=8.2.0 in /home/michal/anaconda3/lib/python3.11/site-packages (from llama-index-core<0.11.0,>=0.10.67->llama-index) (8.2.2)\r\n",
      "Requirement already satisfied: tiktoken>=0.3.3 in /home/michal/anaconda3/lib/python3.11/site-packages (from llama-index-core<0.11.0,>=0.10.67->llama-index) (0.6.0)\r\n",
      "Requirement already satisfied: tqdm<5.0.0,>=4.66.1 in /home/michal/anaconda3/lib/python3.11/site-packages (from llama-index-core<0.11.0,>=0.10.67->llama-index) (4.66.5)\r\n",
      "Requirement already satisfied: typing-extensions>=4.5.0 in /home/michal/anaconda3/lib/python3.11/site-packages (from llama-index-core<0.11.0,>=0.10.67->llama-index) (4.11.0)\r\n",
      "Requirement already satisfied: typing-inspect>=0.8.0 in /home/michal/anaconda3/lib/python3.11/site-packages (from llama-index-core<0.11.0,>=0.10.67->llama-index) (0.9.0)\r\n",
      "Requirement already satisfied: wrapt in /home/michal/anaconda3/lib/python3.11/site-packages (from llama-index-core<0.11.0,>=0.10.67->llama-index) (1.14.1)\r\n",
      "Requirement already satisfied: llama-cloud>=0.0.11 in /home/michal/anaconda3/lib/python3.11/site-packages (from llama-index-indices-managed-llama-cloud>=0.2.0->llama-index) (0.0.13)\r\n",
      "Requirement already satisfied: beautifulsoup4<5.0.0,>=4.12.3 in /home/michal/anaconda3/lib/python3.11/site-packages (from llama-index-readers-file<0.2.0,>=0.1.4->llama-index) (4.12.3)\r\n",
      "Requirement already satisfied: pypdf<5.0.0,>=4.0.1 in /home/michal/anaconda3/lib/python3.11/site-packages (from llama-index-readers-file<0.2.0,>=0.1.4->llama-index) (4.3.1)\r\n",
      "Requirement already satisfied: striprtf<0.0.27,>=0.0.26 in /home/michal/anaconda3/lib/python3.11/site-packages (from llama-index-readers-file<0.2.0,>=0.1.4->llama-index) (0.0.26)\r\n",
      "Requirement already satisfied: llama-parse>=0.4.0 in /home/michal/anaconda3/lib/python3.11/site-packages (from llama-index-readers-llama-parse>=0.1.2->llama-index) (0.4.9)\r\n",
      "Requirement already satisfied: aiosignal>=1.1.2 in /home/michal/anaconda3/lib/python3.11/site-packages (from aiohttp<4.0.0,>=3.8.6->llama-index-core<0.11.0,>=0.10.67->llama-index) (1.2.0)\r\n",
      "Requirement already satisfied: attrs>=17.3.0 in /home/michal/anaconda3/lib/python3.11/site-packages (from aiohttp<4.0.0,>=3.8.6->llama-index-core<0.11.0,>=0.10.67->llama-index) (24.2.0)\r\n",
      "Requirement already satisfied: frozenlist>=1.1.1 in /home/michal/anaconda3/lib/python3.11/site-packages (from aiohttp<4.0.0,>=3.8.6->llama-index-core<0.11.0,>=0.10.67->llama-index) (1.4.0)\r\n",
      "Requirement already satisfied: multidict<7.0,>=4.5 in /home/michal/anaconda3/lib/python3.11/site-packages (from aiohttp<4.0.0,>=3.8.6->llama-index-core<0.11.0,>=0.10.67->llama-index) (6.0.4)\r\n",
      "Requirement already satisfied: yarl<2.0,>=1.0 in /home/michal/anaconda3/lib/python3.11/site-packages (from aiohttp<4.0.0,>=3.8.6->llama-index-core<0.11.0,>=0.10.67->llama-index) (1.9.3)\r\n",
      "Requirement already satisfied: soupsieve>1.2 in /home/michal/anaconda3/lib/python3.11/site-packages (from beautifulsoup4<5.0.0,>=4.12.3->llama-index-readers-file<0.2.0,>=0.1.4->llama-index) (2.5)\r\n",
      "Requirement already satisfied: pydantic>=1.10 in /home/michal/anaconda3/lib/python3.11/site-packages (from llama-cloud>=0.0.11->llama-index-indices-managed-llama-cloud>=0.2.0->llama-index) (1.10.12)\r\n",
      "Requirement already satisfied: anyio in /home/michal/anaconda3/lib/python3.11/site-packages (from httpx->llama-index-core<0.11.0,>=0.10.67->llama-index) (4.2.0)\r\n",
      "Requirement already satisfied: certifi in /home/michal/anaconda3/lib/python3.11/site-packages (from httpx->llama-index-core<0.11.0,>=0.10.67->llama-index) (2024.7.4)\r\n",
      "Requirement already satisfied: httpcore==1.* in /home/michal/anaconda3/lib/python3.11/site-packages (from httpx->llama-index-core<0.11.0,>=0.10.67->llama-index) (1.0.5)\r\n",
      "Requirement already satisfied: idna in /home/michal/anaconda3/lib/python3.11/site-packages (from httpx->llama-index-core<0.11.0,>=0.10.67->llama-index) (3.4)\r\n",
      "Requirement already satisfied: sniffio in /home/michal/anaconda3/lib/python3.11/site-packages (from httpx->llama-index-core<0.11.0,>=0.10.67->llama-index) (1.3.0)\r\n",
      "Requirement already satisfied: h11<0.15,>=0.13 in /home/michal/anaconda3/lib/python3.11/site-packages (from httpcore==1.*->httpx->llama-index-core<0.11.0,>=0.10.67->llama-index) (0.14.0)\r\n",
      "Requirement already satisfied: click in /home/michal/anaconda3/lib/python3.11/site-packages (from nltk!=3.9,>=3.8.1->llama-index-core<0.11.0,>=0.10.67->llama-index) (8.1.7)\r\n",
      "Requirement already satisfied: joblib in /home/michal/anaconda3/lib/python3.11/site-packages (from nltk!=3.9,>=3.8.1->llama-index-core<0.11.0,>=0.10.67->llama-index) (1.2.0)\r\n",
      "Requirement already satisfied: regex>=2021.8.3 in /home/michal/anaconda3/lib/python3.11/site-packages (from nltk!=3.9,>=3.8.1->llama-index-core<0.11.0,>=0.10.67->llama-index) (2023.10.3)\r\n",
      "Requirement already satisfied: distro<2,>=1.7.0 in /home/michal/anaconda3/lib/python3.11/site-packages (from openai>=1.14.0->llama-index-agent-openai<0.3.0,>=0.1.4->llama-index) (1.8.0)\r\n",
      "Requirement already satisfied: jiter<1,>=0.4.0 in /home/michal/anaconda3/lib/python3.11/site-packages (from openai>=1.14.0->llama-index-agent-openai<0.3.0,>=0.1.4->llama-index) (0.5.0)\r\n",
      "Requirement already satisfied: charset-normalizer<4,>=2 in /home/michal/anaconda3/lib/python3.11/site-packages (from requests>=2.31.0->llama-index-core<0.11.0,>=0.10.67->llama-index) (3.3.2)\r\n",
      "Requirement already satisfied: urllib3<3,>=1.21.1 in /home/michal/anaconda3/lib/python3.11/site-packages (from requests>=2.31.0->llama-index-core<0.11.0,>=0.10.67->llama-index) (2.0.7)\r\n",
      "Requirement already satisfied: greenlet!=0.4.17 in /home/michal/anaconda3/lib/python3.11/site-packages (from SQLAlchemy>=1.4.49->SQLAlchemy[asyncio]>=1.4.49->llama-index-core<0.11.0,>=0.10.67->llama-index) (3.0.3)\r\n",
      "Requirement already satisfied: mypy-extensions>=0.3.0 in /home/michal/anaconda3/lib/python3.11/site-packages (from typing-inspect>=0.8.0->llama-index-core<0.11.0,>=0.10.67->llama-index) (1.0.0)\r\n",
      "Requirement already satisfied: marshmallow<4.0.0,>=3.18.0 in /home/michal/anaconda3/lib/python3.11/site-packages (from dataclasses-json->llama-index-core<0.11.0,>=0.10.67->llama-index) (3.21.1)\r\n",
      "Requirement already satisfied: python-dateutil>=2.8.1 in /home/michal/anaconda3/lib/python3.11/site-packages (from pandas->llama-index-core<0.11.0,>=0.10.67->llama-index) (2.8.2)\r\n",
      "Requirement already satisfied: pytz>=2020.1 in /home/michal/anaconda3/lib/python3.11/site-packages (from pandas->llama-index-core<0.11.0,>=0.10.67->llama-index) (2023.3.post1)\r\n",
      "Requirement already satisfied: packaging>=17.0 in /home/michal/anaconda3/lib/python3.11/site-packages (from marshmallow<4.0.0,>=3.18.0->dataclasses-json->llama-index-core<0.11.0,>=0.10.67->llama-index) (23.2)\r\n",
      "Requirement already satisfied: six>=1.5 in /home/michal/anaconda3/lib/python3.11/site-packages (from python-dateutil>=2.8.1->pandas->llama-index-core<0.11.0,>=0.10.67->llama-index) (1.16.0)\r\n",
      "Requirement already satisfied: llama-index-embeddings-llamafile in /home/michal/anaconda3/lib/python3.11/site-packages (0.1.2)\r\n",
      "Requirement already satisfied: llama-index-llms-llamafile in /home/michal/anaconda3/lib/python3.11/site-packages (0.1.2)\r\n",
      "Requirement already satisfied: llama-index-readers-web in /home/michal/anaconda3/lib/python3.11/site-packages (0.1.23)\r\n",
      "Requirement already satisfied: llama-index-core<0.11.0,>=0.10.1 in /home/michal/anaconda3/lib/python3.11/site-packages (from llama-index-embeddings-llamafile) (0.10.67)\r\n",
      "Requirement already satisfied: aiohttp<4.0.0,>=3.9.1 in /home/michal/anaconda3/lib/python3.11/site-packages (from llama-index-readers-web) (3.9.3)\r\n",
      "Requirement already satisfied: beautifulsoup4<5.0.0,>=4.12.3 in /home/michal/anaconda3/lib/python3.11/site-packages (from llama-index-readers-web) (4.12.3)\r\n",
      "Requirement already satisfied: chromedriver-autoinstaller<0.7.0,>=0.6.3 in /home/michal/anaconda3/lib/python3.11/site-packages (from llama-index-readers-web) (0.6.4)\r\n",
      "Requirement already satisfied: html2text<2025.0.0,>=2024.2.26 in /home/michal/anaconda3/lib/python3.11/site-packages (from llama-index-readers-web) (2024.2.26)\r\n",
      "Requirement already satisfied: newspaper3k<0.3.0,>=0.2.8 in /home/michal/anaconda3/lib/python3.11/site-packages (from llama-index-readers-web) (0.2.8)\r\n",
      "Requirement already satisfied: playwright<2.0,>=1.30 in /home/michal/anaconda3/lib/python3.11/site-packages (from llama-index-readers-web) (1.46.0)\r\n",
      "Requirement already satisfied: requests<3.0.0,>=2.31.0 in /home/michal/anaconda3/lib/python3.11/site-packages (from llama-index-readers-web) (2.31.0)\r\n",
      "Requirement already satisfied: selenium<5.0.0,>=4.17.2 in /home/michal/anaconda3/lib/python3.11/site-packages (from llama-index-readers-web) (4.23.1)\r\n",
      "Requirement already satisfied: spider-client<0.0.28,>=0.0.27 in /home/michal/anaconda3/lib/python3.11/site-packages (from llama-index-readers-web) (0.0.27)\r\n",
      "Requirement already satisfied: urllib3>=1.1.0 in /home/michal/anaconda3/lib/python3.11/site-packages (from llama-index-readers-web) (2.0.7)\r\n",
      "Requirement already satisfied: aiosignal>=1.1.2 in /home/michal/anaconda3/lib/python3.11/site-packages (from aiohttp<4.0.0,>=3.9.1->llama-index-readers-web) (1.2.0)\r\n",
      "Requirement already satisfied: attrs>=17.3.0 in /home/michal/anaconda3/lib/python3.11/site-packages (from aiohttp<4.0.0,>=3.9.1->llama-index-readers-web) (24.2.0)\r\n",
      "Requirement already satisfied: frozenlist>=1.1.1 in /home/michal/anaconda3/lib/python3.11/site-packages (from aiohttp<4.0.0,>=3.9.1->llama-index-readers-web) (1.4.0)\r\n",
      "Requirement already satisfied: multidict<7.0,>=4.5 in /home/michal/anaconda3/lib/python3.11/site-packages (from aiohttp<4.0.0,>=3.9.1->llama-index-readers-web) (6.0.4)\r\n",
      "Requirement already satisfied: yarl<2.0,>=1.0 in /home/michal/anaconda3/lib/python3.11/site-packages (from aiohttp<4.0.0,>=3.9.1->llama-index-readers-web) (1.9.3)\r\n",
      "Requirement already satisfied: soupsieve>1.2 in /home/michal/anaconda3/lib/python3.11/site-packages (from beautifulsoup4<5.0.0,>=4.12.3->llama-index-readers-web) (2.5)\r\n",
      "Requirement already satisfied: packaging>=23.1 in /home/michal/anaconda3/lib/python3.11/site-packages (from chromedriver-autoinstaller<0.7.0,>=0.6.3->llama-index-readers-web) (23.2)\r\n",
      "Requirement already satisfied: PyYAML>=6.0.1 in /home/michal/anaconda3/lib/python3.11/site-packages (from llama-index-core<0.11.0,>=0.10.1->llama-index-embeddings-llamafile) (6.0.1)\r\n",
      "Requirement already satisfied: SQLAlchemy>=1.4.49 in /home/michal/anaconda3/lib/python3.11/site-packages (from SQLAlchemy[asyncio]>=1.4.49->llama-index-core<0.11.0,>=0.10.1->llama-index-embeddings-llamafile) (1.4.52)\r\n",
      "Requirement already satisfied: dataclasses-json in /home/michal/anaconda3/lib/python3.11/site-packages (from llama-index-core<0.11.0,>=0.10.1->llama-index-embeddings-llamafile) (0.6.4)\r\n",
      "Requirement already satisfied: deprecated>=1.2.9.3 in /home/michal/anaconda3/lib/python3.11/site-packages (from llama-index-core<0.11.0,>=0.10.1->llama-index-embeddings-llamafile) (1.2.14)\r\n",
      "Requirement already satisfied: dirtyjson<2.0.0,>=1.0.8 in /home/michal/anaconda3/lib/python3.11/site-packages (from llama-index-core<0.11.0,>=0.10.1->llama-index-embeddings-llamafile) (1.0.8)\r\n",
      "Requirement already satisfied: fsspec>=2023.5.0 in /home/michal/anaconda3/lib/python3.11/site-packages (from llama-index-core<0.11.0,>=0.10.1->llama-index-embeddings-llamafile) (2023.10.0)\r\n",
      "Requirement already satisfied: httpx in /home/michal/anaconda3/lib/python3.11/site-packages (from llama-index-core<0.11.0,>=0.10.1->llama-index-embeddings-llamafile) (0.27.0)\r\n",
      "Requirement already satisfied: nest-asyncio<2.0.0,>=1.5.8 in /home/michal/anaconda3/lib/python3.11/site-packages (from llama-index-core<0.11.0,>=0.10.1->llama-index-embeddings-llamafile) (1.6.0)\r\n",
      "Requirement already satisfied: networkx>=3.0 in /home/michal/anaconda3/lib/python3.11/site-packages (from llama-index-core<0.11.0,>=0.10.1->llama-index-embeddings-llamafile) (3.1)\r\n",
      "Requirement already satisfied: nltk!=3.9,>=3.8.1 in /home/michal/anaconda3/lib/python3.11/site-packages (from llama-index-core<0.11.0,>=0.10.1->llama-index-embeddings-llamafile) (3.8.1)\r\n",
      "Requirement already satisfied: numpy<2.0.0 in /home/michal/anaconda3/lib/python3.11/site-packages (from llama-index-core<0.11.0,>=0.10.1->llama-index-embeddings-llamafile) (1.26.4)\r\n",
      "Requirement already satisfied: openai>=1.1.0 in /home/michal/anaconda3/lib/python3.11/site-packages (from llama-index-core<0.11.0,>=0.10.1->llama-index-embeddings-llamafile) (1.41.1)\r\n",
      "Requirement already satisfied: pandas in /home/michal/anaconda3/lib/python3.11/site-packages (from llama-index-core<0.11.0,>=0.10.1->llama-index-embeddings-llamafile) (1.5.3)\r\n",
      "Requirement already satisfied: pillow>=9.0.0 in /home/michal/anaconda3/lib/python3.11/site-packages (from llama-index-core<0.11.0,>=0.10.1->llama-index-embeddings-llamafile) (10.2.0)\r\n",
      "Requirement already satisfied: tenacity!=8.4.0,<9.0.0,>=8.2.0 in /home/michal/anaconda3/lib/python3.11/site-packages (from llama-index-core<0.11.0,>=0.10.1->llama-index-embeddings-llamafile) (8.2.2)\r\n",
      "Requirement already satisfied: tiktoken>=0.3.3 in /home/michal/anaconda3/lib/python3.11/site-packages (from llama-index-core<0.11.0,>=0.10.1->llama-index-embeddings-llamafile) (0.6.0)\r\n",
      "Requirement already satisfied: tqdm<5.0.0,>=4.66.1 in /home/michal/anaconda3/lib/python3.11/site-packages (from llama-index-core<0.11.0,>=0.10.1->llama-index-embeddings-llamafile) (4.66.5)\r\n",
      "Requirement already satisfied: typing-extensions>=4.5.0 in /home/michal/anaconda3/lib/python3.11/site-packages (from llama-index-core<0.11.0,>=0.10.1->llama-index-embeddings-llamafile) (4.11.0)\r\n",
      "Requirement already satisfied: typing-inspect>=0.8.0 in /home/michal/anaconda3/lib/python3.11/site-packages (from llama-index-core<0.11.0,>=0.10.1->llama-index-embeddings-llamafile) (0.9.0)\r\n",
      "Requirement already satisfied: wrapt in /home/michal/anaconda3/lib/python3.11/site-packages (from llama-index-core<0.11.0,>=0.10.1->llama-index-embeddings-llamafile) (1.14.1)\r\n",
      "Requirement already satisfied: cssselect>=0.9.2 in /home/michal/anaconda3/lib/python3.11/site-packages (from newspaper3k<0.3.0,>=0.2.8->llama-index-readers-web) (1.2.0)\r\n",
      "Requirement already satisfied: lxml>=3.6.0 in /home/michal/anaconda3/lib/python3.11/site-packages (from newspaper3k<0.3.0,>=0.2.8->llama-index-readers-web) (5.3.0)\r\n",
      "Requirement already satisfied: feedparser>=5.2.1 in /home/michal/anaconda3/lib/python3.11/site-packages (from newspaper3k<0.3.0,>=0.2.8->llama-index-readers-web) (6.0.11)\r\n",
      "Requirement already satisfied: tldextract>=2.0.1 in /home/michal/anaconda3/lib/python3.11/site-packages (from newspaper3k<0.3.0,>=0.2.8->llama-index-readers-web) (3.2.0)\r\n",
      "Requirement already satisfied: feedfinder2>=0.0.4 in /home/michal/anaconda3/lib/python3.11/site-packages (from newspaper3k<0.3.0,>=0.2.8->llama-index-readers-web) (0.0.4)\r\n",
      "Requirement already satisfied: jieba3k>=0.35.1 in /home/michal/anaconda3/lib/python3.11/site-packages (from newspaper3k<0.3.0,>=0.2.8->llama-index-readers-web) (0.35.1)\r\n",
      "Requirement already satisfied: python-dateutil>=2.5.3 in /home/michal/anaconda3/lib/python3.11/site-packages (from newspaper3k<0.3.0,>=0.2.8->llama-index-readers-web) (2.8.2)\r\n",
      "Requirement already satisfied: tinysegmenter==0.3 in /home/michal/anaconda3/lib/python3.11/site-packages (from newspaper3k<0.3.0,>=0.2.8->llama-index-readers-web) (0.3)\r\n",
      "Requirement already satisfied: greenlet==3.0.3 in /home/michal/anaconda3/lib/python3.11/site-packages (from playwright<2.0,>=1.30->llama-index-readers-web) (3.0.3)\r\n",
      "Requirement already satisfied: pyee==11.1.0 in /home/michal/anaconda3/lib/python3.11/site-packages (from playwright<2.0,>=1.30->llama-index-readers-web) (11.1.0)\r\n",
      "Requirement already satisfied: charset-normalizer<4,>=2 in /home/michal/anaconda3/lib/python3.11/site-packages (from requests<3.0.0,>=2.31.0->llama-index-readers-web) (3.3.2)\r\n",
      "Requirement already satisfied: idna<4,>=2.5 in /home/michal/anaconda3/lib/python3.11/site-packages (from requests<3.0.0,>=2.31.0->llama-index-readers-web) (3.4)\r\n",
      "Requirement already satisfied: certifi>=2017.4.17 in /home/michal/anaconda3/lib/python3.11/site-packages (from requests<3.0.0,>=2.31.0->llama-index-readers-web) (2024.7.4)\r\n",
      "Requirement already satisfied: trio~=0.17 in /home/michal/anaconda3/lib/python3.11/site-packages (from selenium<5.0.0,>=4.17.2->llama-index-readers-web) (0.26.2)\r\n",
      "Requirement already satisfied: trio-websocket~=0.9 in /home/michal/anaconda3/lib/python3.11/site-packages (from selenium<5.0.0,>=4.17.2->llama-index-readers-web) (0.11.1)\r\n",
      "Requirement already satisfied: websocket-client~=1.8 in /home/michal/anaconda3/lib/python3.11/site-packages (from selenium<5.0.0,>=4.17.2->llama-index-readers-web) (1.8.0)\r\n",
      "Requirement already satisfied: six in /home/michal/anaconda3/lib/python3.11/site-packages (from feedfinder2>=0.0.4->newspaper3k<0.3.0,>=0.2.8->llama-index-readers-web) (1.16.0)\r\n",
      "Requirement already satisfied: sgmllib3k in /home/michal/anaconda3/lib/python3.11/site-packages (from feedparser>=5.2.1->newspaper3k<0.3.0,>=0.2.8->llama-index-readers-web) (1.0.0)\r\n",
      "Requirement already satisfied: click in /home/michal/anaconda3/lib/python3.11/site-packages (from nltk!=3.9,>=3.8.1->llama-index-core<0.11.0,>=0.10.1->llama-index-embeddings-llamafile) (8.1.7)\r\n",
      "Requirement already satisfied: joblib in /home/michal/anaconda3/lib/python3.11/site-packages (from nltk!=3.9,>=3.8.1->llama-index-core<0.11.0,>=0.10.1->llama-index-embeddings-llamafile) (1.2.0)\r\n",
      "Requirement already satisfied: regex>=2021.8.3 in /home/michal/anaconda3/lib/python3.11/site-packages (from nltk!=3.9,>=3.8.1->llama-index-core<0.11.0,>=0.10.1->llama-index-embeddings-llamafile) (2023.10.3)\r\n",
      "Requirement already satisfied: anyio<5,>=3.5.0 in /home/michal/anaconda3/lib/python3.11/site-packages (from openai>=1.1.0->llama-index-core<0.11.0,>=0.10.1->llama-index-embeddings-llamafile) (4.2.0)\r\n",
      "Requirement already satisfied: distro<2,>=1.7.0 in /home/michal/anaconda3/lib/python3.11/site-packages (from openai>=1.1.0->llama-index-core<0.11.0,>=0.10.1->llama-index-embeddings-llamafile) (1.8.0)\r\n",
      "Requirement already satisfied: jiter<1,>=0.4.0 in /home/michal/anaconda3/lib/python3.11/site-packages (from openai>=1.1.0->llama-index-core<0.11.0,>=0.10.1->llama-index-embeddings-llamafile) (0.5.0)\r\n",
      "Requirement already satisfied: pydantic<3,>=1.9.0 in /home/michal/anaconda3/lib/python3.11/site-packages (from openai>=1.1.0->llama-index-core<0.11.0,>=0.10.1->llama-index-embeddings-llamafile) (1.10.12)\r\n",
      "Requirement already satisfied: sniffio in /home/michal/anaconda3/lib/python3.11/site-packages (from openai>=1.1.0->llama-index-core<0.11.0,>=0.10.1->llama-index-embeddings-llamafile) (1.3.0)\r\n",
      "Requirement already satisfied: httpcore==1.* in /home/michal/anaconda3/lib/python3.11/site-packages (from httpx->llama-index-core<0.11.0,>=0.10.1->llama-index-embeddings-llamafile) (1.0.5)\r\n",
      "Requirement already satisfied: h11<0.15,>=0.13 in /home/michal/anaconda3/lib/python3.11/site-packages (from httpcore==1.*->httpx->llama-index-core<0.11.0,>=0.10.1->llama-index-embeddings-llamafile) (0.14.0)\r\n",
      "Requirement already satisfied: requests-file>=1.4 in /home/michal/anaconda3/lib/python3.11/site-packages (from tldextract>=2.0.1->newspaper3k<0.3.0,>=0.2.8->llama-index-readers-web) (1.5.1)\r\n",
      "Requirement already satisfied: filelock>=3.0.8 in /home/michal/anaconda3/lib/python3.11/site-packages (from tldextract>=2.0.1->newspaper3k<0.3.0,>=0.2.8->llama-index-readers-web) (3.13.1)\r\n",
      "Requirement already satisfied: sortedcontainers in /home/michal/anaconda3/lib/python3.11/site-packages (from trio~=0.17->selenium<5.0.0,>=4.17.2->llama-index-readers-web) (2.4.0)\r\n",
      "Requirement already satisfied: outcome in /home/michal/anaconda3/lib/python3.11/site-packages (from trio~=0.17->selenium<5.0.0,>=4.17.2->llama-index-readers-web) (1.3.0.post0)\r\n",
      "Requirement already satisfied: wsproto>=0.14 in /home/michal/anaconda3/lib/python3.11/site-packages (from trio-websocket~=0.9->selenium<5.0.0,>=4.17.2->llama-index-readers-web) (1.2.0)\r\n",
      "Requirement already satisfied: mypy-extensions>=0.3.0 in /home/michal/anaconda3/lib/python3.11/site-packages (from typing-inspect>=0.8.0->llama-index-core<0.11.0,>=0.10.1->llama-index-embeddings-llamafile) (1.0.0)\r\n",
      "Requirement already satisfied: pysocks!=1.5.7,<2.0,>=1.5.6 in /home/michal/anaconda3/lib/python3.11/site-packages (from urllib3[socks]<3,>=1.26->selenium<5.0.0,>=4.17.2->llama-index-readers-web) (1.7.1)\r\n",
      "Requirement already satisfied: marshmallow<4.0.0,>=3.18.0 in /home/michal/anaconda3/lib/python3.11/site-packages (from dataclasses-json->llama-index-core<0.11.0,>=0.10.1->llama-index-embeddings-llamafile) (3.21.1)\r\n",
      "Requirement already satisfied: pytz>=2020.1 in /home/michal/anaconda3/lib/python3.11/site-packages (from pandas->llama-index-core<0.11.0,>=0.10.1->llama-index-embeddings-llamafile) (2023.3.post1)\r\n"
     ]
    }
   ],
   "execution_count": 16
  },
  {
   "metadata": {},
   "cell_type": "markdown",
   "source": "## Configuration",
   "id": "6f933ce6a118071d"
  },
  {
   "cell_type": "code",
   "id": "0bb2a20d-29a0-4d25-b9d4-f4e81db755fb",
   "metadata": {
    "editable": true,
    "slideshow": {
     "slide_type": ""
    },
    "tags": [],
    "ExecuteTime": {
     "end_time": "2024-08-21T05:50:12.157357Z",
     "start_time": "2024-08-21T05:50:12.153781Z"
    }
   },
   "source": [
    "# Configure LlamaIndex\n",
    "from llama_index.core import Settings\n",
    "from llama_index.embeddings.llamafile import LlamafileEmbedding\n",
    "from llama_index.llms.llamafile import Llamafile\n",
    "from llama_index.core.node_parser import SentenceSplitter\n",
    "\n",
    "#configure object to encode text into vector using started endpoint\n",
    "Settings.embed_model = LlamafileEmbedding(base_url=\"http://localhost:8080\")\n",
    "\n",
    "#configure object that will use model endpoint\n",
    "Settings.llm = Llamafile(\n",
    "    base_url=\"http://localhost:8080\",\n",
    "    temperature=0,\n",
    "    seed=0\n",
    ")\n",
    "\n",
    "#configure split text to chunks \n",
    "Settings.transformations = [\n",
    "    SentenceSplitter(\n",
    "        chunk_size=256, \n",
    "        chunk_overlap=5\n",
    "    )\n",
    "]"
   ],
   "outputs": [],
   "execution_count": 17
  },
  {
   "cell_type": "code",
   "id": "39296b12-a3cb-4ed5-9d1a-68fab3954a31",
   "metadata": {
    "editable": true,
    "slideshow": {
     "slide_type": ""
    },
    "tags": [],
    "ExecuteTime": {
     "end_time": "2024-08-21T05:50:12.214738Z",
     "start_time": "2024-08-21T05:50:12.206757Z"
    }
   },
   "source": [
    "# Load local data with some cryptocurrencies descriptions\n",
    "from llama_index.core import SimpleDirectoryReader\n",
    "# create reader for local documents\n",
    "local_doc_reader = SimpleDirectoryReader(input_dir='./data/cryptocurrency_wikipedia')\n",
    "# create collection that will contain all documents used for retrieval\n",
    "docs = local_doc_reader.load_data(show_progress=True)"
   ],
   "outputs": [
    {
     "name": "stderr",
     "output_type": "stream",
     "text": [
      "\n",
      "Loading files: 100%|██████████| 3/3 [00:00<00:00, 2713.59file/s]\n"
     ]
    }
   ],
   "execution_count": 18
  },
  {
   "cell_type": "code",
   "id": "a4b84695-bce8-4875-a73f-cbb05b61a1ea",
   "metadata": {
    "editable": true,
    "slideshow": {
     "slide_type": ""
    },
    "tags": [],
    "ExecuteTime": {
     "end_time": "2024-08-21T05:50:13.629136Z",
     "start_time": "2024-08-21T05:50:12.270591Z"
    }
   },
   "source": [
    "# Add Wikipedia pages\n",
    "from llama_index.readers.web import SimpleWebPageReader\n",
    "urls = [\n",
    "    'https://en.wikipedia.org/wiki/Bitcoin',\n",
    "    'https://en.wikipedia.org/wiki/Ethereum',\n",
    "    'https://en.wikipedia.org/wiki/Dogecoin'\n",
    "]\n",
    "# create reader that can fetch websites content\n",
    "web_reader = SimpleWebPageReader(html_to_text=True)\n",
    "# add fetched content to docs collection\n",
    "docs.extend(web_reader.load_data(urls))"
   ],
   "outputs": [],
   "execution_count": 19
  },
  {
   "cell_type": "code",
   "id": "b69bd884-bd9d-4a9e-8eab-ab75b4609460",
   "metadata": {
    "editable": true,
    "slideshow": {
     "slide_type": ""
    },
    "tags": [],
    "jupyter": {
     "is_executing": true
    },
    "ExecuteTime": {
     "start_time": "2024-08-21T05:50:13.636349Z"
    }
   },
   "source": [
    "from llama_index.core import VectorStoreIndex\n",
    "\n",
    "# create index storage with embedded documents\n",
    "index = VectorStoreIndex.from_documents(\n",
    "    docs,\n",
    "    show_progress=True,\n",
    ")\n",
    "\n",
    "# dump storage locally\n",
    "index.storage_context.persist(persist_dir=\"./storage\")"
   ],
   "outputs": [
    {
     "data": {
      "text/plain": [
       "Parsing nodes:   0%|          | 0/6 [00:00<?, ?it/s]"
      ],
      "application/vnd.jupyter.widget-view+json": {
       "version_major": 2,
       "version_minor": 0,
       "model_id": "5bc0aa612bc748eb904800422bb5fab6"
      }
     },
     "metadata": {},
     "output_type": "display_data"
    },
    {
     "data": {
      "text/plain": [
       "Generating embeddings:   0%|          | 0/545 [00:00<?, ?it/s]"
      ],
      "application/vnd.jupyter.widget-view+json": {
       "version_major": 2,
       "version_minor": 0,
       "model_id": "e70acc2aff5b4850862479d2156c28b7"
      }
     },
     "metadata": {},
     "output_type": "display_data"
    }
   ],
   "execution_count": null
  },
  {
   "metadata": {
    "ExecuteTime": {
     "end_time": "2024-08-21T05:48:02.461476296Z",
     "start_time": "2024-08-21T05:46:29.715767Z"
    }
   },
   "cell_type": "code",
   "source": [
    "# create query type engine to ask questions to llm providing documents from index\n",
    "query_engine = index.as_query_engine()\n",
    "# ask questions about data from storage\n",
    "print(query_engine.query(\"What is coinye?\"))"
   ],
   "id": "7f3a7fd326fcb070",
   "outputs": [
    {
     "ename": "NameError",
     "evalue": "name 'index' is not defined",
     "output_type": "error",
     "traceback": [
      "\u001B[0;31m---------------------------------------------------------------------------\u001B[0m",
      "\u001B[0;31mNameError\u001B[0m                                 Traceback (most recent call last)",
      "Cell \u001B[0;32mIn[10], line 2\u001B[0m\n\u001B[1;32m      1\u001B[0m \u001B[38;5;66;03m# create query type engine to ask questions to llm providing documents from index\u001B[39;00m\n\u001B[0;32m----> 2\u001B[0m query_engine \u001B[38;5;241m=\u001B[39m index\u001B[38;5;241m.\u001B[39mas_query_engine()\n\u001B[1;32m      3\u001B[0m \u001B[38;5;28mprint\u001B[39m(query_engine\u001B[38;5;241m.\u001B[39mquery(\u001B[38;5;124m\"\u001B[39m\u001B[38;5;124mWhat is revenue?\u001B[39m\u001B[38;5;124m\"\u001B[39m))\n",
      "\u001B[0;31mNameError\u001B[0m: name 'index' is not defined"
     ]
    }
   ],
   "execution_count": 10
  },
  {
   "metadata": {},
   "cell_type": "code",
   "outputs": [],
   "execution_count": null,
   "source": "print(query_engine.query(\"Who created dodgecoin?\"))",
   "id": "a6c9c97063254c4f"
  },
  {
   "metadata": {},
   "cell_type": "code",
   "outputs": [],
   "execution_count": null,
   "source": "print(query_engine.query(\"Is bitcoin stable?\"))",
   "id": "bf3b44d0ee7ad982"
  }
 ],
 "metadata": {
  "kernelspec": {
   "display_name": "Python 3 (ipykernel)",
   "language": "python",
   "name": "python3"
  },
  "language_info": {
   "codemirror_mode": {
    "name": "ipython",
    "version": 3
   },
   "file_extension": ".py",
   "mimetype": "text/x-python",
   "name": "python",
   "nbconvert_exporter": "python",
   "pygments_lexer": "ipython3",
   "version": "3.11.7"
  }
 },
 "nbformat": 4,
 "nbformat_minor": 5
}
