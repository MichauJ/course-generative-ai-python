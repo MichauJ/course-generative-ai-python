{
 "cells": [
  {
   "metadata": {},
   "cell_type": "markdown",
   "source": [
    "# Example of using Llamaindex framework for Retrieval Augmented Generation\n",
    "This notebook shows how to run Llamaindex framework locally to create virtual AI assistant based on RAG (Retrieval Augmented Generation).\n",
    "For dataset to search for source information wikipedia articles about cryptocurrencies were used."
   ],
   "id": "70d30ca2d5a1c40"
  },
  {
   "cell_type": "markdown",
   "id": "1c909ec1-0a86-48a2-8411-f038788662d0",
   "metadata": {
    "editable": true,
    "slideshow": {
     "slide_type": ""
    },
    "tags": []
   },
   "source": [
    "## Llamaindex setup\n",
    "### Download llamafile\n",
    "Download the llamafile with model. Llamafile can contain any LLM. Framework enabled to run it as a local server and use via API. \n",
    "TinyLlama-1.1B-Chat-v1.0 model is used for purpose of this example\n",
    "\n",
    "`wget https://huggingface.co/Mozilla/TinyLlama-1.1B-Chat-v1.0-llamafile/resolve/main/TinyLlama-1.1B-Chat-v1.0.Q5_K_M.llamafile?download=true`\n",
    "\n",
    "Make executable \n",
    "\n",
    "`chmod +x TinyLlama-1.1B-Chat-v1.0.Q5_K_M.llamafile`\n",
    "\n",
    "Run in server mode\n",
    "\n",
    "`./TinyLlama-1.1B-Chat-v1.0.Q5_K_M.llamafile --server --nobrowser --embedding --port 8081`"
   ]
  },
  {
   "metadata": {},
   "cell_type": "markdown",
   "source": "### Install Llamaindex Python library",
   "id": "134d68a367f51f2f"
  },
  {
   "cell_type": "code",
   "id": "0cb0a872-57d2-437b-ba7f-0dc5d47d02b0",
   "metadata": {
    "editable": true,
    "slideshow": {
     "slide_type": ""
    },
    "tags": []
   },
   "source": [
    "# Install llama-index\n",
    "!pip install llama-index \n",
    "# Install llamafile integrations and SimpleWebPageReader\n",
    "!pip install llama-index-embeddings-llamafile llama-index-llms-llamafile llama-index-readers-web"
   ],
   "outputs": [],
   "execution_count": null
  },
  {
   "metadata": {},
   "cell_type": "markdown",
   "source": "## Configuration",
   "id": "6f933ce6a118071d"
  },
  {
   "cell_type": "code",
   "id": "0bb2a20d-29a0-4d25-b9d4-f4e81db755fb",
   "metadata": {
    "editable": true,
    "slideshow": {
     "slide_type": ""
    },
    "tags": []
   },
   "source": [
    "# Configure LlamaIndex\n",
    "from llama_index.core import Settings\n",
    "from llama_index.embeddings.llamafile import LlamafileEmbedding\n",
    "from llama_index.llms.llamafile import Llamafile\n",
    "from llama_index.core.node_parser import SentenceSplitter\n",
    "\n",
    "#configure object to encode text into vector using started endpoint\n",
    "Settings.embed_model = LlamafileEmbedding(base_url=\"http://localhost:8081\")\n",
    "\n",
    "#configure object that will use model endpoint\n",
    "Settings.llm = Llamafile(\n",
    "    base_url=\"http://localhost:8081\",\n",
    "    temperature=0,\n",
    "    seed=0\n",
    ")\n",
    "\n",
    "#configure split text to chunks \n",
    "Settings.transformations = [\n",
    "    SentenceSplitter(\n",
    "        chunk_size=256, \n",
    "        chunk_overlap=5\n",
    "    )\n",
    "]"
   ],
   "outputs": [],
   "execution_count": null
  },
  {
   "cell_type": "code",
   "id": "39296b12-a3cb-4ed5-9d1a-68fab3954a31",
   "metadata": {
    "editable": true,
    "slideshow": {
     "slide_type": ""
    },
    "tags": []
   },
   "source": [
    "# Load local data with some cryptocurrencies descriptions\n",
    "from llama_index.core import SimpleDirectoryReader\n",
    "# create reader for local documents\n",
    "local_doc_reader = SimpleDirectoryReader(input_dir='./data/cryptocurrency_wikipedia')\n",
    "# create collection that will contain all documents used for retrieval\n",
    "docs = local_doc_reader.load_data(show_progress=True)"
   ],
   "outputs": [],
   "execution_count": null
  },
  {
   "cell_type": "code",
   "id": "a4b84695-bce8-4875-a73f-cbb05b61a1ea",
   "metadata": {
    "editable": true,
    "slideshow": {
     "slide_type": ""
    },
    "tags": []
   },
   "source": [
    "# Add Wikipedia pages\n",
    "from llama_index.readers.web import SimpleWebPageReader\n",
    "urls = [\n",
    "    'https://en.wikipedia.org/wiki/Bitcoin',\n",
    "    'https://en.wikipedia.org/wiki/Ethereum',\n",
    "    'https://en.wikipedia.org/wiki/Dogecoin'\n",
    "]\n",
    "# create reader that can fetch websites content\n",
    "web_reader = SimpleWebPageReader(html_to_text=True)\n",
    "# add fetched content to docs collection\n",
    "docs.extend(web_reader.load_data(urls))"
   ],
   "outputs": [],
   "execution_count": null
  },
  {
   "cell_type": "code",
   "id": "b69bd884-bd9d-4a9e-8eab-ab75b4609460",
   "metadata": {
    "editable": true,
    "slideshow": {
     "slide_type": ""
    },
    "tags": []
   },
   "source": [
    "from llama_index.core import VectorStoreIndex\n",
    "\n",
    "# create index storage with embedded documents\n",
    "index = VectorStoreIndex.from_documents(\n",
    "    docs,\n",
    "    show_progress=True,\n",
    ")\n",
    "\n",
    "# dump storage locally\n",
    "index.storage_context.persist(persist_dir=\"./storage\")"
   ],
   "outputs": [],
   "execution_count": null
  },
  {
   "metadata": {},
   "cell_type": "code",
   "source": [
    "# create query type engine to ask questions to llm providing documents from index\n",
    "query_engine = index.as_query_engine()\n",
    "# ask questions about data from storage\n",
    "print(query_engine.query(\"What is Coinye?\"))"
   ],
   "id": "7f3a7fd326fcb070",
   "outputs": [],
   "execution_count": null
  },
  {
   "metadata": {},
   "cell_type": "code",
   "source": "print(query_engine.query(\"Is Dogecoin stable?\"))",
   "id": "a6c9c97063254c4f",
   "outputs": [],
   "execution_count": null
  },
  {
   "metadata": {},
   "cell_type": "code",
   "source": "print(query_engine.query(\"Is Bitcoin good for environment?\"))",
   "id": "bf3b44d0ee7ad982",
   "outputs": [],
   "execution_count": null
  }
 ],
 "metadata": {
  "kernelspec": {
   "display_name": "Python 3 (ipykernel)",
   "language": "python",
   "name": "python3"
  },
  "language_info": {
   "codemirror_mode": {
    "name": "ipython",
    "version": 3
   },
   "file_extension": ".py",
   "mimetype": "text/x-python",
   "name": "python",
   "nbconvert_exporter": "python",
   "pygments_lexer": "ipython3",
   "version": "3.11.7"
  }
 },
 "nbformat": 4,
 "nbformat_minor": 5
}
