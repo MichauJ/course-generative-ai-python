{
 "cells": [
  {
   "cell_type": "markdown",
   "id": "1c909ec1-0a86-48a2-8411-f038788662d0",
   "metadata": {
    "editable": true,
    "slideshow": {
     "slide_type": ""
    },
    "tags": []
   },
   "source": [
    "\n",
    "```bash\n",
    "# 1. Download the llamafile-ized model\n",
    "wget https://huggingface.co/jartine/TinyLlama-1.1B-Chat-v1.0-GGUF/resolve/main/TinyLlama-1.1B-Chat-v1.0.Q5_K_M.llamafile\n",
    "\n",
    "# 2. Make executable \n",
    "chmod +x TinyLlama-1.1B-Chat-v1.0.Q5_K_M.llamafile\n",
    "\n",
    "# 3. Run in server mode\n",
    "./TinyLlama-1.1B-Chat-v1.0.Q5_K_M.llamafile --server --nobrowser --embedding --port 8080\n",
    "```"
   ]
  },
  {
   "cell_type": "code",
   "id": "0cb0a872-57d2-437b-ba7f-0dc5d47d02b0",
   "metadata": {
    "editable": true,
    "slideshow": {
     "slide_type": ""
    },
    "tags": [],
    "ExecuteTime": {
     "end_time": "2024-08-20T19:59:40.604123Z",
     "start_time": "2024-08-20T19:59:15.931275Z"
    }
   },
   "source": [
    "# Install llama-index\n",
    "!pip install llama-index-core\n",
    "# Install llamafile integrations and SimpleWebPageReader\n",
    "!pip install llama-index-embeddings-llamafile llama-index-llms-llamafile llama-index-readers-web\n",
    "!pip install llama-index "
   ],
   "outputs": [
    {
     "name": "stdout",
     "output_type": "stream",
     "text": [
      "Requirement already satisfied: llama-index-core in /home/michal/anaconda3/lib/python3.11/site-packages (0.10.67)\r\n",
      "Requirement already satisfied: PyYAML>=6.0.1 in /home/michal/anaconda3/lib/python3.11/site-packages (from llama-index-core) (6.0.1)\r\n",
      "Requirement already satisfied: SQLAlchemy>=1.4.49 in /home/michal/anaconda3/lib/python3.11/site-packages (from SQLAlchemy[asyncio]>=1.4.49->llama-index-core) (1.4.52)\r\n",
      "Requirement already satisfied: aiohttp<4.0.0,>=3.8.6 in /home/michal/anaconda3/lib/python3.11/site-packages (from llama-index-core) (3.9.3)\r\n",
      "Requirement already satisfied: dataclasses-json in /home/michal/anaconda3/lib/python3.11/site-packages (from llama-index-core) (0.6.4)\r\n",
      "Requirement already satisfied: deprecated>=1.2.9.3 in /home/michal/anaconda3/lib/python3.11/site-packages (from llama-index-core) (1.2.14)\r\n",
      "Requirement already satisfied: dirtyjson<2.0.0,>=1.0.8 in /home/michal/anaconda3/lib/python3.11/site-packages (from llama-index-core) (1.0.8)\r\n",
      "Requirement already satisfied: fsspec>=2023.5.0 in /home/michal/anaconda3/lib/python3.11/site-packages (from llama-index-core) (2023.10.0)\r\n",
      "Requirement already satisfied: httpx in /home/michal/anaconda3/lib/python3.11/site-packages (from llama-index-core) (0.27.0)\r\n",
      "Requirement already satisfied: nest-asyncio<2.0.0,>=1.5.8 in /home/michal/anaconda3/lib/python3.11/site-packages (from llama-index-core) (1.6.0)\r\n",
      "Requirement already satisfied: networkx>=3.0 in /home/michal/anaconda3/lib/python3.11/site-packages (from llama-index-core) (3.1)\r\n",
      "Requirement already satisfied: nltk!=3.9,>=3.8.1 in /home/michal/anaconda3/lib/python3.11/site-packages (from llama-index-core) (3.8.1)\r\n",
      "Requirement already satisfied: numpy<2.0.0 in /home/michal/anaconda3/lib/python3.11/site-packages (from llama-index-core) (1.26.4)\r\n",
      "Requirement already satisfied: openai>=1.1.0 in /home/michal/anaconda3/lib/python3.11/site-packages (from llama-index-core) (1.23.3)\r\n",
      "Requirement already satisfied: pandas in /home/michal/anaconda3/lib/python3.11/site-packages (from llama-index-core) (1.5.3)\r\n",
      "Requirement already satisfied: pillow>=9.0.0 in /home/michal/anaconda3/lib/python3.11/site-packages (from llama-index-core) (10.2.0)\r\n",
      "Requirement already satisfied: requests>=2.31.0 in /home/michal/anaconda3/lib/python3.11/site-packages (from llama-index-core) (2.31.0)\r\n",
      "Requirement already satisfied: tenacity!=8.4.0,<9.0.0,>=8.2.0 in /home/michal/anaconda3/lib/python3.11/site-packages (from llama-index-core) (8.2.2)\r\n",
      "Requirement already satisfied: tiktoken>=0.3.3 in /home/michal/anaconda3/lib/python3.11/site-packages (from llama-index-core) (0.6.0)\r\n",
      "Requirement already satisfied: tqdm<5.0.0,>=4.66.1 in /home/michal/anaconda3/lib/python3.11/site-packages (from llama-index-core) (4.66.5)\r\n",
      "Requirement already satisfied: typing-extensions>=4.5.0 in /home/michal/anaconda3/lib/python3.11/site-packages (from llama-index-core) (4.11.0)\r\n",
      "Requirement already satisfied: typing-inspect>=0.8.0 in /home/michal/anaconda3/lib/python3.11/site-packages (from llama-index-core) (0.9.0)\r\n",
      "Requirement already satisfied: wrapt in /home/michal/anaconda3/lib/python3.11/site-packages (from llama-index-core) (1.14.1)\r\n",
      "Requirement already satisfied: aiosignal>=1.1.2 in /home/michal/anaconda3/lib/python3.11/site-packages (from aiohttp<4.0.0,>=3.8.6->llama-index-core) (1.2.0)\r\n",
      "Requirement already satisfied: attrs>=17.3.0 in /home/michal/anaconda3/lib/python3.11/site-packages (from aiohttp<4.0.0,>=3.8.6->llama-index-core) (24.2.0)\r\n",
      "Requirement already satisfied: frozenlist>=1.1.1 in /home/michal/anaconda3/lib/python3.11/site-packages (from aiohttp<4.0.0,>=3.8.6->llama-index-core) (1.4.0)\r\n",
      "Requirement already satisfied: multidict<7.0,>=4.5 in /home/michal/anaconda3/lib/python3.11/site-packages (from aiohttp<4.0.0,>=3.8.6->llama-index-core) (6.0.4)\r\n",
      "Requirement already satisfied: yarl<2.0,>=1.0 in /home/michal/anaconda3/lib/python3.11/site-packages (from aiohttp<4.0.0,>=3.8.6->llama-index-core) (1.9.3)\r\n",
      "Requirement already satisfied: click in /home/michal/anaconda3/lib/python3.11/site-packages (from nltk!=3.9,>=3.8.1->llama-index-core) (8.1.7)\r\n",
      "Requirement already satisfied: joblib in /home/michal/anaconda3/lib/python3.11/site-packages (from nltk!=3.9,>=3.8.1->llama-index-core) (1.2.0)\r\n",
      "Requirement already satisfied: regex>=2021.8.3 in /home/michal/anaconda3/lib/python3.11/site-packages (from nltk!=3.9,>=3.8.1->llama-index-core) (2023.10.3)\r\n",
      "Requirement already satisfied: anyio<5,>=3.5.0 in /home/michal/anaconda3/lib/python3.11/site-packages (from openai>=1.1.0->llama-index-core) (4.2.0)\r\n",
      "Requirement already satisfied: distro<2,>=1.7.0 in /home/michal/anaconda3/lib/python3.11/site-packages (from openai>=1.1.0->llama-index-core) (1.8.0)\r\n",
      "Requirement already satisfied: pydantic<3,>=1.9.0 in /home/michal/anaconda3/lib/python3.11/site-packages (from openai>=1.1.0->llama-index-core) (1.10.12)\r\n",
      "Requirement already satisfied: sniffio in /home/michal/anaconda3/lib/python3.11/site-packages (from openai>=1.1.0->llama-index-core) (1.3.0)\r\n",
      "Requirement already satisfied: certifi in /home/michal/anaconda3/lib/python3.11/site-packages (from httpx->llama-index-core) (2024.7.4)\r\n",
      "Requirement already satisfied: httpcore==1.* in /home/michal/anaconda3/lib/python3.11/site-packages (from httpx->llama-index-core) (1.0.5)\r\n",
      "Requirement already satisfied: idna in /home/michal/anaconda3/lib/python3.11/site-packages (from httpx->llama-index-core) (3.4)\r\n",
      "Requirement already satisfied: h11<0.15,>=0.13 in /home/michal/anaconda3/lib/python3.11/site-packages (from httpcore==1.*->httpx->llama-index-core) (0.14.0)\r\n",
      "Requirement already satisfied: charset-normalizer<4,>=2 in /home/michal/anaconda3/lib/python3.11/site-packages (from requests>=2.31.0->llama-index-core) (3.3.2)\r\n",
      "Requirement already satisfied: urllib3<3,>=1.21.1 in /home/michal/anaconda3/lib/python3.11/site-packages (from requests>=2.31.0->llama-index-core) (2.0.7)\r\n",
      "Requirement already satisfied: greenlet!=0.4.17 in /home/michal/anaconda3/lib/python3.11/site-packages (from SQLAlchemy>=1.4.49->SQLAlchemy[asyncio]>=1.4.49->llama-index-core) (3.0.3)\r\n",
      "Requirement already satisfied: mypy-extensions>=0.3.0 in /home/michal/anaconda3/lib/python3.11/site-packages (from typing-inspect>=0.8.0->llama-index-core) (1.0.0)\r\n",
      "Requirement already satisfied: marshmallow<4.0.0,>=3.18.0 in /home/michal/anaconda3/lib/python3.11/site-packages (from dataclasses-json->llama-index-core) (3.21.1)\r\n",
      "Requirement already satisfied: python-dateutil>=2.8.1 in /home/michal/anaconda3/lib/python3.11/site-packages (from pandas->llama-index-core) (2.8.2)\r\n",
      "Requirement already satisfied: pytz>=2020.1 in /home/michal/anaconda3/lib/python3.11/site-packages (from pandas->llama-index-core) (2023.3.post1)\r\n",
      "Requirement already satisfied: packaging>=17.0 in /home/michal/anaconda3/lib/python3.11/site-packages (from marshmallow<4.0.0,>=3.18.0->dataclasses-json->llama-index-core) (23.2)\r\n",
      "Requirement already satisfied: six>=1.5 in /home/michal/anaconda3/lib/python3.11/site-packages (from python-dateutil>=2.8.1->pandas->llama-index-core) (1.16.0)\r\n",
      "Requirement already satisfied: llama-index-embeddings-llamafile in /home/michal/anaconda3/lib/python3.11/site-packages (0.1.2)\r\n",
      "Requirement already satisfied: llama-index-llms-llamafile in /home/michal/anaconda3/lib/python3.11/site-packages (0.1.2)\r\n",
      "Requirement already satisfied: llama-index-readers-web in /home/michal/anaconda3/lib/python3.11/site-packages (0.1.23)\r\n",
      "Requirement already satisfied: llama-index-core<0.11.0,>=0.10.1 in /home/michal/anaconda3/lib/python3.11/site-packages (from llama-index-embeddings-llamafile) (0.10.67)\r\n",
      "Requirement already satisfied: aiohttp<4.0.0,>=3.9.1 in /home/michal/anaconda3/lib/python3.11/site-packages (from llama-index-readers-web) (3.9.3)\r\n",
      "Requirement already satisfied: beautifulsoup4<5.0.0,>=4.12.3 in /home/michal/anaconda3/lib/python3.11/site-packages (from llama-index-readers-web) (4.12.3)\r\n",
      "Requirement already satisfied: chromedriver-autoinstaller<0.7.0,>=0.6.3 in /home/michal/anaconda3/lib/python3.11/site-packages (from llama-index-readers-web) (0.6.4)\r\n",
      "Requirement already satisfied: html2text<2025.0.0,>=2024.2.26 in /home/michal/anaconda3/lib/python3.11/site-packages (from llama-index-readers-web) (2024.2.26)\r\n",
      "Requirement already satisfied: newspaper3k<0.3.0,>=0.2.8 in /home/michal/anaconda3/lib/python3.11/site-packages (from llama-index-readers-web) (0.2.8)\r\n",
      "Requirement already satisfied: playwright<2.0,>=1.30 in /home/michal/anaconda3/lib/python3.11/site-packages (from llama-index-readers-web) (1.46.0)\r\n",
      "Requirement already satisfied: requests<3.0.0,>=2.31.0 in /home/michal/anaconda3/lib/python3.11/site-packages (from llama-index-readers-web) (2.31.0)\r\n",
      "Requirement already satisfied: selenium<5.0.0,>=4.17.2 in /home/michal/anaconda3/lib/python3.11/site-packages (from llama-index-readers-web) (4.23.1)\r\n",
      "Requirement already satisfied: spider-client<0.0.28,>=0.0.27 in /home/michal/anaconda3/lib/python3.11/site-packages (from llama-index-readers-web) (0.0.27)\r\n",
      "Requirement already satisfied: urllib3>=1.1.0 in /home/michal/anaconda3/lib/python3.11/site-packages (from llama-index-readers-web) (2.0.7)\r\n",
      "Requirement already satisfied: aiosignal>=1.1.2 in /home/michal/anaconda3/lib/python3.11/site-packages (from aiohttp<4.0.0,>=3.9.1->llama-index-readers-web) (1.2.0)\r\n",
      "Requirement already satisfied: attrs>=17.3.0 in /home/michal/anaconda3/lib/python3.11/site-packages (from aiohttp<4.0.0,>=3.9.1->llama-index-readers-web) (24.2.0)\r\n",
      "Requirement already satisfied: frozenlist>=1.1.1 in /home/michal/anaconda3/lib/python3.11/site-packages (from aiohttp<4.0.0,>=3.9.1->llama-index-readers-web) (1.4.0)\r\n",
      "Requirement already satisfied: multidict<7.0,>=4.5 in /home/michal/anaconda3/lib/python3.11/site-packages (from aiohttp<4.0.0,>=3.9.1->llama-index-readers-web) (6.0.4)\r\n",
      "Requirement already satisfied: yarl<2.0,>=1.0 in /home/michal/anaconda3/lib/python3.11/site-packages (from aiohttp<4.0.0,>=3.9.1->llama-index-readers-web) (1.9.3)\r\n",
      "Requirement already satisfied: soupsieve>1.2 in /home/michal/anaconda3/lib/python3.11/site-packages (from beautifulsoup4<5.0.0,>=4.12.3->llama-index-readers-web) (2.5)\r\n",
      "Requirement already satisfied: packaging>=23.1 in /home/michal/anaconda3/lib/python3.11/site-packages (from chromedriver-autoinstaller<0.7.0,>=0.6.3->llama-index-readers-web) (23.2)\r\n",
      "Requirement already satisfied: PyYAML>=6.0.1 in /home/michal/anaconda3/lib/python3.11/site-packages (from llama-index-core<0.11.0,>=0.10.1->llama-index-embeddings-llamafile) (6.0.1)\r\n",
      "Requirement already satisfied: SQLAlchemy>=1.4.49 in /home/michal/anaconda3/lib/python3.11/site-packages (from SQLAlchemy[asyncio]>=1.4.49->llama-index-core<0.11.0,>=0.10.1->llama-index-embeddings-llamafile) (1.4.52)\r\n",
      "Requirement already satisfied: dataclasses-json in /home/michal/anaconda3/lib/python3.11/site-packages (from llama-index-core<0.11.0,>=0.10.1->llama-index-embeddings-llamafile) (0.6.4)\r\n",
      "Requirement already satisfied: deprecated>=1.2.9.3 in /home/michal/anaconda3/lib/python3.11/site-packages (from llama-index-core<0.11.0,>=0.10.1->llama-index-embeddings-llamafile) (1.2.14)\r\n",
      "Requirement already satisfied: dirtyjson<2.0.0,>=1.0.8 in /home/michal/anaconda3/lib/python3.11/site-packages (from llama-index-core<0.11.0,>=0.10.1->llama-index-embeddings-llamafile) (1.0.8)\r\n",
      "Requirement already satisfied: fsspec>=2023.5.0 in /home/michal/anaconda3/lib/python3.11/site-packages (from llama-index-core<0.11.0,>=0.10.1->llama-index-embeddings-llamafile) (2023.10.0)\r\n",
      "Requirement already satisfied: httpx in /home/michal/anaconda3/lib/python3.11/site-packages (from llama-index-core<0.11.0,>=0.10.1->llama-index-embeddings-llamafile) (0.27.0)\r\n",
      "Requirement already satisfied: nest-asyncio<2.0.0,>=1.5.8 in /home/michal/anaconda3/lib/python3.11/site-packages (from llama-index-core<0.11.0,>=0.10.1->llama-index-embeddings-llamafile) (1.6.0)\r\n",
      "Requirement already satisfied: networkx>=3.0 in /home/michal/anaconda3/lib/python3.11/site-packages (from llama-index-core<0.11.0,>=0.10.1->llama-index-embeddings-llamafile) (3.1)\r\n",
      "Requirement already satisfied: nltk!=3.9,>=3.8.1 in /home/michal/anaconda3/lib/python3.11/site-packages (from llama-index-core<0.11.0,>=0.10.1->llama-index-embeddings-llamafile) (3.8.1)\r\n",
      "Requirement already satisfied: numpy<2.0.0 in /home/michal/anaconda3/lib/python3.11/site-packages (from llama-index-core<0.11.0,>=0.10.1->llama-index-embeddings-llamafile) (1.26.4)\r\n",
      "Requirement already satisfied: openai>=1.1.0 in /home/michal/anaconda3/lib/python3.11/site-packages (from llama-index-core<0.11.0,>=0.10.1->llama-index-embeddings-llamafile) (1.23.3)\r\n",
      "Requirement already satisfied: pandas in /home/michal/anaconda3/lib/python3.11/site-packages (from llama-index-core<0.11.0,>=0.10.1->llama-index-embeddings-llamafile) (1.5.3)\r\n",
      "Requirement already satisfied: pillow>=9.0.0 in /home/michal/anaconda3/lib/python3.11/site-packages (from llama-index-core<0.11.0,>=0.10.1->llama-index-embeddings-llamafile) (10.2.0)\r\n",
      "Requirement already satisfied: tenacity!=8.4.0,<9.0.0,>=8.2.0 in /home/michal/anaconda3/lib/python3.11/site-packages (from llama-index-core<0.11.0,>=0.10.1->llama-index-embeddings-llamafile) (8.2.2)\r\n",
      "Requirement already satisfied: tiktoken>=0.3.3 in /home/michal/anaconda3/lib/python3.11/site-packages (from llama-index-core<0.11.0,>=0.10.1->llama-index-embeddings-llamafile) (0.6.0)\r\n",
      "Requirement already satisfied: tqdm<5.0.0,>=4.66.1 in /home/michal/anaconda3/lib/python3.11/site-packages (from llama-index-core<0.11.0,>=0.10.1->llama-index-embeddings-llamafile) (4.66.5)\r\n",
      "Requirement already satisfied: typing-extensions>=4.5.0 in /home/michal/anaconda3/lib/python3.11/site-packages (from llama-index-core<0.11.0,>=0.10.1->llama-index-embeddings-llamafile) (4.11.0)\r\n",
      "Requirement already satisfied: typing-inspect>=0.8.0 in /home/michal/anaconda3/lib/python3.11/site-packages (from llama-index-core<0.11.0,>=0.10.1->llama-index-embeddings-llamafile) (0.9.0)\r\n",
      "Requirement already satisfied: wrapt in /home/michal/anaconda3/lib/python3.11/site-packages (from llama-index-core<0.11.0,>=0.10.1->llama-index-embeddings-llamafile) (1.14.1)\r\n",
      "Requirement already satisfied: cssselect>=0.9.2 in /home/michal/anaconda3/lib/python3.11/site-packages (from newspaper3k<0.3.0,>=0.2.8->llama-index-readers-web) (1.2.0)\r\n",
      "Requirement already satisfied: lxml>=3.6.0 in /home/michal/anaconda3/lib/python3.11/site-packages (from newspaper3k<0.3.0,>=0.2.8->llama-index-readers-web) (5.3.0)\r\n",
      "Requirement already satisfied: feedparser>=5.2.1 in /home/michal/anaconda3/lib/python3.11/site-packages (from newspaper3k<0.3.0,>=0.2.8->llama-index-readers-web) (6.0.11)\r\n",
      "Requirement already satisfied: tldextract>=2.0.1 in /home/michal/anaconda3/lib/python3.11/site-packages (from newspaper3k<0.3.0,>=0.2.8->llama-index-readers-web) (3.2.0)\r\n",
      "Requirement already satisfied: feedfinder2>=0.0.4 in /home/michal/anaconda3/lib/python3.11/site-packages (from newspaper3k<0.3.0,>=0.2.8->llama-index-readers-web) (0.0.4)\r\n",
      "Requirement already satisfied: jieba3k>=0.35.1 in /home/michal/anaconda3/lib/python3.11/site-packages (from newspaper3k<0.3.0,>=0.2.8->llama-index-readers-web) (0.35.1)\r\n",
      "Requirement already satisfied: python-dateutil>=2.5.3 in /home/michal/anaconda3/lib/python3.11/site-packages (from newspaper3k<0.3.0,>=0.2.8->llama-index-readers-web) (2.8.2)\r\n",
      "Requirement already satisfied: tinysegmenter==0.3 in /home/michal/anaconda3/lib/python3.11/site-packages (from newspaper3k<0.3.0,>=0.2.8->llama-index-readers-web) (0.3)\r\n",
      "Requirement already satisfied: greenlet==3.0.3 in /home/michal/anaconda3/lib/python3.11/site-packages (from playwright<2.0,>=1.30->llama-index-readers-web) (3.0.3)\r\n",
      "Requirement already satisfied: pyee==11.1.0 in /home/michal/anaconda3/lib/python3.11/site-packages (from playwright<2.0,>=1.30->llama-index-readers-web) (11.1.0)\r\n",
      "Requirement already satisfied: charset-normalizer<4,>=2 in /home/michal/anaconda3/lib/python3.11/site-packages (from requests<3.0.0,>=2.31.0->llama-index-readers-web) (3.3.2)\r\n",
      "Requirement already satisfied: idna<4,>=2.5 in /home/michal/anaconda3/lib/python3.11/site-packages (from requests<3.0.0,>=2.31.0->llama-index-readers-web) (3.4)\r\n",
      "Requirement already satisfied: certifi>=2017.4.17 in /home/michal/anaconda3/lib/python3.11/site-packages (from requests<3.0.0,>=2.31.0->llama-index-readers-web) (2024.7.4)\r\n",
      "Requirement already satisfied: trio~=0.17 in /home/michal/anaconda3/lib/python3.11/site-packages (from selenium<5.0.0,>=4.17.2->llama-index-readers-web) (0.26.2)\r\n",
      "Requirement already satisfied: trio-websocket~=0.9 in /home/michal/anaconda3/lib/python3.11/site-packages (from selenium<5.0.0,>=4.17.2->llama-index-readers-web) (0.11.1)\r\n",
      "Requirement already satisfied: websocket-client~=1.8 in /home/michal/anaconda3/lib/python3.11/site-packages (from selenium<5.0.0,>=4.17.2->llama-index-readers-web) (1.8.0)\r\n",
      "Requirement already satisfied: six in /home/michal/anaconda3/lib/python3.11/site-packages (from feedfinder2>=0.0.4->newspaper3k<0.3.0,>=0.2.8->llama-index-readers-web) (1.16.0)\r\n",
      "Requirement already satisfied: sgmllib3k in /home/michal/anaconda3/lib/python3.11/site-packages (from feedparser>=5.2.1->newspaper3k<0.3.0,>=0.2.8->llama-index-readers-web) (1.0.0)\r\n",
      "Requirement already satisfied: click in /home/michal/anaconda3/lib/python3.11/site-packages (from nltk!=3.9,>=3.8.1->llama-index-core<0.11.0,>=0.10.1->llama-index-embeddings-llamafile) (8.1.7)\r\n",
      "Requirement already satisfied: joblib in /home/michal/anaconda3/lib/python3.11/site-packages (from nltk!=3.9,>=3.8.1->llama-index-core<0.11.0,>=0.10.1->llama-index-embeddings-llamafile) (1.2.0)\r\n",
      "Requirement already satisfied: regex>=2021.8.3 in /home/michal/anaconda3/lib/python3.11/site-packages (from nltk!=3.9,>=3.8.1->llama-index-core<0.11.0,>=0.10.1->llama-index-embeddings-llamafile) (2023.10.3)\r\n",
      "Requirement already satisfied: anyio<5,>=3.5.0 in /home/michal/anaconda3/lib/python3.11/site-packages (from openai>=1.1.0->llama-index-core<0.11.0,>=0.10.1->llama-index-embeddings-llamafile) (4.2.0)\r\n",
      "Requirement already satisfied: distro<2,>=1.7.0 in /home/michal/anaconda3/lib/python3.11/site-packages (from openai>=1.1.0->llama-index-core<0.11.0,>=0.10.1->llama-index-embeddings-llamafile) (1.8.0)\r\n",
      "Requirement already satisfied: pydantic<3,>=1.9.0 in /home/michal/anaconda3/lib/python3.11/site-packages (from openai>=1.1.0->llama-index-core<0.11.0,>=0.10.1->llama-index-embeddings-llamafile) (1.10.12)\r\n",
      "Requirement already satisfied: sniffio in /home/michal/anaconda3/lib/python3.11/site-packages (from openai>=1.1.0->llama-index-core<0.11.0,>=0.10.1->llama-index-embeddings-llamafile) (1.3.0)\r\n",
      "Requirement already satisfied: httpcore==1.* in /home/michal/anaconda3/lib/python3.11/site-packages (from httpx->llama-index-core<0.11.0,>=0.10.1->llama-index-embeddings-llamafile) (1.0.5)\r\n",
      "Requirement already satisfied: h11<0.15,>=0.13 in /home/michal/anaconda3/lib/python3.11/site-packages (from httpcore==1.*->httpx->llama-index-core<0.11.0,>=0.10.1->llama-index-embeddings-llamafile) (0.14.0)\r\n",
      "Requirement already satisfied: requests-file>=1.4 in /home/michal/anaconda3/lib/python3.11/site-packages (from tldextract>=2.0.1->newspaper3k<0.3.0,>=0.2.8->llama-index-readers-web) (1.5.1)\r\n",
      "Requirement already satisfied: filelock>=3.0.8 in /home/michal/anaconda3/lib/python3.11/site-packages (from tldextract>=2.0.1->newspaper3k<0.3.0,>=0.2.8->llama-index-readers-web) (3.13.1)\r\n",
      "Requirement already satisfied: sortedcontainers in /home/michal/anaconda3/lib/python3.11/site-packages (from trio~=0.17->selenium<5.0.0,>=4.17.2->llama-index-readers-web) (2.4.0)\r\n",
      "Requirement already satisfied: outcome in /home/michal/anaconda3/lib/python3.11/site-packages (from trio~=0.17->selenium<5.0.0,>=4.17.2->llama-index-readers-web) (1.3.0.post0)\r\n",
      "Requirement already satisfied: wsproto>=0.14 in /home/michal/anaconda3/lib/python3.11/site-packages (from trio-websocket~=0.9->selenium<5.0.0,>=4.17.2->llama-index-readers-web) (1.2.0)\r\n",
      "Requirement already satisfied: mypy-extensions>=0.3.0 in /home/michal/anaconda3/lib/python3.11/site-packages (from typing-inspect>=0.8.0->llama-index-core<0.11.0,>=0.10.1->llama-index-embeddings-llamafile) (1.0.0)\r\n",
      "Requirement already satisfied: pysocks!=1.5.7,<2.0,>=1.5.6 in /home/michal/anaconda3/lib/python3.11/site-packages (from urllib3[socks]<3,>=1.26->selenium<5.0.0,>=4.17.2->llama-index-readers-web) (1.7.1)\r\n",
      "Requirement already satisfied: marshmallow<4.0.0,>=3.18.0 in /home/michal/anaconda3/lib/python3.11/site-packages (from dataclasses-json->llama-index-core<0.11.0,>=0.10.1->llama-index-embeddings-llamafile) (3.21.1)\r\n",
      "Requirement already satisfied: pytz>=2020.1 in /home/michal/anaconda3/lib/python3.11/site-packages (from pandas->llama-index-core<0.11.0,>=0.10.1->llama-index-embeddings-llamafile) (2023.3.post1)\r\n",
      "Collecting llama-index\r\n",
      "  Downloading llama_index-0.10.67.post1-py3-none-any.whl.metadata (11 kB)\r\n",
      "Collecting llama-index-agent-openai<0.3.0,>=0.1.4 (from llama-index)\r\n",
      "  Downloading llama_index_agent_openai-0.2.9-py3-none-any.whl.metadata (729 bytes)\r\n",
      "Collecting llama-index-cli<0.2.0,>=0.1.2 (from llama-index)\r\n",
      "  Downloading llama_index_cli-0.1.13-py3-none-any.whl.metadata (1.5 kB)\r\n",
      "Requirement already satisfied: llama-index-core<0.11.0,>=0.10.67 in /home/michal/anaconda3/lib/python3.11/site-packages (from llama-index) (0.10.67)\r\n",
      "Collecting llama-index-embeddings-openai<0.2.0,>=0.1.5 (from llama-index)\r\n",
      "  Downloading llama_index_embeddings_openai-0.1.11-py3-none-any.whl.metadata (655 bytes)\r\n",
      "Collecting llama-index-indices-managed-llama-cloud>=0.2.0 (from llama-index)\r\n",
      "  Downloading llama_index_indices_managed_llama_cloud-0.2.7-py3-none-any.whl.metadata (3.8 kB)\r\n",
      "Collecting llama-index-legacy<0.10.0,>=0.9.48 (from llama-index)\r\n",
      "  Downloading llama_index_legacy-0.9.48.post3-py3-none-any.whl.metadata (8.5 kB)\r\n",
      "Collecting llama-index-llms-openai<0.2.0,>=0.1.27 (from llama-index)\r\n",
      "  Downloading llama_index_llms_openai-0.1.29-py3-none-any.whl.metadata (650 bytes)\r\n",
      "Collecting llama-index-multi-modal-llms-openai<0.2.0,>=0.1.3 (from llama-index)\r\n",
      "  Downloading llama_index_multi_modal_llms_openai-0.1.9-py3-none-any.whl.metadata (728 bytes)\r\n",
      "Collecting llama-index-program-openai<0.2.0,>=0.1.3 (from llama-index)\r\n",
      "  Downloading llama_index_program_openai-0.1.7-py3-none-any.whl.metadata (760 bytes)\r\n",
      "Collecting llama-index-question-gen-openai<0.2.0,>=0.1.2 (from llama-index)\r\n",
      "  Downloading llama_index_question_gen_openai-0.1.3-py3-none-any.whl.metadata (785 bytes)\r\n",
      "Collecting llama-index-readers-file<0.2.0,>=0.1.4 (from llama-index)\r\n",
      "  Downloading llama_index_readers_file-0.1.33-py3-none-any.whl.metadata (5.4 kB)\r\n",
      "Collecting llama-index-readers-llama-parse>=0.1.2 (from llama-index)\r\n",
      "  Downloading llama_index_readers_llama_parse-0.1.6-py3-none-any.whl.metadata (3.6 kB)\r\n",
      "Requirement already satisfied: openai>=1.14.0 in /home/michal/anaconda3/lib/python3.11/site-packages (from llama-index-agent-openai<0.3.0,>=0.1.4->llama-index) (1.23.3)\r\n",
      "Requirement already satisfied: PyYAML>=6.0.1 in /home/michal/anaconda3/lib/python3.11/site-packages (from llama-index-core<0.11.0,>=0.10.67->llama-index) (6.0.1)\r\n",
      "Requirement already satisfied: SQLAlchemy>=1.4.49 in /home/michal/anaconda3/lib/python3.11/site-packages (from SQLAlchemy[asyncio]>=1.4.49->llama-index-core<0.11.0,>=0.10.67->llama-index) (1.4.52)\r\n",
      "Requirement already satisfied: aiohttp<4.0.0,>=3.8.6 in /home/michal/anaconda3/lib/python3.11/site-packages (from llama-index-core<0.11.0,>=0.10.67->llama-index) (3.9.3)\r\n",
      "Requirement already satisfied: dataclasses-json in /home/michal/anaconda3/lib/python3.11/site-packages (from llama-index-core<0.11.0,>=0.10.67->llama-index) (0.6.4)\r\n",
      "Requirement already satisfied: deprecated>=1.2.9.3 in /home/michal/anaconda3/lib/python3.11/site-packages (from llama-index-core<0.11.0,>=0.10.67->llama-index) (1.2.14)\r\n",
      "Requirement already satisfied: dirtyjson<2.0.0,>=1.0.8 in /home/michal/anaconda3/lib/python3.11/site-packages (from llama-index-core<0.11.0,>=0.10.67->llama-index) (1.0.8)\r\n",
      "Requirement already satisfied: fsspec>=2023.5.0 in /home/michal/anaconda3/lib/python3.11/site-packages (from llama-index-core<0.11.0,>=0.10.67->llama-index) (2023.10.0)\r\n",
      "Requirement already satisfied: httpx in /home/michal/anaconda3/lib/python3.11/site-packages (from llama-index-core<0.11.0,>=0.10.67->llama-index) (0.27.0)\r\n",
      "Requirement already satisfied: nest-asyncio<2.0.0,>=1.5.8 in /home/michal/anaconda3/lib/python3.11/site-packages (from llama-index-core<0.11.0,>=0.10.67->llama-index) (1.6.0)\r\n",
      "Requirement already satisfied: networkx>=3.0 in /home/michal/anaconda3/lib/python3.11/site-packages (from llama-index-core<0.11.0,>=0.10.67->llama-index) (3.1)\r\n",
      "Requirement already satisfied: nltk!=3.9,>=3.8.1 in /home/michal/anaconda3/lib/python3.11/site-packages (from llama-index-core<0.11.0,>=0.10.67->llama-index) (3.8.1)\r\n",
      "Requirement already satisfied: numpy<2.0.0 in /home/michal/anaconda3/lib/python3.11/site-packages (from llama-index-core<0.11.0,>=0.10.67->llama-index) (1.26.4)\r\n",
      "Requirement already satisfied: pandas in /home/michal/anaconda3/lib/python3.11/site-packages (from llama-index-core<0.11.0,>=0.10.67->llama-index) (1.5.3)\r\n",
      "Requirement already satisfied: pillow>=9.0.0 in /home/michal/anaconda3/lib/python3.11/site-packages (from llama-index-core<0.11.0,>=0.10.67->llama-index) (10.2.0)\r\n",
      "Requirement already satisfied: requests>=2.31.0 in /home/michal/anaconda3/lib/python3.11/site-packages (from llama-index-core<0.11.0,>=0.10.67->llama-index) (2.31.0)\r\n",
      "Requirement already satisfied: tenacity!=8.4.0,<9.0.0,>=8.2.0 in /home/michal/anaconda3/lib/python3.11/site-packages (from llama-index-core<0.11.0,>=0.10.67->llama-index) (8.2.2)\r\n",
      "Requirement already satisfied: tiktoken>=0.3.3 in /home/michal/anaconda3/lib/python3.11/site-packages (from llama-index-core<0.11.0,>=0.10.67->llama-index) (0.6.0)\r\n",
      "Requirement already satisfied: tqdm<5.0.0,>=4.66.1 in /home/michal/anaconda3/lib/python3.11/site-packages (from llama-index-core<0.11.0,>=0.10.67->llama-index) (4.66.5)\r\n",
      "Requirement already satisfied: typing-extensions>=4.5.0 in /home/michal/anaconda3/lib/python3.11/site-packages (from llama-index-core<0.11.0,>=0.10.67->llama-index) (4.11.0)\r\n",
      "Requirement already satisfied: typing-inspect>=0.8.0 in /home/michal/anaconda3/lib/python3.11/site-packages (from llama-index-core<0.11.0,>=0.10.67->llama-index) (0.9.0)\r\n",
      "Requirement already satisfied: wrapt in /home/michal/anaconda3/lib/python3.11/site-packages (from llama-index-core<0.11.0,>=0.10.67->llama-index) (1.14.1)\r\n",
      "Collecting llama-cloud>=0.0.11 (from llama-index-indices-managed-llama-cloud>=0.2.0->llama-index)\r\n",
      "  Downloading llama_cloud-0.0.13-py3-none-any.whl.metadata (751 bytes)\r\n",
      "Collecting openai>=1.14.0 (from llama-index-agent-openai<0.3.0,>=0.1.4->llama-index)\r\n",
      "  Downloading openai-1.41.1-py3-none-any.whl.metadata (22 kB)\r\n",
      "Requirement already satisfied: beautifulsoup4<5.0.0,>=4.12.3 in /home/michal/anaconda3/lib/python3.11/site-packages (from llama-index-readers-file<0.2.0,>=0.1.4->llama-index) (4.12.3)\r\n",
      "Collecting pypdf<5.0.0,>=4.0.1 (from llama-index-readers-file<0.2.0,>=0.1.4->llama-index)\r\n",
      "  Downloading pypdf-4.3.1-py3-none-any.whl.metadata (7.4 kB)\r\n",
      "Collecting striprtf<0.0.27,>=0.0.26 (from llama-index-readers-file<0.2.0,>=0.1.4->llama-index)\r\n",
      "  Downloading striprtf-0.0.26-py3-none-any.whl.metadata (2.1 kB)\r\n",
      "Collecting llama-parse>=0.4.0 (from llama-index-readers-llama-parse>=0.1.2->llama-index)\r\n",
      "  Downloading llama_parse-0.4.9-py3-none-any.whl.metadata (4.4 kB)\r\n",
      "Requirement already satisfied: aiosignal>=1.1.2 in /home/michal/anaconda3/lib/python3.11/site-packages (from aiohttp<4.0.0,>=3.8.6->llama-index-core<0.11.0,>=0.10.67->llama-index) (1.2.0)\r\n",
      "Requirement already satisfied: attrs>=17.3.0 in /home/michal/anaconda3/lib/python3.11/site-packages (from aiohttp<4.0.0,>=3.8.6->llama-index-core<0.11.0,>=0.10.67->llama-index) (24.2.0)\r\n",
      "Requirement already satisfied: frozenlist>=1.1.1 in /home/michal/anaconda3/lib/python3.11/site-packages (from aiohttp<4.0.0,>=3.8.6->llama-index-core<0.11.0,>=0.10.67->llama-index) (1.4.0)\r\n",
      "Requirement already satisfied: multidict<7.0,>=4.5 in /home/michal/anaconda3/lib/python3.11/site-packages (from aiohttp<4.0.0,>=3.8.6->llama-index-core<0.11.0,>=0.10.67->llama-index) (6.0.4)\r\n",
      "Requirement already satisfied: yarl<2.0,>=1.0 in /home/michal/anaconda3/lib/python3.11/site-packages (from aiohttp<4.0.0,>=3.8.6->llama-index-core<0.11.0,>=0.10.67->llama-index) (1.9.3)\r\n",
      "Requirement already satisfied: soupsieve>1.2 in /home/michal/anaconda3/lib/python3.11/site-packages (from beautifulsoup4<5.0.0,>=4.12.3->llama-index-readers-file<0.2.0,>=0.1.4->llama-index) (2.5)\r\n",
      "Requirement already satisfied: pydantic>=1.10 in /home/michal/anaconda3/lib/python3.11/site-packages (from llama-cloud>=0.0.11->llama-index-indices-managed-llama-cloud>=0.2.0->llama-index) (1.10.12)\r\n",
      "Requirement already satisfied: anyio in /home/michal/anaconda3/lib/python3.11/site-packages (from httpx->llama-index-core<0.11.0,>=0.10.67->llama-index) (4.2.0)\r\n",
      "Requirement already satisfied: certifi in /home/michal/anaconda3/lib/python3.11/site-packages (from httpx->llama-index-core<0.11.0,>=0.10.67->llama-index) (2024.7.4)\r\n",
      "Requirement already satisfied: httpcore==1.* in /home/michal/anaconda3/lib/python3.11/site-packages (from httpx->llama-index-core<0.11.0,>=0.10.67->llama-index) (1.0.5)\r\n",
      "Requirement already satisfied: idna in /home/michal/anaconda3/lib/python3.11/site-packages (from httpx->llama-index-core<0.11.0,>=0.10.67->llama-index) (3.4)\r\n",
      "Requirement already satisfied: sniffio in /home/michal/anaconda3/lib/python3.11/site-packages (from httpx->llama-index-core<0.11.0,>=0.10.67->llama-index) (1.3.0)\r\n",
      "Requirement already satisfied: h11<0.15,>=0.13 in /home/michal/anaconda3/lib/python3.11/site-packages (from httpcore==1.*->httpx->llama-index-core<0.11.0,>=0.10.67->llama-index) (0.14.0)\r\n",
      "Requirement already satisfied: click in /home/michal/anaconda3/lib/python3.11/site-packages (from nltk!=3.9,>=3.8.1->llama-index-core<0.11.0,>=0.10.67->llama-index) (8.1.7)\r\n",
      "Requirement already satisfied: joblib in /home/michal/anaconda3/lib/python3.11/site-packages (from nltk!=3.9,>=3.8.1->llama-index-core<0.11.0,>=0.10.67->llama-index) (1.2.0)\r\n",
      "Requirement already satisfied: regex>=2021.8.3 in /home/michal/anaconda3/lib/python3.11/site-packages (from nltk!=3.9,>=3.8.1->llama-index-core<0.11.0,>=0.10.67->llama-index) (2023.10.3)\r\n",
      "Requirement already satisfied: distro<2,>=1.7.0 in /home/michal/anaconda3/lib/python3.11/site-packages (from openai>=1.14.0->llama-index-agent-openai<0.3.0,>=0.1.4->llama-index) (1.8.0)\r\n",
      "Collecting jiter<1,>=0.4.0 (from openai>=1.14.0->llama-index-agent-openai<0.3.0,>=0.1.4->llama-index)\r\n",
      "  Downloading jiter-0.5.0-cp311-cp311-manylinux_2_17_x86_64.manylinux2014_x86_64.whl.metadata (3.6 kB)\r\n",
      "Requirement already satisfied: charset-normalizer<4,>=2 in /home/michal/anaconda3/lib/python3.11/site-packages (from requests>=2.31.0->llama-index-core<0.11.0,>=0.10.67->llama-index) (3.3.2)\r\n",
      "Requirement already satisfied: urllib3<3,>=1.21.1 in /home/michal/anaconda3/lib/python3.11/site-packages (from requests>=2.31.0->llama-index-core<0.11.0,>=0.10.67->llama-index) (2.0.7)\r\n",
      "Requirement already satisfied: greenlet!=0.4.17 in /home/michal/anaconda3/lib/python3.11/site-packages (from SQLAlchemy>=1.4.49->SQLAlchemy[asyncio]>=1.4.49->llama-index-core<0.11.0,>=0.10.67->llama-index) (3.0.3)\r\n",
      "Requirement already satisfied: mypy-extensions>=0.3.0 in /home/michal/anaconda3/lib/python3.11/site-packages (from typing-inspect>=0.8.0->llama-index-core<0.11.0,>=0.10.67->llama-index) (1.0.0)\r\n",
      "Requirement already satisfied: marshmallow<4.0.0,>=3.18.0 in /home/michal/anaconda3/lib/python3.11/site-packages (from dataclasses-json->llama-index-core<0.11.0,>=0.10.67->llama-index) (3.21.1)\r\n",
      "Requirement already satisfied: python-dateutil>=2.8.1 in /home/michal/anaconda3/lib/python3.11/site-packages (from pandas->llama-index-core<0.11.0,>=0.10.67->llama-index) (2.8.2)\r\n",
      "Requirement already satisfied: pytz>=2020.1 in /home/michal/anaconda3/lib/python3.11/site-packages (from pandas->llama-index-core<0.11.0,>=0.10.67->llama-index) (2023.3.post1)\r\n",
      "Requirement already satisfied: packaging>=17.0 in /home/michal/anaconda3/lib/python3.11/site-packages (from marshmallow<4.0.0,>=3.18.0->dataclasses-json->llama-index-core<0.11.0,>=0.10.67->llama-index) (23.2)\r\n",
      "Requirement already satisfied: six>=1.5 in /home/michal/anaconda3/lib/python3.11/site-packages (from python-dateutil>=2.8.1->pandas->llama-index-core<0.11.0,>=0.10.67->llama-index) (1.16.0)\r\n",
      "Downloading llama_index-0.10.67.post1-py3-none-any.whl (6.9 kB)\r\n",
      "Downloading llama_index_agent_openai-0.2.9-py3-none-any.whl (13 kB)\r\n",
      "Downloading llama_index_cli-0.1.13-py3-none-any.whl (27 kB)\r\n",
      "Downloading llama_index_embeddings_openai-0.1.11-py3-none-any.whl (6.3 kB)\r\n",
      "Downloading llama_index_indices_managed_llama_cloud-0.2.7-py3-none-any.whl (9.5 kB)\r\n",
      "Downloading llama_index_legacy-0.9.48.post3-py3-none-any.whl (1.2 MB)\r\n",
      "\u001B[2K   \u001B[38;2;114;156;31m━━━━━━━━━━━━━━━━━━━━━━━━━━━━━━━━━━━━━━━━\u001B[0m \u001B[32m1.2/1.2 MB\u001B[0m \u001B[31m2.6 MB/s\u001B[0m eta \u001B[36m0:00:00\u001B[0mm eta \u001B[36m0:00:01\u001B[0m[36m0:00:01\u001B[0m\r\n",
      "\u001B[?25hDownloading llama_index_llms_openai-0.1.29-py3-none-any.whl (11 kB)\r\n",
      "Downloading llama_index_multi_modal_llms_openai-0.1.9-py3-none-any.whl (5.9 kB)\r\n",
      "Downloading llama_index_program_openai-0.1.7-py3-none-any.whl (5.3 kB)\r\n",
      "Downloading llama_index_question_gen_openai-0.1.3-py3-none-any.whl (2.9 kB)\r\n",
      "Downloading llama_index_readers_file-0.1.33-py3-none-any.whl (38 kB)\r\n",
      "Downloading llama_index_readers_llama_parse-0.1.6-py3-none-any.whl (2.5 kB)\r\n",
      "Downloading llama_cloud-0.0.13-py3-none-any.whl (169 kB)\r\n",
      "\u001B[2K   \u001B[38;2;114;156;31m━━━━━━━━━━━━━━━━━━━━━━━━━━━━━━━━━━━━━━━\u001B[0m \u001B[32m169.4/169.4 kB\u001B[0m \u001B[31m948.0 kB/s\u001B[0m eta \u001B[36m0:00:00\u001B[0m1m2.3 MB/s\u001B[0m eta \u001B[36m0:00:01\u001B[0m\r\n",
      "\u001B[?25hDownloading llama_parse-0.4.9-py3-none-any.whl (9.4 kB)\r\n",
      "Downloading openai-1.41.1-py3-none-any.whl (362 kB)\r\n",
      "\u001B[2K   \u001B[38;2;114;156;31m━━━━━━━━━━━━━━━━━━━━━━━━━━━━━━━━━━━━━━━━\u001B[0m \u001B[32m362.5/362.5 kB\u001B[0m \u001B[31m1.6 MB/s\u001B[0m eta \u001B[36m0:00:00\u001B[0m MB/s\u001B[0m eta \u001B[36m0:00:01\u001B[0m:01\u001B[0m\r\n",
      "\u001B[?25hDownloading pypdf-4.3.1-py3-none-any.whl (295 kB)\r\n",
      "\u001B[2K   \u001B[38;2;114;156;31m━━━━━━━━━━━━━━━━━━━━━━━━━━━━━━━━━━━━━━━━\u001B[0m \u001B[32m295.8/295.8 kB\u001B[0m \u001B[31m1.5 MB/s\u001B[0m eta \u001B[36m0:00:00\u001B[0m[31m1.1 MB/s\u001B[0m eta \u001B[36m0:00:01\u001B[0m\r\n",
      "\u001B[?25hDownloading striprtf-0.0.26-py3-none-any.whl (6.9 kB)\r\n",
      "Downloading jiter-0.5.0-cp311-cp311-manylinux_2_17_x86_64.manylinux2014_x86_64.whl (319 kB)\r\n",
      "\u001B[2K   \u001B[38;2;114;156;31m━━━━━━━━━━━━━━━━━━━━━━━━━━━━━━━━━━━━━━━━\u001B[0m \u001B[32m319.2/319.2 kB\u001B[0m \u001B[31m1.3 MB/s\u001B[0m eta \u001B[36m0:00:00\u001B[0m MB/s\u001B[0m eta \u001B[36m0:00:01\u001B[0m01\u001B[0m\r\n",
      "\u001B[?25hInstalling collected packages: striprtf, pypdf, jiter, openai, llama-cloud, llama-index-legacy, llama-parse, llama-index-readers-file, llama-index-llms-openai, llama-index-indices-managed-llama-cloud, llama-index-embeddings-openai, llama-index-readers-llama-parse, llama-index-multi-modal-llms-openai, llama-index-cli, llama-index-agent-openai, llama-index-program-openai, llama-index-question-gen-openai, llama-index\r\n",
      "  Attempting uninstall: openai\r\n",
      "    Found existing installation: openai 1.23.3\r\n",
      "    Uninstalling openai-1.23.3:\r\n",
      "      Successfully uninstalled openai-1.23.3\r\n",
      "Successfully installed jiter-0.5.0 llama-cloud-0.0.13 llama-index-0.10.67.post1 llama-index-agent-openai-0.2.9 llama-index-cli-0.1.13 llama-index-embeddings-openai-0.1.11 llama-index-indices-managed-llama-cloud-0.2.7 llama-index-legacy-0.9.48.post3 llama-index-llms-openai-0.1.29 llama-index-multi-modal-llms-openai-0.1.9 llama-index-program-openai-0.1.7 llama-index-question-gen-openai-0.1.3 llama-index-readers-file-0.1.33 llama-index-readers-llama-parse-0.1.6 llama-parse-0.4.9 openai-1.41.1 pypdf-4.3.1 striprtf-0.0.26\r\n"
     ]
    }
   ],
   "execution_count": 8
  },
  {
   "cell_type": "code",
   "id": "0bb2a20d-29a0-4d25-b9d4-f4e81db755fb",
   "metadata": {
    "editable": true,
    "slideshow": {
     "slide_type": ""
    },
    "tags": [],
    "ExecuteTime": {
     "end_time": "2024-08-20T19:59:45.892835Z",
     "start_time": "2024-08-20T19:59:45.887608Z"
    }
   },
   "source": [
    "# Configure LlamaIndex\n",
    "from llama_index.core import Settings\n",
    "from llama_index.embeddings.llamafile import LlamafileEmbedding\n",
    "from llama_index.llms.llamafile import Llamafile\n",
    "from llama_index.core.node_parser import SentenceSplitter\n",
    "\n",
    "Settings.embed_model = LlamafileEmbedding(base_url=\"http://localhost:8080\")\n",
    "\n",
    "Settings.llm = Llamafile(\n",
    "    base_url=\"http://localhost:8080\",\n",
    "    temperature=0,\n",
    "    seed=0\n",
    ")\n",
    "\n",
    "Settings.transformations = [\n",
    "    SentenceSplitter(\n",
    "        chunk_size=256, \n",
    "        chunk_overlap=5\n",
    "    )\n",
    "]"
   ],
   "outputs": [],
   "execution_count": 9
  },
  {
   "cell_type": "code",
   "id": "39296b12-a3cb-4ed5-9d1a-68fab3954a31",
   "metadata": {
    "editable": true,
    "slideshow": {
     "slide_type": ""
    },
    "tags": [],
    "ExecuteTime": {
     "end_time": "2024-08-20T19:59:49.087006Z",
     "start_time": "2024-08-20T19:59:49.068387Z"
    }
   },
   "source": [
    "# Load local data\n",
    "from llama_index.core import SimpleDirectoryReader\n",
    "local_doc_reader = SimpleDirectoryReader(input_dir='./data')\n",
    "docs = local_doc_reader.load_data(show_progress=True)"
   ],
   "outputs": [
    {
     "name": "stderr",
     "output_type": "stream",
     "text": [
      "Loading files: 100%|██████████| 2/2 [00:00<00:00, 151.09file/s]\n"
     ]
    }
   ],
   "execution_count": 10
  },
  {
   "cell_type": "code",
   "id": "a4b84695-bce8-4875-a73f-cbb05b61a1ea",
   "metadata": {
    "editable": true,
    "slideshow": {
     "slide_type": ""
    },
    "tags": [],
    "ExecuteTime": {
     "end_time": "2024-08-20T20:00:01.357075Z",
     "start_time": "2024-08-20T19:59:59.435392Z"
    }
   },
   "source": [
    "# Add Wikipedia page\n",
    "from llama_index.readers.web import SimpleWebPageReader\n",
    "urls = [\n",
    "    'https://pl.wikipedia.org/wiki/Nad_Niemnem',\n",
    "]\n",
    "web_reader = SimpleWebPageReader(html_to_text=True)\n",
    "docs.extend(web_reader.load_data(urls))"
   ],
   "outputs": [],
   "execution_count": 11
  },
  {
   "cell_type": "code",
   "id": "b69bd884-bd9d-4a9e-8eab-ab75b4609460",
   "metadata": {
    "editable": true,
    "slideshow": {
     "slide_type": ""
    },
    "tags": [],
    "ExecuteTime": {
     "end_time": "2024-08-20T20:02:10.241396Z",
     "start_time": "2024-08-20T20:00:10.718781Z"
    }
   },
   "source": [
    "\n",
    "from llama_index.core import VectorStoreIndex\n",
    "\n",
    "index = VectorStoreIndex.from_documents(\n",
    "    docs,\n",
    "    show_progress=True,\n",
    ")\n",
    "\n",
    "index.storage_context.persist(persist_dir=\"./storage\")"
   ],
   "outputs": [
    {
     "data": {
      "text/plain": [
       "Parsing nodes:   0%|          | 0/3 [00:00<?, ?it/s]"
      ],
      "application/vnd.jupyter.widget-view+json": {
       "version_major": 2,
       "version_minor": 0,
       "model_id": "b2c4c3102b4b44d088d672b4e26353dd"
      }
     },
     "metadata": {},
     "output_type": "display_data"
    },
    {
     "data": {
      "text/plain": [
       "Generating embeddings:   0%|          | 0/94 [00:00<?, ?it/s]"
      ],
      "application/vnd.jupyter.widget-view+json": {
       "version_major": 2,
       "version_minor": 0,
       "model_id": "f2e42c8729054bd6bcfd3eeb6bec7d8a"
      }
     },
     "metadata": {},
     "output_type": "display_data"
    }
   ],
   "execution_count": 12
  },
  {
   "metadata": {
    "ExecuteTime": {
     "end_time": "2024-08-20T20:06:21.915727Z",
     "start_time": "2024-08-20T20:06:17.517633Z"
    }
   },
   "cell_type": "code",
   "source": [
    "query_engine = index.as_query_engine()\n",
    "print(query_engine.query(\"What is revenue?\"))"
   ],
   "id": "7f3a7fd326fcb070",
   "outputs": [
    {
     "name": "stdout",
     "output_type": "stream",
     "text": [
      "Revenue is the amount of money earned by a business or organization from its activities. It is the profit earned from selling goods or services, or from other sources of income.</s>\n"
     ]
    }
   ],
   "execution_count": 14
  }
 ],
 "metadata": {
  "kernelspec": {
   "display_name": "Python 3 (ipykernel)",
   "language": "python",
   "name": "python3"
  },
  "language_info": {
   "codemirror_mode": {
    "name": "ipython",
    "version": 3
   },
   "file_extension": ".py",
   "mimetype": "text/x-python",
   "name": "python",
   "nbconvert_exporter": "python",
   "pygments_lexer": "ipython3",
   "version": "3.11.7"
  }
 },
 "nbformat": 4,
 "nbformat_minor": 5
}
