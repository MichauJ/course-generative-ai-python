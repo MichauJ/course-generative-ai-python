{
 "cells": [
  {
   "metadata": {},
   "cell_type": "markdown",
   "source": [
    "## vector database\n",
    "\n",
    "This notebook presents how to use embeddings and store them in vector database."
   ],
   "id": "cb2797535ee29835"
  },
  {
   "cell_type": "code",
   "id": "initial_id",
   "metadata": {
    "collapsed": true,
    "ExecuteTime": {
     "end_time": "2024-12-08T11:14:25.472836Z",
     "start_time": "2024-12-08T11:14:24.051642Z"
    }
   },
   "source": "!pip install faiss-cpu",
   "outputs": [
    {
     "name": "stderr",
     "output_type": "stream",
     "text": [
      "huggingface/tokenizers: The current process just got forked, after parallelism has already been used. Disabling parallelism to avoid deadlocks...\n",
      "To disable this warning, you can either:\n",
      "\t- Avoid using `tokenizers` before the fork if possible\n",
      "\t- Explicitly set the environment variable TOKENIZERS_PARALLELISM=(true | false)\n"
     ]
    },
    {
     "name": "stdout",
     "output_type": "stream",
     "text": [
      "Requirement already satisfied: faiss-cpu in /home/michal/anaconda3/lib/python3.12/site-packages (1.9.0)\r\n",
      "Requirement already satisfied: numpy<3.0,>=1.25.0 in /home/michal/anaconda3/lib/python3.12/site-packages (from faiss-cpu) (1.26.4)\r\n",
      "Requirement already satisfied: packaging in /home/michal/anaconda3/lib/python3.12/site-packages (from faiss-cpu) (24.1)\r\n"
     ]
    }
   ],
   "execution_count": 6
  },
  {
   "metadata": {},
   "cell_type": "markdown",
   "source": "### create embedding",
   "id": "488e6c821b4f4016"
  },
  {
   "metadata": {
    "ExecuteTime": {
     "end_time": "2024-12-08T10:55:04.325872Z",
     "start_time": "2024-12-08T10:54:48.227669Z"
    }
   },
   "cell_type": "code",
   "source": [
    "from sentence_transformers import SentenceTransformer, util\n",
    "\n",
    "model = SentenceTransformer(\"all-MiniLM-L6-v2\")\n",
    "print(model.max_seq_length)\n",
    "\n",
    "model.max_seq_length = 256\n",
    "\n",
    "# Our sentences we like to encode\n",
    "sentences = [\n",
    "    \"dinosaurs live in africa but in different time dimension\", \n",
    "    \"this is sentence about little cat that liked to eat tomatoes\",\n",
    "    \"this is the another sample sentence which is here just to not be matched while other one is\"\n",
    "]\n",
    "\n",
    "# Sentences are encoded by calling model.encode()\n",
    "embeddings = model.encode(sentences, normalize_embeddings=True)"
   ],
   "id": "189389fa86a50e87",
   "outputs": [
    {
     "name": "stderr",
     "output_type": "stream",
     "text": [
      "/home/michal/anaconda3/lib/python3.12/site-packages/sentence_transformers/cross_encoder/CrossEncoder.py:13: TqdmExperimentalWarning: Using `tqdm.autonotebook.tqdm` in notebook mode. Use `tqdm.tqdm` instead to force console mode (e.g. in jupyter console)\n",
      "  from tqdm.autonotebook import tqdm, trange\n",
      "2024-12-08 11:54:51.187144: E external/local_xla/xla/stream_executor/cuda/cuda_fft.cc:477] Unable to register cuFFT factory: Attempting to register factory for plugin cuFFT when one has already been registered\n",
      "WARNING: All log messages before absl::InitializeLog() is called are written to STDERR\n",
      "E0000 00:00:1733655291.204967   84449 cuda_dnn.cc:8310] Unable to register cuDNN factory: Attempting to register factory for plugin cuDNN when one has already been registered\n",
      "E0000 00:00:1733655291.210144   84449 cuda_blas.cc:1418] Unable to register cuBLAS factory: Attempting to register factory for plugin cuBLAS when one has already been registered\n",
      "2024-12-08 11:54:51.228129: I tensorflow/core/platform/cpu_feature_guard.cc:210] This TensorFlow binary is optimized to use available CPU instructions in performance-critical operations.\n",
      "To enable the following instructions: AVX2 FMA, in other operations, rebuild TensorFlow with the appropriate compiler flags.\n"
     ]
    },
    {
     "data": {
      "text/plain": [
       "modules.json:   0%|          | 0.00/349 [00:00<?, ?B/s]"
      ],
      "application/vnd.jupyter.widget-view+json": {
       "version_major": 2,
       "version_minor": 0,
       "model_id": "333c16bea94f4e5fbae39ae7d1ed700e"
      }
     },
     "metadata": {},
     "output_type": "display_data"
    },
    {
     "data": {
      "text/plain": [
       "config_sentence_transformers.json:   0%|          | 0.00/116 [00:00<?, ?B/s]"
      ],
      "application/vnd.jupyter.widget-view+json": {
       "version_major": 2,
       "version_minor": 0,
       "model_id": "10b4e2cf73c547d6af9991d3f9fe0ffb"
      }
     },
     "metadata": {},
     "output_type": "display_data"
    },
    {
     "data": {
      "text/plain": [
       "README.md:   0%|          | 0.00/10.7k [00:00<?, ?B/s]"
      ],
      "application/vnd.jupyter.widget-view+json": {
       "version_major": 2,
       "version_minor": 0,
       "model_id": "261ddae92709403cade15d9e7faa4b17"
      }
     },
     "metadata": {},
     "output_type": "display_data"
    },
    {
     "data": {
      "text/plain": [
       "sentence_bert_config.json:   0%|          | 0.00/53.0 [00:00<?, ?B/s]"
      ],
      "application/vnd.jupyter.widget-view+json": {
       "version_major": 2,
       "version_minor": 0,
       "model_id": "c6d0df222ac54050859310ff47c2746d"
      }
     },
     "metadata": {},
     "output_type": "display_data"
    },
    {
     "data": {
      "text/plain": [
       "config.json:   0%|          | 0.00/612 [00:00<?, ?B/s]"
      ],
      "application/vnd.jupyter.widget-view+json": {
       "version_major": 2,
       "version_minor": 0,
       "model_id": "74028d187fd449268f3fdf4c088af0f5"
      }
     },
     "metadata": {},
     "output_type": "display_data"
    },
    {
     "data": {
      "text/plain": [
       "model.safetensors:   0%|          | 0.00/90.9M [00:00<?, ?B/s]"
      ],
      "application/vnd.jupyter.widget-view+json": {
       "version_major": 2,
       "version_minor": 0,
       "model_id": "1f0958405f664f0ab12f2064993fb41c"
      }
     },
     "metadata": {},
     "output_type": "display_data"
    },
    {
     "data": {
      "text/plain": [
       "tokenizer_config.json:   0%|          | 0.00/350 [00:00<?, ?B/s]"
      ],
      "application/vnd.jupyter.widget-view+json": {
       "version_major": 2,
       "version_minor": 0,
       "model_id": "494bd1b9ec8a4247b57994675aa71dd1"
      }
     },
     "metadata": {},
     "output_type": "display_data"
    },
    {
     "data": {
      "text/plain": [
       "vocab.txt:   0%|          | 0.00/232k [00:00<?, ?B/s]"
      ],
      "application/vnd.jupyter.widget-view+json": {
       "version_major": 2,
       "version_minor": 0,
       "model_id": "a1b8261ce61642d1b851848ce83248ec"
      }
     },
     "metadata": {},
     "output_type": "display_data"
    },
    {
     "data": {
      "text/plain": [
       "tokenizer.json:   0%|          | 0.00/466k [00:00<?, ?B/s]"
      ],
      "application/vnd.jupyter.widget-view+json": {
       "version_major": 2,
       "version_minor": 0,
       "model_id": "289b9bb4c6fc40e3b7312f70b929832c"
      }
     },
     "metadata": {},
     "output_type": "display_data"
    },
    {
     "data": {
      "text/plain": [
       "special_tokens_map.json:   0%|          | 0.00/112 [00:00<?, ?B/s]"
      ],
      "application/vnd.jupyter.widget-view+json": {
       "version_major": 2,
       "version_minor": 0,
       "model_id": "ee4e44e67b754cf48ccb138ed14e7edd"
      }
     },
     "metadata": {},
     "output_type": "display_data"
    },
    {
     "data": {
      "text/plain": [
       "1_Pooling/config.json:   0%|          | 0.00/190 [00:00<?, ?B/s]"
      ],
      "application/vnd.jupyter.widget-view+json": {
       "version_major": 2,
       "version_minor": 0,
       "model_id": "a6a77e091c964103a8877b16ea75334c"
      }
     },
     "metadata": {},
     "output_type": "display_data"
    },
    {
     "name": "stdout",
     "output_type": "stream",
     "text": [
      "256\n"
     ]
    }
   ],
   "execution_count": 2
  },
  {
   "metadata": {
    "ExecuteTime": {
     "end_time": "2024-12-08T10:55:04.382411Z",
     "start_time": "2024-12-08T10:55:04.378049Z"
    }
   },
   "cell_type": "code",
   "source": "embeddings",
   "id": "cb9c2aa30e920f3d",
   "outputs": [
    {
     "data": {
      "text/plain": [
       "array([[-0.04987683,  0.03634831,  0.01747592, ..., -0.05154557,\n",
       "         0.01327896, -0.05160031],\n",
       "       [ 0.06277536,  0.07880409,  0.01862673, ...,  0.18015604,\n",
       "         0.07854404,  0.0105872 ],\n",
       "       [-0.01920933,  0.06346308,  0.07642584, ...,  0.01450102,\n",
       "         0.08586987, -0.00456648]], dtype=float32)"
      ]
     },
     "execution_count": 3,
     "metadata": {},
     "output_type": "execute_result"
    }
   ],
   "execution_count": 3
  },
  {
   "metadata": {},
   "cell_type": "markdown",
   "source": "### create vector DB and load documents",
   "id": "91b80070079d4f28"
  },
  {
   "metadata": {
    "ExecuteTime": {
     "end_time": "2024-12-08T11:16:11.503645Z",
     "start_time": "2024-12-08T11:16:11.499183Z"
    }
   },
   "cell_type": "code",
   "source": [
    "import faiss\n",
    "\n",
    "d = 384  # dimension\n",
    "\n",
    "# Build index\n",
    "index = faiss.IndexFlatL2(d)  # build the index\n",
    "index.add(embeddings)  # add vectors to the index"
   ],
   "id": "6dbbe7482493cc84",
   "outputs": [],
   "execution_count": 7
  },
  {
   "metadata": {},
   "cell_type": "markdown",
   "source": "### perform search",
   "id": "a3dedc1ab199f1e1"
  },
  {
   "metadata": {
    "ExecuteTime": {
     "end_time": "2024-12-08T11:18:10.107084Z",
     "start_time": "2024-12-08T11:18:10.078285Z"
    }
   },
   "cell_type": "code",
   "source": [
    "queryText = \"french fries\"\n",
    "embeddingSearch = model.encode([queryText], normalize_embeddings=True)\n",
    "embeddingFound, idx = index.search(embeddingSearch, 1)  # actual search\n",
    "print(queryText + \" matches:\\n\" + sentences[idx[0][0]])\n",
    "\n",
    "queryText = \"not similar text\"\n",
    "embeddingSearch = model.encode([queryText], normalize_embeddings=True)\n",
    "embeddingFound, idx = index.search(embeddingSearch, 1)  # actual search\n",
    "print(queryText + \" matches:\\n\" + sentences[idx[0][0]])"
   ],
   "id": "25f9add211764a27",
   "outputs": [
    {
     "name": "stdout",
     "output_type": "stream",
     "text": [
      "french fries matches:\n",
      "this is sentence about little cat that liked to eat tomatoes\n",
      "not similar text matches:\n",
      "this is the another sample sentence which is here just to not be matched while other one is\n"
     ]
    }
   ],
   "execution_count": 8
  },
  {
   "metadata": {
    "ExecuteTime": {
     "end_time": "2024-12-08T10:55:04.626700Z",
     "start_time": "2024-12-08T10:55:04.625136Z"
    }
   },
   "cell_type": "code",
   "source": "",
   "id": "a74bb415b70b611e",
   "outputs": [],
   "execution_count": null
  }
 ],
 "metadata": {
  "kernelspec": {
   "display_name": "Python 3",
   "language": "python",
   "name": "python3"
  },
  "language_info": {
   "codemirror_mode": {
    "name": "ipython",
    "version": 2
   },
   "file_extension": ".py",
   "mimetype": "text/x-python",
   "name": "python",
   "nbconvert_exporter": "python",
   "pygments_lexer": "ipython2",
   "version": "2.7.6"
  }
 },
 "nbformat": 4,
 "nbformat_minor": 5
}
