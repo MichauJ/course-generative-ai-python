{
 "cells": [
  {
   "metadata": {},
   "cell_type": "markdown",
   "source": [
    "## vector database\n",
    "\n",
    "This notebook presents how to use embeddings and store them in vector database."
   ],
   "id": "cb2797535ee29835"
  },
  {
   "cell_type": "code",
   "id": "initial_id",
   "metadata": {
    "collapsed": true,
    "ExecuteTime": {
     "end_time": "2024-09-09T15:20:32.320109Z",
     "start_time": "2024-09-09T15:20:27.556078Z"
    }
   },
   "source": "!pip install faiss-cpu",
   "outputs": [
    {
     "name": "stdout",
     "output_type": "stream",
     "text": [
      "Requirement already satisfied: faiss-cpu in /home/michal/anaconda3/lib/python3.11/site-packages (1.7.4)\r\n"
     ]
    }
   ],
   "execution_count": 1
  },
  {
   "metadata": {},
   "cell_type": "markdown",
   "source": "### create embedding",
   "id": "488e6c821b4f4016"
  },
  {
   "metadata": {
    "ExecuteTime": {
     "end_time": "2024-09-09T15:36:19.492059Z",
     "start_time": "2024-09-09T15:34:22.638940Z"
    }
   },
   "cell_type": "code",
   "source": [
    "from sentence_transformers import SentenceTransformer, util\n",
    "\n",
    "model = SentenceTransformer(\"all-MiniLM-L6-v2\")\n",
    "print(model.max_seq_length)\n",
    "\n",
    "model.max_seq_length = 256\n",
    "\n",
    "# Our sentences we like to encode\n",
    "sentences = [\n",
    "    \"dinosaurs live in africa but in different time dimension\", \n",
    "    \"this is sentence about little cat that liked to eat tomatoes\",\n",
    "    \"this is the another sample sentence which is here just to not be matched while other one is\"\n",
    "]\n",
    "\n",
    "# Sentences are encoded by calling model.encode()\n",
    "embeddings = model.encode(sentences, normalize_embeddings=True)"
   ],
   "id": "189389fa86a50e87",
   "outputs": [
    {
     "data": {
      "text/plain": [
       ".gitattributes:   0%|          | 0.00/1.23k [00:00<?, ?B/s]"
      ],
      "application/vnd.jupyter.widget-view+json": {
       "version_major": 2,
       "version_minor": 0,
       "model_id": "b439464c76304932b18a73c80c42c1d1"
      }
     },
     "metadata": {},
     "output_type": "display_data"
    },
    {
     "data": {
      "text/plain": [
       "1_Pooling/config.json:   0%|          | 0.00/190 [00:00<?, ?B/s]"
      ],
      "application/vnd.jupyter.widget-view+json": {
       "version_major": 2,
       "version_minor": 0,
       "model_id": "380e6e8f672c40558ae55ce9a3e13023"
      }
     },
     "metadata": {},
     "output_type": "display_data"
    },
    {
     "data": {
      "text/plain": [
       "README.md:   0%|          | 0.00/10.7k [00:00<?, ?B/s]"
      ],
      "application/vnd.jupyter.widget-view+json": {
       "version_major": 2,
       "version_minor": 0,
       "model_id": "1dcdd156a63b48908e6e1b3954f9b8c5"
      }
     },
     "metadata": {},
     "output_type": "display_data"
    },
    {
     "data": {
      "text/plain": [
       "config.json:   0%|          | 0.00/612 [00:00<?, ?B/s]"
      ],
      "application/vnd.jupyter.widget-view+json": {
       "version_major": 2,
       "version_minor": 0,
       "model_id": "15d6532791f240168d6b716deefb1f25"
      }
     },
     "metadata": {},
     "output_type": "display_data"
    },
    {
     "data": {
      "text/plain": [
       "config_sentence_transformers.json:   0%|          | 0.00/116 [00:00<?, ?B/s]"
      ],
      "application/vnd.jupyter.widget-view+json": {
       "version_major": 2,
       "version_minor": 0,
       "model_id": "7a6bb2a559d5464384c66c4c73481946"
      }
     },
     "metadata": {},
     "output_type": "display_data"
    },
    {
     "data": {
      "text/plain": [
       "data_config.json:   0%|          | 0.00/39.3k [00:00<?, ?B/s]"
      ],
      "application/vnd.jupyter.widget-view+json": {
       "version_major": 2,
       "version_minor": 0,
       "model_id": "62401375d69f448584440d298b795d46"
      }
     },
     "metadata": {},
     "output_type": "display_data"
    },
    {
     "data": {
      "text/plain": [
       "model.safetensors:   0%|          | 0.00/90.9M [00:00<?, ?B/s]"
      ],
      "application/vnd.jupyter.widget-view+json": {
       "version_major": 2,
       "version_minor": 0,
       "model_id": "6cacee997f7143b8890bceff8da527cb"
      }
     },
     "metadata": {},
     "output_type": "display_data"
    },
    {
     "data": {
      "text/plain": [
       "model.onnx:   0%|          | 0.00/90.4M [00:00<?, ?B/s]"
      ],
      "application/vnd.jupyter.widget-view+json": {
       "version_major": 2,
       "version_minor": 0,
       "model_id": "498661b5edca4a59b0467d090ac0a700"
      }
     },
     "metadata": {},
     "output_type": "display_data"
    },
    {
     "data": {
      "text/plain": [
       "pytorch_model.bin:   0%|          | 0.00/90.9M [00:00<?, ?B/s]"
      ],
      "application/vnd.jupyter.widget-view+json": {
       "version_major": 2,
       "version_minor": 0,
       "model_id": "44012384558341aa861def13a96c8c39"
      }
     },
     "metadata": {},
     "output_type": "display_data"
    },
    {
     "data": {
      "text/plain": [
       "sentence_bert_config.json:   0%|          | 0.00/53.0 [00:00<?, ?B/s]"
      ],
      "application/vnd.jupyter.widget-view+json": {
       "version_major": 2,
       "version_minor": 0,
       "model_id": "702a814ec5d84b08a7308adeb05c6758"
      }
     },
     "metadata": {},
     "output_type": "display_data"
    },
    {
     "data": {
      "text/plain": [
       "special_tokens_map.json:   0%|          | 0.00/112 [00:00<?, ?B/s]"
      ],
      "application/vnd.jupyter.widget-view+json": {
       "version_major": 2,
       "version_minor": 0,
       "model_id": "704f0dd61d6c4523b059b77bf6256280"
      }
     },
     "metadata": {},
     "output_type": "display_data"
    },
    {
     "data": {
      "text/plain": [
       "tokenizer.json:   0%|          | 0.00/466k [00:00<?, ?B/s]"
      ],
      "application/vnd.jupyter.widget-view+json": {
       "version_major": 2,
       "version_minor": 0,
       "model_id": "0ade11d123044c3681db443dfcab7a52"
      }
     },
     "metadata": {},
     "output_type": "display_data"
    },
    {
     "data": {
      "text/plain": [
       "tokenizer_config.json:   0%|          | 0.00/350 [00:00<?, ?B/s]"
      ],
      "application/vnd.jupyter.widget-view+json": {
       "version_major": 2,
       "version_minor": 0,
       "model_id": "16158c0af2f2426d86eadf22d43f973c"
      }
     },
     "metadata": {},
     "output_type": "display_data"
    },
    {
     "data": {
      "text/plain": [
       "train_script.py:   0%|          | 0.00/13.2k [00:00<?, ?B/s]"
      ],
      "application/vnd.jupyter.widget-view+json": {
       "version_major": 2,
       "version_minor": 0,
       "model_id": "b4db5c56c154452fa6c93572c7e5917c"
      }
     },
     "metadata": {},
     "output_type": "display_data"
    },
    {
     "data": {
      "text/plain": [
       "vocab.txt:   0%|          | 0.00/232k [00:00<?, ?B/s]"
      ],
      "application/vnd.jupyter.widget-view+json": {
       "version_major": 2,
       "version_minor": 0,
       "model_id": "2ae40ec44c3f4e9dbb3f42b4e19483ca"
      }
     },
     "metadata": {},
     "output_type": "display_data"
    },
    {
     "data": {
      "text/plain": [
       "modules.json:   0%|          | 0.00/349 [00:00<?, ?B/s]"
      ],
      "application/vnd.jupyter.widget-view+json": {
       "version_major": 2,
       "version_minor": 0,
       "model_id": "cbf0c289563540e198228763456fa102"
      }
     },
     "metadata": {},
     "output_type": "display_data"
    },
    {
     "name": "stdout",
     "output_type": "stream",
     "text": [
      "256\n"
     ]
    }
   ],
   "execution_count": 2
  },
  {
   "metadata": {
    "ExecuteTime": {
     "end_time": "2024-09-09T15:59:12.024831Z",
     "start_time": "2024-09-09T15:59:12.020523Z"
    }
   },
   "cell_type": "code",
   "source": "embeddings",
   "id": "cb9c2aa30e920f3d",
   "outputs": [
    {
     "data": {
      "text/plain": [
       "array([[-0.04987689,  0.03634831,  0.01747593, ..., -0.05154558,\n",
       "         0.01327899, -0.05160029],\n",
       "       [ 0.06277531,  0.07880413,  0.01862673, ...,  0.18015605,\n",
       "         0.07854404,  0.01058723],\n",
       "       [-0.01920931,  0.06346301,  0.07642581, ...,  0.01450099,\n",
       "         0.08586992, -0.00456652]], dtype=float32)"
      ]
     },
     "execution_count": 3,
     "metadata": {},
     "output_type": "execute_result"
    }
   ],
   "execution_count": 3
  },
  {
   "metadata": {},
   "cell_type": "markdown",
   "source": "### create vector DB and load documents",
   "id": "91b80070079d4f28"
  },
  {
   "metadata": {
    "ExecuteTime": {
     "end_time": "2024-09-09T16:06:54.638990Z",
     "start_time": "2024-09-09T16:06:54.635461Z"
    }
   },
   "cell_type": "code",
   "source": [
    "import faiss\n",
    "\n",
    "d = 384  # dimension\n",
    "\n",
    "# Build index\n",
    "index = faiss.IndexFlatL2(d)  # build the index\n",
    "index.add(embeddings)  # add vectors to the index"
   ],
   "id": "6dbbe7482493cc84",
   "outputs": [],
   "execution_count": 8
  },
  {
   "metadata": {},
   "cell_type": "markdown",
   "source": "### perform search",
   "id": "a3dedc1ab199f1e1"
  },
  {
   "metadata": {
    "ExecuteTime": {
     "end_time": "2024-09-09T16:17:17.684424Z",
     "start_time": "2024-09-09T16:17:17.652127Z"
    }
   },
   "cell_type": "code",
   "source": [
    "queryText = \"french fries\"\n",
    "embeddingSearch = model.encode([queryText], normalize_embeddings=True)\n",
    "embeddingFound, idx = index.search(embeddingSearch, 1)  # actual search\n",
    "print(queryText + \" matches:\\n\" + sentences[idx[0][0]])\n",
    "\n",
    "queryText = \"not similar text\"\n",
    "embeddingSearch = model.encode([queryText], normalize_embeddings=True)\n",
    "embeddingFound, idx = index.search(embeddingSearch, 1)  # actual search\n",
    "print(queryText + \" matches:\\n\" + sentences[idx[0][0]])"
   ],
   "id": "25f9add211764a27",
   "outputs": [
    {
     "name": "stdout",
     "output_type": "stream",
     "text": [
      "french fries matches:\n",
      "this is sentence about little cat that liked to eat tomatoes\n",
      "not similar text matches:\n",
      "this is the another sample sentence which is here just to not be matched while other one is\n"
     ]
    }
   ],
   "execution_count": 31
  },
  {
   "metadata": {},
   "cell_type": "code",
   "outputs": [],
   "execution_count": null,
   "source": "",
   "id": "a74bb415b70b611e"
  }
 ],
 "metadata": {
  "kernelspec": {
   "display_name": "Python 3",
   "language": "python",
   "name": "python3"
  },
  "language_info": {
   "codemirror_mode": {
    "name": "ipython",
    "version": 2
   },
   "file_extension": ".py",
   "mimetype": "text/x-python",
   "name": "python",
   "nbconvert_exporter": "python",
   "pygments_lexer": "ipython2",
   "version": "2.7.6"
  }
 },
 "nbformat": 4,
 "nbformat_minor": 5
}
