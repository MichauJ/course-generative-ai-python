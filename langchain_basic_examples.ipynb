{
 "cells": [
  {
   "metadata": {},
   "cell_type": "markdown",
   "source": "## LanChain basic examples",
   "id": "60b3538d446ceb74"
  },
  {
   "cell_type": "code",
   "id": "initial_id",
   "metadata": {
    "collapsed": true,
    "jupyter": {
     "is_executing": true
    }
   },
   "source": "!pip install openai",
   "outputs": [],
   "execution_count": null
  },
  {
   "metadata": {},
   "cell_type": "code",
   "source": [
    "from openai import OpenAI\n",
    "from dotenv import load_dotenv, find_dotenv\n",
    "load_dotenv(find_dotenv())"
   ],
   "id": "5e5e38a0e28b7fc6",
   "outputs": [],
   "execution_count": null
  },
  {
   "metadata": {},
   "cell_type": "code",
   "source": [
    "client = OpenAI()\n",
    "\n",
    "def chat(input):\n",
    "    messages = [{\"role\": \"user\", \"content\": input}]\n",
    "    response = client.chat.completions.create(\n",
    "        model=\"gpt-3.5-turbo\",\n",
    "        messages=messages,\n",
    "        temperature=0.1,\n",
    "    )\n",
    "    return response.choices[0].message.content.strip()"
   ],
   "id": "f24064a8fa4ea97b",
   "outputs": [],
   "execution_count": null
  },
  {
   "metadata": {},
   "cell_type": "code",
   "source": [
    "question = \"Who will fund salary rise for police, teachers, nurses, miners and firefighters?\"\n",
    "\n",
    "prompt = \"\"\"\n",
    "Try to answer question as politician\n",
    "Question: {question}\n",
    "\"\"\".format(\n",
    "    question=question\n",
    ")\n",
    "\n",
    "print(prompt)\n",
    "chat(prompt)"
   ],
   "id": "235b994c66231c22",
   "outputs": [],
   "execution_count": null
  },
  {
   "metadata": {},
   "cell_type": "markdown",
   "source": "## Human message and AI message",
   "id": "d9062c1b83b803a0"
  },
  {
   "metadata": {},
   "cell_type": "code",
   "source": [
    "from langchain_core.messages import HumanMessage, SystemMessage\n",
    "from langchain_openai import ChatOpenAI\n",
    "\n",
    "messages = [\n",
    "    SystemMessage(content=\"You are a helpful assistant! Your name is Janusz.\"),\n",
    "    SystemMessage(content=\"You like pizza with pineapple.\"),\n",
    "    HumanMessage(content=\"What is your name and what pizza do you recommend for today dinner?\"),\n",
    "]\n",
    "\n",
    "model = ChatOpenAI(temperature=0)\n",
    "print(model.predict_messages(messages))"
   ],
   "id": "7dbff1e3239c95a1",
   "outputs": [],
   "execution_count": null
  },
  {
   "metadata": {},
   "cell_type": "markdown",
   "source": "## Wrapper clacces for different LLMs",
   "id": "18733d868932e905"
  },
  {
   "metadata": {
    "ExecuteTime": {
     "end_time": "2024-09-14T10:50:24.927364Z",
     "start_time": "2024-09-14T10:48:37.868852Z"
    }
   },
   "cell_type": "code",
   "source": [
    "!pip install --upgrade --quiet langchain-anthropic\n",
    "!pip install --upgrade --quiet langchain-google-genai"
   ],
   "id": "e7343ebfe77bd324",
   "outputs": [],
   "execution_count": 14
  },
  {
   "metadata": {},
   "cell_type": "markdown",
   "source": "### Antrophic Claude-3",
   "id": "e184110b1c508d3"
  },
  {
   "metadata": {},
   "cell_type": "code",
   "source": [
    "from langchain_anthropic import ChatAnthropic\n",
    "\n",
    "model = ChatAnthropic(model='claude-3-opus-20240229')\n",
    "print(model.invoke(\"What is the area of Australia?\"))"
   ],
   "id": "aa38285e5904cba3",
   "outputs": [],
   "execution_count": null
  },
  {
   "metadata": {},
   "cell_type": "markdown",
   "source": "### Google Gemini",
   "id": "4a4f230b7e40e2b"
  },
  {
   "metadata": {},
   "cell_type": "code",
   "source": [
    "from langchain_google_genai import GoogleGenerativeAI\n",
    "from getpass import getpass\n",
    "\n",
    "api_key = getpass()\n",
    "model = GoogleGenerativeAI(model=\"gemini-pro\", google_api_key=api_key)\n",
    "print(model.invoke(\"What is the area of Australia?\"))"
   ],
   "id": "c853808ddeb71aa1",
   "outputs": [],
   "execution_count": null
  },
  {
   "metadata": {},
   "cell_type": "markdown",
   "source": "### Deepinfra API: Mixtral, LLama 3.1",
   "id": "90ec37b87040d5f7"
  },
  {
   "metadata": {},
   "cell_type": "code",
   "source": [
    "from langchain_community.llms import DeepInfra\n",
    "\n",
    "os.environ[\"DEEPINFRA_API_TOKEN\"] = '<your DeepInfra API token>'\n",
    "\n",
    "# Create the DeepInfra instance. You can view a list of available parameters in the model page\n",
    "model = DeepInfra(model_id=\"meta-llama/Meta-Llama-3-8B-Instruct\")\n",
    "model = DeepInfra(model_id=\"mistralai/Mistral-7B-Instruct-v0.3\")\n",
    "model.model_kwargs = {\n",
    "    \"temperature\": 0.7,\n",
    "    \"repetition_penalty\": 1.2,\n",
    "    \"max_new_tokens\": 250,\n",
    "    \"top_p\": 0.9,\n",
    "}\n",
    "\n",
    "print(model.invoke(\"What is the area of Australia?\"))"
   ],
   "id": "973052e3d085f1ae",
   "outputs": [],
   "execution_count": null
  }
 ],
 "metadata": {
  "kernelspec": {
   "display_name": "Python 3",
   "language": "python",
   "name": "python3"
  },
  "language_info": {
   "codemirror_mode": {
    "name": "ipython",
    "version": 2
   },
   "file_extension": ".py",
   "mimetype": "text/x-python",
   "name": "python",
   "nbconvert_exporter": "python",
   "pygments_lexer": "ipython2",
   "version": "2.7.6"
  }
 },
 "nbformat": 4,
 "nbformat_minor": 5
}
