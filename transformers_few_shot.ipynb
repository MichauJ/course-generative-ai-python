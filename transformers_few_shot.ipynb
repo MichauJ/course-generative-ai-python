{
 "cells": [
  {
   "metadata": {},
   "cell_type": "markdown",
   "source": [
    "## Zero-shot, One-shot and Few-shot Inference\n",
    "This notebook shows how to add examples to the prompt.\n",
    "LLM provided with examples can improve significantly results."
   ],
   "id": "cba0b29f9d96c116"
  },
  {
   "metadata": {
    "jupyter": {
     "is_executing": true
    }
   },
   "cell_type": "code",
   "source": [
    "%pip install -U datasets\n",
    "%pip install torch \n",
    "%pip install torchdata\n",
    "%pip install transformers"
   ],
   "id": "2e8a4f66c9ddc2d0",
   "outputs": [],
   "execution_count": null
  },
  {
   "metadata": {
    "ExecuteTime": {
     "end_time": "2024-09-15T11:25:42.802708Z",
     "start_time": "2024-09-15T11:25:30.061771Z"
    }
   },
   "cell_type": "code",
   "source": [
    "from transformers import AutoModelForSeq2SeqLM\n",
    "from datasets import load_dataset\n",
    "from transformers import AutoTokenizer\n",
    "from transformers import GenerationConfig\n",
    "import pprint\n",
    "pp = pprint.PrettyPrinter(indent=4)\n",
    "\n",
    "\n",
    "model_name='google/flan-t5-base'\n",
    "\n",
    "model = AutoModelForSeq2SeqLM.from_pretrained(model_name)\n",
    "tokenizer = AutoTokenizer.from_pretrained(model_name, use_fast=True)\n",
    "\n",
    "#get dataset with translating text description and schema into SQL query\n",
    "dataset = load_dataset(\"gretelai/synthetic_text_to_sql\")\n",
    "\n",
    "#print 2 chosen records\n",
    "example_indexes = [37, 67, 101, 78]\n",
    "pp.pprint(dataset['test'][example_indices])"
   ],
   "id": "42c0502498c8ad0d",
   "outputs": [
    {
     "name": "stdout",
     "output_type": "stream",
     "text": [
      "{   'domain': [   'humanitarian aid',\n",
      "                  'government services',\n",
      "                  'disability services'],\n",
      "    'domain_description': [   'Extensive data on disaster response, refugee '\n",
      "                              'support, community development, and advocacy in '\n",
      "                              'humanitarian aid.',\n",
      "                              'Public service delivery, budget allocation, '\n",
      "                              'citizen feedback, and policy impact.',\n",
      "                              'Comprehensive data on disability '\n",
      "                              'accommodations, support programs, policy '\n",
      "                              'advocacy, and inclusion efforts in disability '\n",
      "                              'services.'],\n",
      "    'id': [38, 68, 102],\n",
      "    'sql': [   'SELECT organization_id, location as region, COUNT(*) as '\n",
      "               'number_of_supplies, SUM(supply_cost) as total_supply_cost FROM '\n",
      "               \"medical_supplies WHERE location = 'East Africa' AND \"\n",
      "               'distribution_date >= DATE_SUB(CURRENT_DATE, INTERVAL 3 YEAR) '\n",
      "               'GROUP BY organization_id, location;',\n",
      "               'SELECT p.park_name FROM parks p INNER JOIN areas a ON '\n",
      "               \"p.area_id = a.area_id WHERE a.area_type = 'urban';\",\n",
      "               'UPDATE policy_advocacy_budget SET budget = 500000.00 WHERE '\n",
      "               \"community = 'Native American' AND state = 'California' AND \"\n",
      "               'fiscal_year = YEAR(CURDATE());'],\n",
      "    'sql_complexity': ['aggregation', 'single join', 'basic SQL'],\n",
      "    'sql_complexity_description': [   'aggregation functions (COUNT, SUM, AVG, '\n",
      "                                      'MIN, MAX, etc.), and HAVING clause',\n",
      "                                      'only one join (specify inner, outer, '\n",
      "                                      'cross)',\n",
      "                                      'basic SQL with a simple select '\n",
      "                                      'statement'],\n",
      "    'sql_context': [   'CREATE TABLE medical_supplies (supply_id INT, '\n",
      "                       'organization_id INT, location VARCHAR(255), '\n",
      "                       'supply_type VARCHAR(255), supply_cost DECIMAL(10,2), '\n",
      "                       'distribution_date DATE); INSERT INTO medical_supplies '\n",
      "                       \"VALUES (1, 1, 'Country A', 'Medicine', 5000, \"\n",
      "                       \"'2020-01-01'); INSERT INTO medical_supplies VALUES (2, \"\n",
      "                       \"1, 'Country A', 'Medical Equipment', 7000, \"\n",
      "                       \"'2021-01-01'); INSERT INTO medical_supplies VALUES (3, \"\n",
      "                       \"2, 'Country B', 'Vaccines', 10000, '2021-01-01'); \"\n",
      "                       \"INSERT INTO medical_supplies VALUES (4, 2, 'Country \"\n",
      "                       \"B', 'First Aid Kits', 8000, '2020-01-01');\",\n",
      "                       'CREATE TABLE parks (park_id INT, area_id INT, '\n",
      "                       'park_name TEXT);CREATE TABLE areas (area_id INT, '\n",
      "                       'area_type TEXT);',\n",
      "                       'CREATE TABLE policy_advocacy_budget (id INT PRIMARY '\n",
      "                       'KEY, community VARCHAR(255), state VARCHAR(255), '\n",
      "                       'fiscal_year INT, budget DECIMAL(10,2));'],\n",
      "    'sql_explanation': [   'This query first groups the data by '\n",
      "                           'organization_id and location, calculates the '\n",
      "                           'number of medical supplies and total cost of the '\n",
      "                           'supplies for each organization. It then filters '\n",
      "                           'the data for East Africa region and distributions '\n",
      "                           'made in the last 3 years.',\n",
      "                           'This SQL query lists the names of all parks in '\n",
      "                           \"urban areas. It does this by joining the 'parks' \"\n",
      "                           \"table with the 'areas' table on the 'area_id' \"\n",
      "                           'column. Then, it filters the results to only '\n",
      "                           \"include rows where 'area_type' is 'urban'. \"\n",
      "                           \"Finally, it selects the 'park_name' column from \"\n",
      "                           'the resulting table.',\n",
      "                           'This query updates the policy advocacy budget for '\n",
      "                           'the Native American community in California to '\n",
      "                           '$500,000 for the current fiscal year in the '\n",
      "                           'policy_advocacy_budget table.'],\n",
      "    'sql_prompt': [   'What is the number of medical supplies distributed by '\n",
      "                      'each organization, in East Africa, for the last 3 '\n",
      "                      'years, and the total cost of the supplies?',\n",
      "                      'List the names of all parks in urban areas',\n",
      "                      'Update the policy advocacy budget for the Native '\n",
      "                      'American community in California to $500,000 for the '\n",
      "                      'current fiscal year.'],\n",
      "    'sql_task_type': [   'analytics and reporting',\n",
      "                         'analytics and reporting',\n",
      "                         'data manipulation'],\n",
      "    'sql_task_type_description': [   'generating reports, dashboards, and '\n",
      "                                     'analytical insights',\n",
      "                                     'generating reports, dashboards, and '\n",
      "                                     'analytical insights',\n",
      "                                     'inserting, updating, or deleting '\n",
      "                                     'records']}\n"
     ]
    }
   ],
   "execution_count": 63
  },
  {
   "metadata": {},
   "cell_type": "markdown",
   "source": "### Zero-shot inference",
   "id": "a6c5315e86ae8fa9"
  },
  {
   "cell_type": "code",
   "id": "initial_id",
   "metadata": {
    "collapsed": true,
    "ExecuteTime": {
     "end_time": "2024-09-15T11:26:06.126173Z",
     "start_time": "2024-09-15T11:25:54.211223Z"
    }
   },
   "source": [
    "for i, index in enumerate(example_indexes):\n",
    "    schema = dataset['test'][index]['sql_context']\n",
    "    instruction = dataset['test'][index]['sql_prompt']\n",
    "    sql = dataset['test'][index]['sql']\n",
    "\n",
    "    prompt = f\"\"\"\n",
    "Translate schema and description into SQL query. Respond only with SQL query without any additional characters.\n",
    "\n",
    "Schema: {schema}\n",
    "\n",
    "Instruction: {instruction}\n",
    "\n",
    "SQL query:\n",
    "    \"\"\"\n",
    "    \n",
    "    inputs = tokenizer(prompt, return_tensors='pt')\n",
    "    output = tokenizer.decode(\n",
    "        model.generate(\n",
    "            inputs[\"input_ids\"],\n",
    "            max_new_tokens=50,\n",
    "        )[0],\n",
    "        skip_special_tokens=True\n",
    "    )\n",
    "    \n",
    "    print('Example ', i + 1)\n",
    "    print(f'Task:\\n{instruction}')\n",
    "    print(f'Schema:\\n{schema}')\n",
    "    print(f'CORRECT SQL:\\n{sql}')\n",
    "    print(f'MODEL GENERATION SQL - ZERO SHOT:\\n{output}\\n')"
   ],
   "outputs": [
    {
     "name": "stdout",
     "output_type": "stream",
     "text": [
      "Example  1\n",
      "Task:\n",
      "What is the number of medical supplies distributed by each organization, in East Africa, for the last 3 years, and the total cost of the supplies?\n",
      "Schema:\n",
      "CREATE TABLE medical_supplies (supply_id INT, organization_id INT, location VARCHAR(255), supply_type VARCHAR(255), supply_cost DECIMAL(10,2), distribution_date DATE); INSERT INTO medical_supplies VALUES (1, 1, 'Country A', 'Medicine', 5000, '2020-01-01'); INSERT INTO medical_supplies VALUES (2, 1, 'Country A', 'Medical Equipment', 7000, '2021-01-01'); INSERT INTO medical_supplies VALUES (3, 2, 'Country B', 'Vaccines', 10000, '2021-01-01'); INSERT INTO medical_supplies VALUES (4, 2, 'Country B', 'First Aid Kits', 8000, '2020-01-01');\n",
      "CORRECT SQL:\n",
      "SELECT organization_id, location as region, COUNT(*) as number_of_supplies, SUM(supply_cost) as total_supply_cost FROM medical_supplies WHERE location = 'East Africa' AND distribution_date >= DATE_SUB(CURRENT_DATE, INTERVAL 3 YEAR) GROUP BY organization_id, location;\n",
      "MODEL GENERATION SQL - ZERO SHOT:\n",
      "SELECT TABLE_NUMBER_OF_MEDICAL_SURFACES (supply_id INT, organization_id INT, location VARCHAR(255), supply_type VARCHAR(\n",
      "\n",
      "Example  2\n",
      "Task:\n",
      "List the names of all parks in urban areas\n",
      "Schema:\n",
      "CREATE TABLE parks (park_id INT, area_id INT, park_name TEXT);CREATE TABLE areas (area_id INT, area_type TEXT);\n",
      "CORRECT SQL:\n",
      "SELECT p.park_name FROM parks p INNER JOIN areas a ON p.area_id = a.area_id WHERE a.area_type = 'urban';\n",
      "MODEL GENERATION SQL - ZERO SHOT:\n",
      "SELECT TABLE parks (park_id INT, area_id INT, park_name TEXT); SELECT TABLE areas (area_id INT, area_type TEXT\n",
      "\n",
      "Example  3\n",
      "Task:\n",
      "Update the policy advocacy budget for the Native American community in California to $500,000 for the current fiscal year.\n",
      "Schema:\n",
      "CREATE TABLE policy_advocacy_budget (id INT PRIMARY KEY, community VARCHAR(255), state VARCHAR(255), fiscal_year INT, budget DECIMAL(10,2));\n",
      "CORRECT SQL:\n",
      "UPDATE policy_advocacy_budget SET budget = 500000.00 WHERE community = 'Native American' AND state = 'California' AND fiscal_year = YEAR(CURDATE());\n",
      "MODEL GENERATION SQL - ZERO SHOT:\n",
      "CREATE TABLE policy_advocacy_budget (id INT PRIMARY KEY, community VARCHAR(255), state VARCHAR(255), fiscal_year INT, budget DEC\n",
      "\n",
      "Example  4\n",
      "Task:\n",
      "What is the maximum weekly wage for workers in the 'retail' industry in unions?\n",
      "Schema:\n",
      "CREATE TABLE unions (id INT, name TEXT); CREATE TABLE workers (id INT, union_id INT, industry TEXT, wage FLOAT); INSERT INTO unions (id, name) VALUES (1, 'Union Z'), (2, 'Union AA'), (3, 'Union AB'); INSERT INTO workers (id, union_id, industry, wage) VALUES (1, 1, 'retail', 500), (2, 1, 'retail', 550), (3, 2, 'retail', 600), (4, 2, 'retail', 650), (5, 3, 'retail', 700), (6, 3, 'retail', 750);\n",
      "CORRECT SQL:\n",
      "SELECT MAX(wage) FROM workers JOIN unions ON workers.union_id = unions.id WHERE industry = 'retail';\n",
      "MODEL GENERATION SQL - ZERO SHOT:\n",
      "SELECT TABLE unions (id INT, name TEXT); SELECT TABLE workers (id INT, union_id INT, industry TEXT, wage FLOAT); \n",
      "\n"
     ]
    }
   ],
   "execution_count": 65
  },
  {
   "metadata": {},
   "cell_type": "markdown",
   "source": "### One-shot inference",
   "id": "1e3fd8fb5503f351"
  },
  {
   "metadata": {
    "ExecuteTime": {
     "end_time": "2024-09-15T11:21:03.005750Z",
     "start_time": "2024-09-15T11:21:03.001602Z"
    }
   },
   "cell_type": "code",
   "source": [
    "def create_prompt_with_shots(schema: str, instruction: str, example_indexes: list)->str:\n",
    "    \"\"\"\n",
    "    function that generates prompt based example indexes\n",
    "    \"\"\"\n",
    "    prompt = f\"\"\"\n",
    "Translate schema and description into SQL query. Respond only with SQL query without any additional characters.\n",
    "Prepare result for last example based on previous examples below: \n",
    "\n",
    "    \"\"\"\n",
    "    for index in example_indexes:\n",
    "        example_schema = dataset['test'][index]['sql_context']\n",
    "        example_instruction = dataset['test'][index]['sql_prompt']\n",
    "        example_sql = dataset['test'][index]['sql']\n",
    "\n",
    "        prompt += f\"\"\"\n",
    "Schema: {example_schema}\n",
    "\n",
    "Instruction: {example_instruction}\n",
    "\n",
    "SQL query:\n",
    "{example_sql}\n",
    "        \"\"\"\n",
    "\n",
    "    prompt += f\"\"\"\n",
    "    Schema: {schema}\n",
    "\n",
    "Instruction: {instruction}\n",
    "\n",
    "SQL query:\n",
    "\n",
    "\n",
    "\"\"\"\n",
    "    return prompt"
   ],
   "id": "2aef0b21d400d264",
   "outputs": [],
   "execution_count": 54
  },
  {
   "metadata": {
    "ExecuteTime": {
     "end_time": "2024-09-15T11:26:07.873878Z",
     "start_time": "2024-09-15T11:26:06.144808Z"
    }
   },
   "cell_type": "code",
   "source": [
    "example_indexes = [20]\n",
    "index_to_process = 78\n",
    "\n",
    "one_shot_prompt = create_prompt_with_shots(\n",
    "    dataset['test'][index_to_process]['sql_context'],\n",
    "    dataset['test'][index_to_process]['sql_prompt'],\n",
    "    example_indexes\n",
    ")\n",
    "\n",
    "print(one_shot_prompt)\n",
    "\n",
    "sql = dataset['test'][index_to_process]['sql']\n",
    "\n",
    "inputs = tokenizer(one_shot_prompt, return_tensors='pt')\n",
    "output = tokenizer.decode(\n",
    "    model.generate(\n",
    "        inputs[\"input_ids\"],\n",
    "        max_new_tokens=50,\n",
    "    )[0],\n",
    "    skip_special_tokens=True\n",
    ")\n",
    "\n",
    "print(f'CORRECT SQL:\\n{sql}')\n",
    "print(f'MODEL GENERATION SQL - ZERO SHOT:\\n{output}\\n')"
   ],
   "id": "611061afe9d19af0",
   "outputs": [
    {
     "name": "stdout",
     "output_type": "stream",
     "text": [
      "\n",
      "Translate schema and description into SQL query. Respond only with SQL query without any additional characters.\n",
      "Prepare result for last example based on previous examples below: \n",
      "\n",
      "    \n",
      "Schema: CREATE TABLE asthma (id INTEGER, county VARCHAR(255), state VARCHAR(255), age INTEGER, prevalence FLOAT);\n",
      "\n",
      "Instruction: Which rural areas have the highest prevalence of asthma in children?\n",
      "\n",
      "SQL query:\n",
      "SELECT county, state, AVG(prevalence) AS avg_prevalence FROM asthma WHERE age < 18 AND county LIKE '%rural%' GROUP BY county, state ORDER BY avg_prevalence DESC LIMIT 10;\n",
      "        \n",
      "    Schema: CREATE TABLE unions (id INT, name TEXT); CREATE TABLE workers (id INT, union_id INT, industry TEXT, wage FLOAT); INSERT INTO unions (id, name) VALUES (1, 'Union Z'), (2, 'Union AA'), (3, 'Union AB'); INSERT INTO workers (id, union_id, industry, wage) VALUES (1, 1, 'retail', 500), (2, 1, 'retail', 550), (3, 2, 'retail', 600), (4, 2, 'retail', 650), (5, 3, 'retail', 700), (6, 3, 'retail', 750);\n",
      "\n",
      "Instruction: What is the maximum weekly wage for workers in the 'retail' industry in unions?\n",
      "\n",
      "SQL query:\n",
      "\n",
      "\n",
      "\n",
      "CORRECT SQL:\n",
      "SELECT MAX(wage) FROM workers JOIN unions ON workers.union_id = unions.id WHERE industry = 'retail';\n",
      "MODEL GENERATION SQL - ZERO SHOT:\n",
      "SELECT max(weekly) wage for workers in the'retail' industry in unions\n",
      "\n"
     ]
    }
   ],
   "execution_count": 66
  },
  {
   "metadata": {},
   "cell_type": "markdown",
   "source": "### Few-shot inference",
   "id": "6bd248462ef18c4d"
  },
  {
   "metadata": {
    "ExecuteTime": {
     "end_time": "2024-09-15T11:40:12.164007Z",
     "start_time": "2024-09-15T11:40:03.231957Z"
    }
   },
   "cell_type": "code",
   "source": [
    "example_indexes = list(range(60,70))\n",
    "index_to_process = 78\n",
    "\n",
    "prompt = create_prompt_with_shots(\n",
    "    dataset['test'][index_to_process]['sql_context'],\n",
    "    dataset['test'][index_to_process]['sql_prompt'],\n",
    "    example_indexes\n",
    ")\n",
    "\n",
    "print(one_shot_prompt)\n",
    "\n",
    "sql = dataset['test'][index_to_process]['sql']\n",
    "\n",
    "inputs = tokenizer(prompt, return_tensors='pt')\n",
    "output = tokenizer.decode(\n",
    "    model.generate(\n",
    "        inputs[\"input_ids\"],\n",
    "        max_new_tokens=50,\n",
    "    )[0],\n",
    "    skip_special_tokens=True\n",
    ")\n",
    "\n",
    "print(f'CORRECT SQL:\\n{sql}')\n",
    "print(f'MODEL GENERATION SQL - ZERO SHOT:\\n{output}\\n')"
   ],
   "id": "54a7248e81912a3d",
   "outputs": [
    {
     "name": "stdout",
     "output_type": "stream",
     "text": [
      "\n",
      "Translate schema and description into SQL query. Respond only with SQL query without any additional characters.\n",
      "Prepare result for last example based on previous examples below: \n",
      "\n",
      "    \n",
      "Schema: CREATE TABLE asthma (id INTEGER, county VARCHAR(255), state VARCHAR(255), age INTEGER, prevalence FLOAT);\n",
      "\n",
      "Instruction: Which rural areas have the highest prevalence of asthma in children?\n",
      "\n",
      "SQL query:\n",
      "SELECT county, state, AVG(prevalence) AS avg_prevalence FROM asthma WHERE age < 18 AND county LIKE '%rural%' GROUP BY county, state ORDER BY avg_prevalence DESC LIMIT 10;\n",
      "        \n",
      "    Schema: CREATE TABLE unions (id INT, name TEXT); CREATE TABLE workers (id INT, union_id INT, industry TEXT, wage FLOAT); INSERT INTO unions (id, name) VALUES (1, 'Union Z'), (2, 'Union AA'), (3, 'Union AB'); INSERT INTO workers (id, union_id, industry, wage) VALUES (1, 1, 'retail', 500), (2, 1, 'retail', 550), (3, 2, 'retail', 600), (4, 2, 'retail', 650), (5, 3, 'retail', 700), (6, 3, 'retail', 750);\n",
      "\n",
      "Instruction: What is the maximum weekly wage for workers in the 'retail' industry in unions?\n",
      "\n",
      "SQL query:\n",
      "\n",
      "\n",
      "\n",
      "CORRECT SQL:\n",
      "SELECT MAX(wage) FROM workers JOIN unions ON workers.union_id = unions.id WHERE industry = 'retail';\n",
      "MODEL GENERATION SQL - ZERO SHOT:\n",
      "SELECT max(weekly) FROM workers AS t1 JOIN unions AS t2 ON t1.union_id = t2.union_id WHERE t1.name = 'Union\n",
      "\n"
     ]
    }
   ],
   "execution_count": 68
  }
 ],
 "metadata": {
  "kernelspec": {
   "display_name": "Python 3",
   "language": "python",
   "name": "python3"
  },
  "language_info": {
   "codemirror_mode": {
    "name": "ipython",
    "version": 2
   },
   "file_extension": ".py",
   "mimetype": "text/x-python",
   "name": "python",
   "nbconvert_exporter": "python",
   "pygments_lexer": "ipython2",
   "version": "2.7.6"
  }
 },
 "nbformat": 4,
 "nbformat_minor": 5
}
