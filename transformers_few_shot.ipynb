{
 "cells": [
  {
   "metadata": {},
   "cell_type": "markdown",
   "source": [
    "## Zero-shot, One-shot and Few-shot Inference\n",
    "This notebook shows how to add examples to the prompt.\n",
    "LLM provided with examples can improve significantly results."
   ],
   "id": "cba0b29f9d96c116"
  },
  {
   "metadata": {
    "ExecuteTime": {
     "end_time": "2024-11-10T06:30:37.801860Z",
     "start_time": "2024-11-10T06:30:31.850607Z"
    }
   },
   "cell_type": "code",
   "source": [
    "%pip install -U datasets\n",
    "%pip install torch \n",
    "%pip install torchdata\n",
    "%pip install transformers"
   ],
   "id": "2e8a4f66c9ddc2d0",
   "outputs": [
    {
     "name": "stdout",
     "output_type": "stream",
     "text": [
      "Requirement already satisfied: datasets in /home/michal/anaconda3/lib/python3.12/site-packages (3.1.0)\r\n",
      "Requirement already satisfied: filelock in /home/michal/anaconda3/lib/python3.12/site-packages (from datasets) (3.13.1)\r\n",
      "Requirement already satisfied: numpy>=1.17 in /home/michal/anaconda3/lib/python3.12/site-packages (from datasets) (1.26.4)\r\n",
      "Requirement already satisfied: pyarrow>=15.0.0 in /home/michal/anaconda3/lib/python3.12/site-packages (from datasets) (16.1.0)\r\n",
      "Requirement already satisfied: dill<0.3.9,>=0.3.0 in /home/michal/anaconda3/lib/python3.12/site-packages (from datasets) (0.3.8)\r\n",
      "Requirement already satisfied: pandas in /home/michal/anaconda3/lib/python3.12/site-packages (from datasets) (2.2.2)\r\n",
      "Requirement already satisfied: requests>=2.32.2 in /home/michal/anaconda3/lib/python3.12/site-packages (from datasets) (2.32.3)\r\n",
      "Requirement already satisfied: tqdm>=4.66.3 in /home/michal/anaconda3/lib/python3.12/site-packages (from datasets) (4.66.5)\r\n",
      "Requirement already satisfied: xxhash in /home/michal/anaconda3/lib/python3.12/site-packages (from datasets) (3.5.0)\r\n",
      "Requirement already satisfied: multiprocess<0.70.17 in /home/michal/anaconda3/lib/python3.12/site-packages (from datasets) (0.70.16)\r\n",
      "Requirement already satisfied: fsspec<=2024.9.0,>=2023.1.0 in /home/michal/anaconda3/lib/python3.12/site-packages (from fsspec[http]<=2024.9.0,>=2023.1.0->datasets) (2024.6.1)\r\n",
      "Requirement already satisfied: aiohttp in /home/michal/anaconda3/lib/python3.12/site-packages (from datasets) (3.10.5)\r\n",
      "Requirement already satisfied: huggingface-hub>=0.23.0 in /home/michal/anaconda3/lib/python3.12/site-packages (from datasets) (0.26.2)\r\n",
      "Requirement already satisfied: packaging in /home/michal/anaconda3/lib/python3.12/site-packages (from datasets) (24.1)\r\n",
      "Requirement already satisfied: pyyaml>=5.1 in /home/michal/anaconda3/lib/python3.12/site-packages (from datasets) (6.0.1)\r\n",
      "Requirement already satisfied: aiohappyeyeballs>=2.3.0 in /home/michal/anaconda3/lib/python3.12/site-packages (from aiohttp->datasets) (2.4.0)\r\n",
      "Requirement already satisfied: aiosignal>=1.1.2 in /home/michal/anaconda3/lib/python3.12/site-packages (from aiohttp->datasets) (1.2.0)\r\n",
      "Requirement already satisfied: attrs>=17.3.0 in /home/michal/anaconda3/lib/python3.12/site-packages (from aiohttp->datasets) (23.1.0)\r\n",
      "Requirement already satisfied: frozenlist>=1.1.1 in /home/michal/anaconda3/lib/python3.12/site-packages (from aiohttp->datasets) (1.4.0)\r\n",
      "Requirement already satisfied: multidict<7.0,>=4.5 in /home/michal/anaconda3/lib/python3.12/site-packages (from aiohttp->datasets) (6.0.4)\r\n",
      "Requirement already satisfied: yarl<2.0,>=1.0 in /home/michal/anaconda3/lib/python3.12/site-packages (from aiohttp->datasets) (1.11.0)\r\n",
      "Requirement already satisfied: typing-extensions>=3.7.4.3 in /home/michal/anaconda3/lib/python3.12/site-packages (from huggingface-hub>=0.23.0->datasets) (4.11.0)\r\n",
      "Requirement already satisfied: charset-normalizer<4,>=2 in /home/michal/anaconda3/lib/python3.12/site-packages (from requests>=2.32.2->datasets) (3.3.2)\r\n",
      "Requirement already satisfied: idna<4,>=2.5 in /home/michal/anaconda3/lib/python3.12/site-packages (from requests>=2.32.2->datasets) (3.7)\r\n",
      "Requirement already satisfied: urllib3<3,>=1.21.1 in /home/michal/anaconda3/lib/python3.12/site-packages (from requests>=2.32.2->datasets) (2.2.3)\r\n",
      "Requirement already satisfied: certifi>=2017.4.17 in /home/michal/anaconda3/lib/python3.12/site-packages (from requests>=2.32.2->datasets) (2024.8.30)\r\n",
      "Requirement already satisfied: python-dateutil>=2.8.2 in /home/michal/anaconda3/lib/python3.12/site-packages (from pandas->datasets) (2.9.0.post0)\r\n",
      "Requirement already satisfied: pytz>=2020.1 in /home/michal/anaconda3/lib/python3.12/site-packages (from pandas->datasets) (2024.1)\r\n",
      "Requirement already satisfied: tzdata>=2022.7 in /home/michal/anaconda3/lib/python3.12/site-packages (from pandas->datasets) (2023.3)\r\n",
      "Requirement already satisfied: six>=1.5 in /home/michal/anaconda3/lib/python3.12/site-packages (from python-dateutil>=2.8.2->pandas->datasets) (1.16.0)\r\n",
      "Note: you may need to restart the kernel to use updated packages.\n",
      "Requirement already satisfied: torch in /home/michal/anaconda3/lib/python3.12/site-packages (2.5.1)\r\n",
      "Requirement already satisfied: filelock in /home/michal/anaconda3/lib/python3.12/site-packages (from torch) (3.13.1)\r\n",
      "Requirement already satisfied: typing-extensions>=4.8.0 in /home/michal/anaconda3/lib/python3.12/site-packages (from torch) (4.11.0)\r\n",
      "Requirement already satisfied: networkx in /home/michal/anaconda3/lib/python3.12/site-packages (from torch) (3.3)\r\n",
      "Requirement already satisfied: jinja2 in /home/michal/anaconda3/lib/python3.12/site-packages (from torch) (3.1.4)\r\n",
      "Requirement already satisfied: fsspec in /home/michal/anaconda3/lib/python3.12/site-packages (from torch) (2024.6.1)\r\n",
      "Requirement already satisfied: nvidia-cuda-nvrtc-cu12==12.4.127 in /home/michal/anaconda3/lib/python3.12/site-packages (from torch) (12.4.127)\r\n",
      "Requirement already satisfied: nvidia-cuda-runtime-cu12==12.4.127 in /home/michal/anaconda3/lib/python3.12/site-packages (from torch) (12.4.127)\r\n",
      "Requirement already satisfied: nvidia-cuda-cupti-cu12==12.4.127 in /home/michal/anaconda3/lib/python3.12/site-packages (from torch) (12.4.127)\r\n",
      "Requirement already satisfied: nvidia-cudnn-cu12==9.1.0.70 in /home/michal/anaconda3/lib/python3.12/site-packages (from torch) (9.1.0.70)\r\n",
      "Requirement already satisfied: nvidia-cublas-cu12==12.4.5.8 in /home/michal/anaconda3/lib/python3.12/site-packages (from torch) (12.4.5.8)\r\n",
      "Requirement already satisfied: nvidia-cufft-cu12==11.2.1.3 in /home/michal/anaconda3/lib/python3.12/site-packages (from torch) (11.2.1.3)\r\n",
      "Requirement already satisfied: nvidia-curand-cu12==10.3.5.147 in /home/michal/anaconda3/lib/python3.12/site-packages (from torch) (10.3.5.147)\r\n",
      "Requirement already satisfied: nvidia-cusolver-cu12==11.6.1.9 in /home/michal/anaconda3/lib/python3.12/site-packages (from torch) (11.6.1.9)\r\n",
      "Requirement already satisfied: nvidia-cusparse-cu12==12.3.1.170 in /home/michal/anaconda3/lib/python3.12/site-packages (from torch) (12.3.1.170)\r\n",
      "Requirement already satisfied: nvidia-nccl-cu12==2.21.5 in /home/michal/anaconda3/lib/python3.12/site-packages (from torch) (2.21.5)\r\n",
      "Requirement already satisfied: nvidia-nvtx-cu12==12.4.127 in /home/michal/anaconda3/lib/python3.12/site-packages (from torch) (12.4.127)\r\n",
      "Requirement already satisfied: nvidia-nvjitlink-cu12==12.4.127 in /home/michal/anaconda3/lib/python3.12/site-packages (from torch) (12.4.127)\r\n",
      "Requirement already satisfied: triton==3.1.0 in /home/michal/anaconda3/lib/python3.12/site-packages (from torch) (3.1.0)\r\n",
      "Requirement already satisfied: setuptools in /home/michal/anaconda3/lib/python3.12/site-packages (from torch) (75.1.0)\r\n",
      "Requirement already satisfied: sympy==1.13.1 in /home/michal/anaconda3/lib/python3.12/site-packages (from torch) (1.13.1)\r\n",
      "Requirement already satisfied: mpmath<1.4,>=1.1.0 in /home/michal/anaconda3/lib/python3.12/site-packages (from sympy==1.13.1->torch) (1.3.0)\r\n",
      "Requirement already satisfied: MarkupSafe>=2.0 in /home/michal/anaconda3/lib/python3.12/site-packages (from jinja2->torch) (2.1.3)\r\n",
      "Note: you may need to restart the kernel to use updated packages.\n",
      "Collecting torchdata\r\n",
      "  Downloading torchdata-0.9.0-cp312-cp312-manylinux1_x86_64.whl.metadata (5.5 kB)\r\n",
      "Requirement already satisfied: urllib3>=1.25 in /home/michal/anaconda3/lib/python3.12/site-packages (from torchdata) (2.2.3)\r\n",
      "Requirement already satisfied: requests in /home/michal/anaconda3/lib/python3.12/site-packages (from torchdata) (2.32.3)\r\n",
      "Requirement already satisfied: torch>=2 in /home/michal/anaconda3/lib/python3.12/site-packages (from torchdata) (2.5.1)\r\n",
      "Requirement already satisfied: filelock in /home/michal/anaconda3/lib/python3.12/site-packages (from torch>=2->torchdata) (3.13.1)\r\n",
      "Requirement already satisfied: typing-extensions>=4.8.0 in /home/michal/anaconda3/lib/python3.12/site-packages (from torch>=2->torchdata) (4.11.0)\r\n",
      "Requirement already satisfied: networkx in /home/michal/anaconda3/lib/python3.12/site-packages (from torch>=2->torchdata) (3.3)\r\n",
      "Requirement already satisfied: jinja2 in /home/michal/anaconda3/lib/python3.12/site-packages (from torch>=2->torchdata) (3.1.4)\r\n",
      "Requirement already satisfied: fsspec in /home/michal/anaconda3/lib/python3.12/site-packages (from torch>=2->torchdata) (2024.6.1)\r\n",
      "Requirement already satisfied: nvidia-cuda-nvrtc-cu12==12.4.127 in /home/michal/anaconda3/lib/python3.12/site-packages (from torch>=2->torchdata) (12.4.127)\r\n",
      "Requirement already satisfied: nvidia-cuda-runtime-cu12==12.4.127 in /home/michal/anaconda3/lib/python3.12/site-packages (from torch>=2->torchdata) (12.4.127)\r\n",
      "Requirement already satisfied: nvidia-cuda-cupti-cu12==12.4.127 in /home/michal/anaconda3/lib/python3.12/site-packages (from torch>=2->torchdata) (12.4.127)\r\n",
      "Requirement already satisfied: nvidia-cudnn-cu12==9.1.0.70 in /home/michal/anaconda3/lib/python3.12/site-packages (from torch>=2->torchdata) (9.1.0.70)\r\n",
      "Requirement already satisfied: nvidia-cublas-cu12==12.4.5.8 in /home/michal/anaconda3/lib/python3.12/site-packages (from torch>=2->torchdata) (12.4.5.8)\r\n",
      "Requirement already satisfied: nvidia-cufft-cu12==11.2.1.3 in /home/michal/anaconda3/lib/python3.12/site-packages (from torch>=2->torchdata) (11.2.1.3)\r\n",
      "Requirement already satisfied: nvidia-curand-cu12==10.3.5.147 in /home/michal/anaconda3/lib/python3.12/site-packages (from torch>=2->torchdata) (10.3.5.147)\r\n",
      "Requirement already satisfied: nvidia-cusolver-cu12==11.6.1.9 in /home/michal/anaconda3/lib/python3.12/site-packages (from torch>=2->torchdata) (11.6.1.9)\r\n",
      "Requirement already satisfied: nvidia-cusparse-cu12==12.3.1.170 in /home/michal/anaconda3/lib/python3.12/site-packages (from torch>=2->torchdata) (12.3.1.170)\r\n",
      "Requirement already satisfied: nvidia-nccl-cu12==2.21.5 in /home/michal/anaconda3/lib/python3.12/site-packages (from torch>=2->torchdata) (2.21.5)\r\n",
      "Requirement already satisfied: nvidia-nvtx-cu12==12.4.127 in /home/michal/anaconda3/lib/python3.12/site-packages (from torch>=2->torchdata) (12.4.127)\r\n",
      "Requirement already satisfied: nvidia-nvjitlink-cu12==12.4.127 in /home/michal/anaconda3/lib/python3.12/site-packages (from torch>=2->torchdata) (12.4.127)\r\n",
      "Requirement already satisfied: triton==3.1.0 in /home/michal/anaconda3/lib/python3.12/site-packages (from torch>=2->torchdata) (3.1.0)\r\n",
      "Requirement already satisfied: setuptools in /home/michal/anaconda3/lib/python3.12/site-packages (from torch>=2->torchdata) (75.1.0)\r\n",
      "Requirement already satisfied: sympy==1.13.1 in /home/michal/anaconda3/lib/python3.12/site-packages (from torch>=2->torchdata) (1.13.1)\r\n",
      "Requirement already satisfied: mpmath<1.4,>=1.1.0 in /home/michal/anaconda3/lib/python3.12/site-packages (from sympy==1.13.1->torch>=2->torchdata) (1.3.0)\r\n",
      "Requirement already satisfied: charset-normalizer<4,>=2 in /home/michal/anaconda3/lib/python3.12/site-packages (from requests->torchdata) (3.3.2)\r\n",
      "Requirement already satisfied: idna<4,>=2.5 in /home/michal/anaconda3/lib/python3.12/site-packages (from requests->torchdata) (3.7)\r\n",
      "Requirement already satisfied: certifi>=2017.4.17 in /home/michal/anaconda3/lib/python3.12/site-packages (from requests->torchdata) (2024.8.30)\r\n",
      "Requirement already satisfied: MarkupSafe>=2.0 in /home/michal/anaconda3/lib/python3.12/site-packages (from jinja2->torch>=2->torchdata) (2.1.3)\r\n",
      "Downloading torchdata-0.9.0-cp312-cp312-manylinux1_x86_64.whl (2.7 MB)\r\n",
      "\u001B[2K   \u001B[90m━━━━━━━━━━━━━━━━━━━━━━━━━━━━━━━━━━━━━━━━\u001B[0m \u001B[32m2.7/2.7 MB\u001B[0m \u001B[31m9.6 MB/s\u001B[0m eta \u001B[36m0:00:00\u001B[0ma \u001B[36m0:00:01\u001B[0m\r\n",
      "\u001B[?25hInstalling collected packages: torchdata\r\n",
      "Successfully installed torchdata-0.9.0\r\n",
      "Note: you may need to restart the kernel to use updated packages.\n",
      "Requirement already satisfied: transformers in /home/michal/anaconda3/lib/python3.12/site-packages (4.46.2)\r\n",
      "Requirement already satisfied: filelock in /home/michal/anaconda3/lib/python3.12/site-packages (from transformers) (3.13.1)\r\n",
      "Requirement already satisfied: huggingface-hub<1.0,>=0.23.2 in /home/michal/anaconda3/lib/python3.12/site-packages (from transformers) (0.26.2)\r\n",
      "Requirement already satisfied: numpy>=1.17 in /home/michal/anaconda3/lib/python3.12/site-packages (from transformers) (1.26.4)\r\n",
      "Requirement already satisfied: packaging>=20.0 in /home/michal/anaconda3/lib/python3.12/site-packages (from transformers) (24.1)\r\n",
      "Requirement already satisfied: pyyaml>=5.1 in /home/michal/anaconda3/lib/python3.12/site-packages (from transformers) (6.0.1)\r\n",
      "Requirement already satisfied: regex!=2019.12.17 in /home/michal/anaconda3/lib/python3.12/site-packages (from transformers) (2024.9.11)\r\n",
      "Requirement already satisfied: requests in /home/michal/anaconda3/lib/python3.12/site-packages (from transformers) (2.32.3)\r\n",
      "Requirement already satisfied: safetensors>=0.4.1 in /home/michal/anaconda3/lib/python3.12/site-packages (from transformers) (0.4.5)\r\n",
      "Requirement already satisfied: tokenizers<0.21,>=0.20 in /home/michal/anaconda3/lib/python3.12/site-packages (from transformers) (0.20.3)\r\n",
      "Requirement already satisfied: tqdm>=4.27 in /home/michal/anaconda3/lib/python3.12/site-packages (from transformers) (4.66.5)\r\n",
      "Requirement already satisfied: fsspec>=2023.5.0 in /home/michal/anaconda3/lib/python3.12/site-packages (from huggingface-hub<1.0,>=0.23.2->transformers) (2024.6.1)\r\n",
      "Requirement already satisfied: typing-extensions>=3.7.4.3 in /home/michal/anaconda3/lib/python3.12/site-packages (from huggingface-hub<1.0,>=0.23.2->transformers) (4.11.0)\r\n",
      "Requirement already satisfied: charset-normalizer<4,>=2 in /home/michal/anaconda3/lib/python3.12/site-packages (from requests->transformers) (3.3.2)\r\n",
      "Requirement already satisfied: idna<4,>=2.5 in /home/michal/anaconda3/lib/python3.12/site-packages (from requests->transformers) (3.7)\r\n",
      "Requirement already satisfied: urllib3<3,>=1.21.1 in /home/michal/anaconda3/lib/python3.12/site-packages (from requests->transformers) (2.2.3)\r\n",
      "Requirement already satisfied: certifi>=2017.4.17 in /home/michal/anaconda3/lib/python3.12/site-packages (from requests->transformers) (2024.8.30)\r\n",
      "Note: you may need to restart the kernel to use updated packages.\n"
     ]
    }
   ],
   "execution_count": 1
  },
  {
   "metadata": {
    "ExecuteTime": {
     "end_time": "2024-11-10T06:32:32.859118Z",
     "start_time": "2024-11-10T06:30:37.815904Z"
    }
   },
   "cell_type": "code",
   "source": [
    "from transformers import AutoModelForSeq2SeqLM\n",
    "from datasets import load_dataset\n",
    "from transformers import AutoTokenizer\n",
    "from transformers import GenerationConfig\n",
    "import pprint\n",
    "pp = pprint.PrettyPrinter(indent=4)\n",
    "\n",
    "\n",
    "model_name='google/flan-t5-base'\n",
    "\n",
    "model = AutoModelForSeq2SeqLM.from_pretrained(model_name)\n",
    "tokenizer = AutoTokenizer.from_pretrained(model_name, use_fast=True)\n",
    "\n",
    "#get dataset with translating text description and schema into SQL query\n",
    "dataset = load_dataset(\"gretelai/synthetic_text_to_sql\")\n",
    "\n",
    "#print 2 chosen records\n",
    "example_indexes = [37, 67, 101, 78]\n",
    "pp.pprint(dataset['test'][example_indices])"
   ],
   "id": "42c0502498c8ad0d",
   "outputs": [
    {
     "data": {
      "text/plain": [
       "config.json:   0%|          | 0.00/1.40k [00:00<?, ?B/s]"
      ],
      "application/vnd.jupyter.widget-view+json": {
       "version_major": 2,
       "version_minor": 0,
       "model_id": "27c0ad117c2d49aead2850257d774aa7"
      }
     },
     "metadata": {},
     "output_type": "display_data"
    },
    {
     "name": "stderr",
     "output_type": "stream",
     "text": [
      "2024-11-10 07:30:40.881260: E external/local_xla/xla/stream_executor/cuda/cuda_fft.cc:477] Unable to register cuFFT factory: Attempting to register factory for plugin cuFFT when one has already been registered\n",
      "WARNING: All log messages before absl::InitializeLog() is called are written to STDERR\n",
      "E0000 00:00:1731220240.897958   23342 cuda_dnn.cc:8310] Unable to register cuDNN factory: Attempting to register factory for plugin cuDNN when one has already been registered\n",
      "E0000 00:00:1731220240.902991   23342 cuda_blas.cc:1418] Unable to register cuBLAS factory: Attempting to register factory for plugin cuBLAS when one has already been registered\n",
      "2024-11-10 07:30:40.919917: I tensorflow/core/platform/cpu_feature_guard.cc:210] This TensorFlow binary is optimized to use available CPU instructions in performance-critical operations.\n",
      "To enable the following instructions: AVX2 FMA, in other operations, rebuild TensorFlow with the appropriate compiler flags.\n"
     ]
    },
    {
     "data": {
      "text/plain": [
       "model.safetensors:   0%|          | 0.00/990M [00:00<?, ?B/s]"
      ],
      "application/vnd.jupyter.widget-view+json": {
       "version_major": 2,
       "version_minor": 0,
       "model_id": "5e0b11c7c2974cc19dc12628c921ba57"
      }
     },
     "metadata": {},
     "output_type": "display_data"
    },
    {
     "data": {
      "text/plain": [
       "generation_config.json:   0%|          | 0.00/147 [00:00<?, ?B/s]"
      ],
      "application/vnd.jupyter.widget-view+json": {
       "version_major": 2,
       "version_minor": 0,
       "model_id": "c5652bf1034b44628973af766d25f5ae"
      }
     },
     "metadata": {},
     "output_type": "display_data"
    },
    {
     "data": {
      "text/plain": [
       "tokenizer_config.json:   0%|          | 0.00/2.54k [00:00<?, ?B/s]"
      ],
      "application/vnd.jupyter.widget-view+json": {
       "version_major": 2,
       "version_minor": 0,
       "model_id": "396b77731f154c4c9f2b87dfd03bacaf"
      }
     },
     "metadata": {},
     "output_type": "display_data"
    },
    {
     "data": {
      "text/plain": [
       "spiece.model:   0%|          | 0.00/792k [00:00<?, ?B/s]"
      ],
      "application/vnd.jupyter.widget-view+json": {
       "version_major": 2,
       "version_minor": 0,
       "model_id": "fe7ff6d1f78346d3804ec6a56826f9c1"
      }
     },
     "metadata": {},
     "output_type": "display_data"
    },
    {
     "data": {
      "text/plain": [
       "tokenizer.json:   0%|          | 0.00/2.42M [00:00<?, ?B/s]"
      ],
      "application/vnd.jupyter.widget-view+json": {
       "version_major": 2,
       "version_minor": 0,
       "model_id": "b213077b664a4afe8220a539a7e9bca6"
      }
     },
     "metadata": {},
     "output_type": "display_data"
    },
    {
     "data": {
      "text/plain": [
       "special_tokens_map.json:   0%|          | 0.00/2.20k [00:00<?, ?B/s]"
      ],
      "application/vnd.jupyter.widget-view+json": {
       "version_major": 2,
       "version_minor": 0,
       "model_id": "96ca9a2671c4440fa99e6199625f05b3"
      }
     },
     "metadata": {},
     "output_type": "display_data"
    },
    {
     "data": {
      "text/plain": [
       "README.md:   0%|          | 0.00/8.18k [00:00<?, ?B/s]"
      ],
      "application/vnd.jupyter.widget-view+json": {
       "version_major": 2,
       "version_minor": 0,
       "model_id": "be879f914e744e3a85e99cfca357b1b3"
      }
     },
     "metadata": {},
     "output_type": "display_data"
    },
    {
     "data": {
      "text/plain": [
       "(…)nthetic_text_to_sql_train.snappy.parquet:   0%|          | 0.00/32.4M [00:00<?, ?B/s]"
      ],
      "application/vnd.jupyter.widget-view+json": {
       "version_major": 2,
       "version_minor": 0,
       "model_id": "b1d0048e70284aaa9c5eb6cb7b66f819"
      }
     },
     "metadata": {},
     "output_type": "display_data"
    },
    {
     "data": {
      "text/plain": [
       "(…)ynthetic_text_to_sql_test.snappy.parquet:   0%|          | 0.00/1.90M [00:00<?, ?B/s]"
      ],
      "application/vnd.jupyter.widget-view+json": {
       "version_major": 2,
       "version_minor": 0,
       "model_id": "815c13e63c4e4b3c93adfaee6bcc20a4"
      }
     },
     "metadata": {},
     "output_type": "display_data"
    },
    {
     "data": {
      "text/plain": [
       "Generating train split:   0%|          | 0/100000 [00:00<?, ? examples/s]"
      ],
      "application/vnd.jupyter.widget-view+json": {
       "version_major": 2,
       "version_minor": 0,
       "model_id": "94808271ebb24f139e0a1aa053b74972"
      }
     },
     "metadata": {},
     "output_type": "display_data"
    },
    {
     "data": {
      "text/plain": [
       "Generating test split:   0%|          | 0/5851 [00:00<?, ? examples/s]"
      ],
      "application/vnd.jupyter.widget-view+json": {
       "version_major": 2,
       "version_minor": 0,
       "model_id": "20b6a8a654fa457086109d3cc31d910e"
      }
     },
     "metadata": {},
     "output_type": "display_data"
    },
    {
     "ename": "NameError",
     "evalue": "name 'example_indices' is not defined",
     "output_type": "error",
     "traceback": [
      "\u001B[0;31m---------------------------------------------------------------------------\u001B[0m",
      "\u001B[0;31mNameError\u001B[0m                                 Traceback (most recent call last)",
      "Cell \u001B[0;32mIn[2], line 19\u001B[0m\n\u001B[1;32m     17\u001B[0m \u001B[38;5;66;03m#print 2 chosen records\u001B[39;00m\n\u001B[1;32m     18\u001B[0m example_indexes \u001B[38;5;241m=\u001B[39m [\u001B[38;5;241m37\u001B[39m, \u001B[38;5;241m67\u001B[39m, \u001B[38;5;241m101\u001B[39m, \u001B[38;5;241m78\u001B[39m]\n\u001B[0;32m---> 19\u001B[0m pp\u001B[38;5;241m.\u001B[39mpprint(dataset[\u001B[38;5;124m'\u001B[39m\u001B[38;5;124mtest\u001B[39m\u001B[38;5;124m'\u001B[39m][example_indices])\n",
      "\u001B[0;31mNameError\u001B[0m: name 'example_indices' is not defined"
     ]
    }
   ],
   "execution_count": 2
  },
  {
   "metadata": {},
   "cell_type": "markdown",
   "source": "### Zero-shot inference",
   "id": "a6c5315e86ae8fa9"
  },
  {
   "cell_type": "code",
   "id": "initial_id",
   "metadata": {
    "collapsed": true,
    "ExecuteTime": {
     "end_time": "2024-11-10T06:32:32.864552982Z",
     "start_time": "2024-09-15T11:25:54.211223Z"
    }
   },
   "source": [
    "for i, index in enumerate(example_indexes):\n",
    "    schema = dataset['test'][index]['sql_context']\n",
    "    instruction = dataset['test'][index]['sql_prompt']\n",
    "    sql = dataset['test'][index]['sql']\n",
    "\n",
    "    prompt = f\"\"\"\n",
    "Translate schema and description into SQL query. Respond only with SQL query without any additional characters.\n",
    "\n",
    "Schema: {schema}\n",
    "\n",
    "Instruction: {instruction}\n",
    "\n",
    "SQL query:\n",
    "    \"\"\"\n",
    "    \n",
    "    inputs = tokenizer(prompt, return_tensors='pt')\n",
    "    output = tokenizer.decode(\n",
    "        model.generate(\n",
    "            inputs[\"input_ids\"],\n",
    "            max_new_tokens=50,\n",
    "        )[0],\n",
    "        skip_special_tokens=True\n",
    "    )\n",
    "    \n",
    "    print('Example ', i + 1)\n",
    "    print(f'Task:\\n{instruction}')\n",
    "    print(f'Schema:\\n{schema}')\n",
    "    print(f'CORRECT SQL:\\n{sql}')\n",
    "    print(f'MODEL GENERATION SQL - ZERO SHOT:\\n{output}\\n')"
   ],
   "outputs": [
    {
     "name": "stdout",
     "output_type": "stream",
     "text": [
      "Example  1\n",
      "Task:\n",
      "What is the number of medical supplies distributed by each organization, in East Africa, for the last 3 years, and the total cost of the supplies?\n",
      "Schema:\n",
      "CREATE TABLE medical_supplies (supply_id INT, organization_id INT, location VARCHAR(255), supply_type VARCHAR(255), supply_cost DECIMAL(10,2), distribution_date DATE); INSERT INTO medical_supplies VALUES (1, 1, 'Country A', 'Medicine', 5000, '2020-01-01'); INSERT INTO medical_supplies VALUES (2, 1, 'Country A', 'Medical Equipment', 7000, '2021-01-01'); INSERT INTO medical_supplies VALUES (3, 2, 'Country B', 'Vaccines', 10000, '2021-01-01'); INSERT INTO medical_supplies VALUES (4, 2, 'Country B', 'First Aid Kits', 8000, '2020-01-01');\n",
      "CORRECT SQL:\n",
      "SELECT organization_id, location as region, COUNT(*) as number_of_supplies, SUM(supply_cost) as total_supply_cost FROM medical_supplies WHERE location = 'East Africa' AND distribution_date >= DATE_SUB(CURRENT_DATE, INTERVAL 3 YEAR) GROUP BY organization_id, location;\n",
      "MODEL GENERATION SQL - ZERO SHOT:\n",
      "SELECT TABLE_NUMBER_OF_MEDICAL_SURFACES (supply_id INT, organization_id INT, location VARCHAR(255), supply_type VARCHAR(\n",
      "\n",
      "Example  2\n",
      "Task:\n",
      "List the names of all parks in urban areas\n",
      "Schema:\n",
      "CREATE TABLE parks (park_id INT, area_id INT, park_name TEXT);CREATE TABLE areas (area_id INT, area_type TEXT);\n",
      "CORRECT SQL:\n",
      "SELECT p.park_name FROM parks p INNER JOIN areas a ON p.area_id = a.area_id WHERE a.area_type = 'urban';\n",
      "MODEL GENERATION SQL - ZERO SHOT:\n",
      "SELECT TABLE parks (park_id INT, area_id INT, park_name TEXT); SELECT TABLE areas (area_id INT, area_type TEXT\n",
      "\n",
      "Example  3\n",
      "Task:\n",
      "Update the policy advocacy budget for the Native American community in California to $500,000 for the current fiscal year.\n",
      "Schema:\n",
      "CREATE TABLE policy_advocacy_budget (id INT PRIMARY KEY, community VARCHAR(255), state VARCHAR(255), fiscal_year INT, budget DECIMAL(10,2));\n",
      "CORRECT SQL:\n",
      "UPDATE policy_advocacy_budget SET budget = 500000.00 WHERE community = 'Native American' AND state = 'California' AND fiscal_year = YEAR(CURDATE());\n",
      "MODEL GENERATION SQL - ZERO SHOT:\n",
      "CREATE TABLE policy_advocacy_budget (id INT PRIMARY KEY, community VARCHAR(255), state VARCHAR(255), fiscal_year INT, budget DEC\n",
      "\n",
      "Example  4\n",
      "Task:\n",
      "What is the maximum weekly wage for workers in the 'retail' industry in unions?\n",
      "Schema:\n",
      "CREATE TABLE unions (id INT, name TEXT); CREATE TABLE workers (id INT, union_id INT, industry TEXT, wage FLOAT); INSERT INTO unions (id, name) VALUES (1, 'Union Z'), (2, 'Union AA'), (3, 'Union AB'); INSERT INTO workers (id, union_id, industry, wage) VALUES (1, 1, 'retail', 500), (2, 1, 'retail', 550), (3, 2, 'retail', 600), (4, 2, 'retail', 650), (5, 3, 'retail', 700), (6, 3, 'retail', 750);\n",
      "CORRECT SQL:\n",
      "SELECT MAX(wage) FROM workers JOIN unions ON workers.union_id = unions.id WHERE industry = 'retail';\n",
      "MODEL GENERATION SQL - ZERO SHOT:\n",
      "SELECT TABLE unions (id INT, name TEXT); SELECT TABLE workers (id INT, union_id INT, industry TEXT, wage FLOAT); \n",
      "\n"
     ]
    }
   ],
   "execution_count": 65
  },
  {
   "metadata": {},
   "cell_type": "markdown",
   "source": "### One-shot inference",
   "id": "1e3fd8fb5503f351"
  },
  {
   "metadata": {
    "ExecuteTime": {
     "end_time": "2024-11-10T06:32:32.865055877Z",
     "start_time": "2024-09-15T11:21:03.001602Z"
    }
   },
   "cell_type": "code",
   "source": [
    "def create_prompt_with_shots(schema: str, instruction: str, example_indexes: list)->str:\n",
    "    \"\"\"\n",
    "    function that generates prompt based example indexes\n",
    "    \"\"\"\n",
    "    prompt = f\"\"\"\n",
    "Translate schema and description into SQL query. Respond only with SQL query without any additional characters.\n",
    "Prepare result for last example based on previous examples below: \n",
    "\n",
    "    \"\"\"\n",
    "    for index in example_indexes:\n",
    "        example_schema = dataset['test'][index]['sql_context']\n",
    "        example_instruction = dataset['test'][index]['sql_prompt']\n",
    "        example_sql = dataset['test'][index]['sql']\n",
    "\n",
    "        prompt += f\"\"\"\n",
    "Schema: {example_schema}\n",
    "\n",
    "Instruction: {example_instruction}\n",
    "\n",
    "SQL query:\n",
    "{example_sql}\n",
    "        \"\"\"\n",
    "\n",
    "    prompt += f\"\"\"\n",
    "    Schema: {schema}\n",
    "\n",
    "Instruction: {instruction}\n",
    "\n",
    "SQL query:\n",
    "\n",
    "\n",
    "\"\"\"\n",
    "    return prompt"
   ],
   "id": "2aef0b21d400d264",
   "outputs": [],
   "execution_count": 54
  },
  {
   "metadata": {
    "ExecuteTime": {
     "end_time": "2024-11-10T06:32:32.865567959Z",
     "start_time": "2024-09-15T11:26:06.144808Z"
    }
   },
   "cell_type": "code",
   "source": [
    "example_indexes = [20]\n",
    "index_to_process = 78\n",
    "\n",
    "one_shot_prompt = create_prompt_with_shots(\n",
    "    dataset['test'][index_to_process]['sql_context'],\n",
    "    dataset['test'][index_to_process]['sql_prompt'],\n",
    "    example_indexes\n",
    ")\n",
    "\n",
    "print(one_shot_prompt)\n",
    "\n",
    "sql = dataset['test'][index_to_process]['sql']\n",
    "\n",
    "inputs = tokenizer(one_shot_prompt, return_tensors='pt')\n",
    "output = tokenizer.decode(\n",
    "    model.generate(\n",
    "        inputs[\"input_ids\"],\n",
    "        max_new_tokens=50,\n",
    "    )[0],\n",
    "    skip_special_tokens=True\n",
    ")\n",
    "\n",
    "print(f'CORRECT SQL:\\n{sql}')\n",
    "print(f'MODEL GENERATION SQL - ZERO SHOT:\\n{output}\\n')"
   ],
   "id": "611061afe9d19af0",
   "outputs": [
    {
     "name": "stdout",
     "output_type": "stream",
     "text": [
      "\n",
      "Translate schema and description into SQL query. Respond only with SQL query without any additional characters.\n",
      "Prepare result for last example based on previous examples below: \n",
      "\n",
      "    \n",
      "Schema: CREATE TABLE asthma (id INTEGER, county VARCHAR(255), state VARCHAR(255), age INTEGER, prevalence FLOAT);\n",
      "\n",
      "Instruction: Which rural areas have the highest prevalence of asthma in children?\n",
      "\n",
      "SQL query:\n",
      "SELECT county, state, AVG(prevalence) AS avg_prevalence FROM asthma WHERE age < 18 AND county LIKE '%rural%' GROUP BY county, state ORDER BY avg_prevalence DESC LIMIT 10;\n",
      "        \n",
      "    Schema: CREATE TABLE unions (id INT, name TEXT); CREATE TABLE workers (id INT, union_id INT, industry TEXT, wage FLOAT); INSERT INTO unions (id, name) VALUES (1, 'Union Z'), (2, 'Union AA'), (3, 'Union AB'); INSERT INTO workers (id, union_id, industry, wage) VALUES (1, 1, 'retail', 500), (2, 1, 'retail', 550), (3, 2, 'retail', 600), (4, 2, 'retail', 650), (5, 3, 'retail', 700), (6, 3, 'retail', 750);\n",
      "\n",
      "Instruction: What is the maximum weekly wage for workers in the 'retail' industry in unions?\n",
      "\n",
      "SQL query:\n",
      "\n",
      "\n",
      "\n",
      "CORRECT SQL:\n",
      "SELECT MAX(wage) FROM workers JOIN unions ON workers.union_id = unions.id WHERE industry = 'retail';\n",
      "MODEL GENERATION SQL - ZERO SHOT:\n",
      "SELECT max(weekly) wage for workers in the'retail' industry in unions\n",
      "\n"
     ]
    }
   ],
   "execution_count": 66
  },
  {
   "metadata": {},
   "cell_type": "markdown",
   "source": "### Few-shot inference",
   "id": "6bd248462ef18c4d"
  },
  {
   "metadata": {
    "ExecuteTime": {
     "end_time": "2024-11-10T06:32:32.866390164Z",
     "start_time": "2024-09-15T11:40:03.231957Z"
    }
   },
   "cell_type": "code",
   "source": [
    "example_indexes = list(range(60,70))\n",
    "index_to_process = 78\n",
    "\n",
    "prompt = create_prompt_with_shots(\n",
    "    dataset['test'][index_to_process]['sql_context'],\n",
    "    dataset['test'][index_to_process]['sql_prompt'],\n",
    "    example_indexes\n",
    ")\n",
    "\n",
    "print(one_shot_prompt)\n",
    "\n",
    "sql = dataset['test'][index_to_process]['sql']\n",
    "\n",
    "inputs = tokenizer(prompt, return_tensors='pt')\n",
    "output = tokenizer.decode(\n",
    "    model.generate(\n",
    "        inputs[\"input_ids\"],\n",
    "        max_new_tokens=50,\n",
    "    )[0],\n",
    "    skip_special_tokens=True\n",
    ")\n",
    "\n",
    "print(f'CORRECT SQL:\\n{sql}')\n",
    "print(f'MODEL GENERATION SQL - ZERO SHOT:\\n{output}\\n')"
   ],
   "id": "54a7248e81912a3d",
   "outputs": [
    {
     "name": "stdout",
     "output_type": "stream",
     "text": [
      "\n",
      "Translate schema and description into SQL query. Respond only with SQL query without any additional characters.\n",
      "Prepare result for last example based on previous examples below: \n",
      "\n",
      "    \n",
      "Schema: CREATE TABLE asthma (id INTEGER, county VARCHAR(255), state VARCHAR(255), age INTEGER, prevalence FLOAT);\n",
      "\n",
      "Instruction: Which rural areas have the highest prevalence of asthma in children?\n",
      "\n",
      "SQL query:\n",
      "SELECT county, state, AVG(prevalence) AS avg_prevalence FROM asthma WHERE age < 18 AND county LIKE '%rural%' GROUP BY county, state ORDER BY avg_prevalence DESC LIMIT 10;\n",
      "        \n",
      "    Schema: CREATE TABLE unions (id INT, name TEXT); CREATE TABLE workers (id INT, union_id INT, industry TEXT, wage FLOAT); INSERT INTO unions (id, name) VALUES (1, 'Union Z'), (2, 'Union AA'), (3, 'Union AB'); INSERT INTO workers (id, union_id, industry, wage) VALUES (1, 1, 'retail', 500), (2, 1, 'retail', 550), (3, 2, 'retail', 600), (4, 2, 'retail', 650), (5, 3, 'retail', 700), (6, 3, 'retail', 750);\n",
      "\n",
      "Instruction: What is the maximum weekly wage for workers in the 'retail' industry in unions?\n",
      "\n",
      "SQL query:\n",
      "\n",
      "\n",
      "\n",
      "CORRECT SQL:\n",
      "SELECT MAX(wage) FROM workers JOIN unions ON workers.union_id = unions.id WHERE industry = 'retail';\n",
      "MODEL GENERATION SQL - ZERO SHOT:\n",
      "SELECT max(weekly) FROM workers AS t1 JOIN unions AS t2 ON t1.union_id = t2.union_id WHERE t1.name = 'Union\n",
      "\n"
     ]
    }
   ],
   "execution_count": 68
  }
 ],
 "metadata": {
  "kernelspec": {
   "display_name": "Python 3",
   "language": "python",
   "name": "python3"
  },
  "language_info": {
   "codemirror_mode": {
    "name": "ipython",
    "version": 2
   },
   "file_extension": ".py",
   "mimetype": "text/x-python",
   "name": "python",
   "nbconvert_exporter": "python",
   "pygments_lexer": "ipython2",
   "version": "2.7.6"
  }
 },
 "nbformat": 4,
 "nbformat_minor": 5
}
