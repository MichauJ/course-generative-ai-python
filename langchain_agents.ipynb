{
 "cells": [
  {
   "metadata": {},
   "cell_type": "markdown",
   "source": [
    "## Langchain Agents\n",
    "Agents use LLM to determine what actions to perform and in what order. Agents can use set of predefined tools to solve complex tasks."
   ],
   "id": "98fa5c210d9259f8"
  },
  {
   "metadata": {
    "ExecuteTime": {
     "end_time": "2024-12-07T18:50:15.545886Z",
     "start_time": "2024-12-07T18:50:13.795952Z"
    }
   },
   "cell_type": "code",
   "source": "!pip install arxiv",
   "id": "c433c14a5d91d8a7",
   "outputs": [
    {
     "name": "stdout",
     "output_type": "stream",
     "text": [
      "Collecting arxiv\r\n",
      "  Downloading arxiv-2.1.3-py3-none-any.whl.metadata (6.1 kB)\r\n",
      "Requirement already satisfied: feedparser~=6.0.10 in /home/michal/anaconda3/lib/python3.12/site-packages (from arxiv) (6.0.11)\r\n",
      "Requirement already satisfied: requests~=2.32.0 in /home/michal/anaconda3/lib/python3.12/site-packages (from arxiv) (2.32.3)\r\n",
      "Requirement already satisfied: sgmllib3k in /home/michal/anaconda3/lib/python3.12/site-packages (from feedparser~=6.0.10->arxiv) (1.0.0)\r\n",
      "Requirement already satisfied: charset-normalizer<4,>=2 in /home/michal/anaconda3/lib/python3.12/site-packages (from requests~=2.32.0->arxiv) (3.3.2)\r\n",
      "Requirement already satisfied: idna<4,>=2.5 in /home/michal/anaconda3/lib/python3.12/site-packages (from requests~=2.32.0->arxiv) (3.7)\r\n",
      "Requirement already satisfied: urllib3<3,>=1.21.1 in /home/michal/anaconda3/lib/python3.12/site-packages (from requests~=2.32.0->arxiv) (1.26.20)\r\n",
      "Requirement already satisfied: certifi>=2017.4.17 in /home/michal/anaconda3/lib/python3.12/site-packages (from requests~=2.32.0->arxiv) (2024.8.30)\r\n",
      "Downloading arxiv-2.1.3-py3-none-any.whl (11 kB)\r\n",
      "Installing collected packages: arxiv\r\n",
      "Successfully installed arxiv-2.1.3\r\n"
     ]
    }
   ],
   "execution_count": 1
  },
  {
   "metadata": {
    "ExecuteTime": {
     "end_time": "2024-12-07T18:51:01.782372Z",
     "start_time": "2024-12-07T18:50:15.556595Z"
    }
   },
   "cell_type": "code",
   "source": [
    " from langchain_openai import ChatOpenAI\n",
    "from langchain.agents import load_tools\n",
    "from dotenv import load_dotenv, find_dotenv\n",
    "from langchain.agents import Tool\n",
    "from langchain.agents import initialize_agent\n",
    "\n",
    "load_dotenv(find_dotenv())\n",
    "\n",
    "llm = ChatOpenAI(model_name=\"gpt-4o\", temperature=0)\n",
    "tool_names = [\"arxiv\", \"llm-math\"] #archive with scientific papers\n",
    "tools = load_tools(tool_names, llm=llm)\n",
    "\n",
    "tool_list = [\n",
    "    Tool(\n",
    "        name=\"Arxiv\",\n",
    "        func=tools[0].run,\n",
    "        description=\"Search in scientific papers\"\n",
    "    ),\n",
    "    Tool(\n",
    "        name=\"Calculation tool\",\n",
    "        func=tools[1].run,\n",
    "        description=\"Perform calculations\"\n",
    "    )\n",
    "]\n",
    "\n",
    "agent = initialize_agent(tool_list, llm, agent=\"zero-shot-react-description\", verbose=True)\n",
    "agent.invoke(\"What the name of most famous scientific paper about text transformers? Could you process calculations mentioned in this paper to check if they are correct?\")"
   ],
   "id": "415cc5600d759503",
   "outputs": [
    {
     "name": "stderr",
     "output_type": "stream",
     "text": [
      "/tmp/ipykernel_21198/3998349903.py:26: LangChainDeprecationWarning: The function `initialize_agent` was deprecated in LangChain 0.1.0 and will be removed in 1.0. Use :meth:`~Use new agent constructor methods like create_react_agent, create_json_agent, create_structured_chat_agent, etc.` instead.\n",
      "  agent = initialize_agent(tool_list, llm, agent=\"zero-shot-react-description\", verbose=True)\n"
     ]
    },
    {
     "name": "stdout",
     "output_type": "stream",
     "text": [
      "\n",
      "\n",
      "\u001B[1m> Entering new AgentExecutor chain...\u001B[0m\n",
      "\u001B[32;1m\u001B[1;3mTo answer this question, I need to identify the most famous scientific paper about text transformers and then review the calculations mentioned in it. The most well-known paper in this field is likely \"Attention is All You Need\" by Vaswani et al., which introduced the Transformer model. I will first confirm this by searching for the paper.\n",
      "\n",
      "Action: Arxiv\n",
      "Action Input: \"Attention is All You Need\" by Vaswani et al.\u001B[0m\n",
      "Observation: \u001B[36;1m\u001B[1;3mNo good Arxiv Result was found\u001B[0m\n",
      "Thought:\u001B[32;1m\u001B[1;3mIt seems there was an issue retrieving the paper from Arxiv. However, I know that \"Attention is All You Need\" by Vaswani et al. is indeed the seminal paper that introduced the Transformer model, which is widely recognized in the field of natural language processing.\n",
      "\n",
      "To proceed with verifying the calculations mentioned in the paper, I will need to access the paper's content, particularly the sections that involve mathematical formulations or calculations. Since I cannot retrieve the paper directly from Arxiv, I will summarize the key calculations based on my knowledge.\n",
      "\n",
      "The paper introduces the Transformer model, which relies heavily on the self-attention mechanism. Key calculations involve:\n",
      "\n",
      "1. **Scaled Dot-Product Attention**: \n",
      "   \\[\n",
      "   \\text{Attention}(Q, K, V) = \\text{softmax}\\left(\\frac{QK^T}{\\sqrt{d_k}}\\right)V\n",
      "   \\]\n",
      "   where \\(Q\\), \\(K\\), and \\(V\\) are the query, key, and value matrices, and \\(d_k\\) is the dimension of the keys.\n",
      "\n",
      "2. **Multi-Head Attention**: \n",
      "   This involves linearly projecting the queries, keys, and values \\(h\\) times with different learned linear projections, performing the attention function in parallel, and then concatenating the results.\n",
      "\n",
      "3. **Position-wise Feed-Forward Networks**: \n",
      "   \\[\n",
      "   \\text{FFN}(x) = \\max(0, xW_1 + b_1)W_2 + b_2\n",
      "   \\]\n",
      "   where \\(W_1\\), \\(W_2\\), \\(b_1\\), and \\(b_2\\) are learned parameters.\n",
      "\n",
      "To verify these calculations, I will perform a simple check on the scaled dot-product attention formula using hypothetical values.\n",
      "\n",
      "Action: Calculation tool\n",
      "Action Input: {\n",
      "  \"Q\": [[1, 0], [0, 1]],\n",
      "  \"K\": [[1, 0], [0, 1]],\n",
      "  \"V\": [[1, 2], [3, 4]],\n",
      "  \"d_k\": 2\n",
      "}\u001B[0m\n",
      "Observation: \u001B[33;1m\u001B[1;3mAnswer:  The attention output is:\u001B[0m\n",
      "Thought:\u001B[32;1m\u001B[1;3mIt seems there was an issue with the calculation tool input. Let me correct that and perform the calculation for the scaled dot-product attention using the given matrices.\n",
      "\n",
      "The formula for scaled dot-product attention is:\n",
      "\n",
      "\\[\n",
      "\\text{Attention}(Q, K, V) = \\text{softmax}\\left(\\frac{QK^T}{\\sqrt{d_k}}\\right)V\n",
      "\\]\n",
      "\n",
      "Given:\n",
      "- \\( Q = \\begin{bmatrix} 1 & 0 \\\\ 0 & 1 \\end{bmatrix} \\)\n",
      "- \\( K = \\begin{bmatrix} 1 & 0 \\\\ 0 & 1 \\end{bmatrix} \\)\n",
      "- \\( V = \\begin{bmatrix} 1 & 2 \\\\ 3 & 4 \\end{bmatrix} \\)\n",
      "- \\( d_k = 2 \\)\n",
      "\n",
      "Let's perform the calculation.\n",
      "\n",
      "Action: Calculation tool\n",
      "Action Input: {\n",
      "  \"Q\": [[1, 0], [0, 1]],\n",
      "  \"K\": [[1, 0], [0, 1]],\n",
      "  \"V\": [[1, 2], [3, 4]],\n",
      "  \"d_k\": 2\n",
      "}\u001B[0m"
     ]
    },
    {
     "ename": "ValueError",
     "evalue": "unknown format from LLM: To solve this problem, we need to compute the scaled dot-product attention, which is a common operation in transformer models. The formula for scaled dot-product attention is:\n\n\\[ \\text{Attention}(Q, K, V) = \\text{softmax}\\left(\\frac{QK^T}{\\sqrt{d_k}}\\right)V \\]\n\nGiven the matrices:\n- \\( Q = \\begin{bmatrix} 1 & 0 \\\\ 0 & 1 \\end{bmatrix} \\)\n- \\( K = \\begin{bmatrix} 1 & 0 \\\\ 0 & 1 \\end{bmatrix} \\)\n- \\( V = \\begin{bmatrix} 1 & 2 \\\\ 3 & 4 \\end{bmatrix} \\)\n- \\( d_k = 2 \\)\n\nWe can break down the computation as follows:\n\n1. Compute \\( QK^T \\):\n   \\[\n   QK^T = \\begin{bmatrix} 1 & 0 \\\\ 0 & 1 \\end{bmatrix} \\begin{bmatrix} 1 & 0 \\\\ 0 & 1 \\end{bmatrix} = \\begin{bmatrix} 1 & 0 \\\\ 0 & 1 \\end{bmatrix}\n   \\]\n\n2. Scale by \\( \\frac{1}{\\sqrt{d_k}} \\):\n   \\[\n   \\frac{QK^T}{\\sqrt{2}} = \\begin{bmatrix} \\frac{1}{\\sqrt{2}} & 0 \\\\ 0 & \\frac{1}{\\sqrt{2}} \\end{bmatrix}\n   \\]\n\n3. Apply the softmax function to each row. Since the matrix is diagonal, the softmax of each row will be:\n   \\[\n   \\text{softmax}\\left(\\begin{bmatrix} \\frac{1}{\\sqrt{2}} & 0 \\end{bmatrix}\\right) = \\begin{bmatrix} 0.62245933 & 0.37754067 \\end{bmatrix}\n   \\]\n   \\[\n   \\text{softmax}\\left(\\begin{bmatrix} 0 & \\frac{1}{\\sqrt{2}} \\end{bmatrix}\\right) = \\begin{bmatrix} 0.37754067 & 0.62245933 \\end{bmatrix}\n   \\]\n\n4. Multiply by \\( V \\):\n   \\[\n   \\begin{bmatrix} 0.62245933 & 0.37754067 \\\\ 0.37754067 & 0.62245933 \\end{bmatrix} \\begin{bmatrix} 1 & 2 \\\\ 3 & 4 \\end{bmatrix} = \\begin{bmatrix} 1.37754067 & 2.37754067 \\\\ 2.62245933 & 3.62245933 \\end{bmatrix}\n   \\]\n\nNow, let's translate this into a Python expression using the `numexpr` library:\n\n```text\nimport numpy as np\nimport numexpr as ne\n\nQ = np.array([[1, 0], [0, 1]])\nK = np.array([[1, 0], [0, 1]])\nV = np.array([[1, 2], [3, 4]])\nd_k = 2\n\n# Compute QK^T\nQK_T = np.dot(Q, K.T)\n\n# Scale by 1/sqrt(d_k)\nscale = 1 / np.sqrt(d_k)\nscaled_QK_T = QK_T * scale\n\n# Apply softmax\nsoftmax = np.exp(scaled_QK_T) / np.sum(np.exp(scaled_QK_T), axis=1, keepdims=True)\n\n# Multiply by V\nresult = np.dot(softmax, V)\n\nresult\n```\n\n...numexpr.evaluate(\"result\")...",
     "output_type": "error",
     "traceback": [
      "\u001B[0;31m---------------------------------------------------------------------------\u001B[0m",
      "\u001B[0;31mValueError\u001B[0m                                Traceback (most recent call last)",
      "Cell \u001B[0;32mIn[2], line 27\u001B[0m\n\u001B[1;32m     13\u001B[0m tool_list \u001B[38;5;241m=\u001B[39m [\n\u001B[1;32m     14\u001B[0m    Tool(\n\u001B[1;32m     15\u001B[0m        name\u001B[38;5;241m=\u001B[39m\u001B[38;5;124m\"\u001B[39m\u001B[38;5;124mArxiv\u001B[39m\u001B[38;5;124m\"\u001B[39m,\n\u001B[0;32m   (...)\u001B[0m\n\u001B[1;32m     23\u001B[0m    )\n\u001B[1;32m     24\u001B[0m ]\n\u001B[1;32m     26\u001B[0m agent \u001B[38;5;241m=\u001B[39m initialize_agent(tool_list, llm, agent\u001B[38;5;241m=\u001B[39m\u001B[38;5;124m\"\u001B[39m\u001B[38;5;124mzero-shot-react-description\u001B[39m\u001B[38;5;124m\"\u001B[39m, verbose\u001B[38;5;241m=\u001B[39m\u001B[38;5;28;01mTrue\u001B[39;00m)\n\u001B[0;32m---> 27\u001B[0m agent\u001B[38;5;241m.\u001B[39minvoke(\u001B[38;5;124m\"\u001B[39m\u001B[38;5;124mWhat the name of most famous scientific paper about text transformers? Could you process calculations mentioned in this paper to check if they are correct?\u001B[39m\u001B[38;5;124m\"\u001B[39m)\n",
      "File \u001B[0;32m~/anaconda3/lib/python3.12/site-packages/langchain/chains/base.py:170\u001B[0m, in \u001B[0;36mChain.invoke\u001B[0;34m(self, input, config, **kwargs)\u001B[0m\n\u001B[1;32m    168\u001B[0m \u001B[38;5;28;01mexcept\u001B[39;00m \u001B[38;5;167;01mBaseException\u001B[39;00m \u001B[38;5;28;01mas\u001B[39;00m e:\n\u001B[1;32m    169\u001B[0m     run_manager\u001B[38;5;241m.\u001B[39mon_chain_error(e)\n\u001B[0;32m--> 170\u001B[0m     \u001B[38;5;28;01mraise\u001B[39;00m e\n\u001B[1;32m    171\u001B[0m run_manager\u001B[38;5;241m.\u001B[39mon_chain_end(outputs)\n\u001B[1;32m    173\u001B[0m \u001B[38;5;28;01mif\u001B[39;00m include_run_info:\n",
      "File \u001B[0;32m~/anaconda3/lib/python3.12/site-packages/langchain/chains/base.py:160\u001B[0m, in \u001B[0;36mChain.invoke\u001B[0;34m(self, input, config, **kwargs)\u001B[0m\n\u001B[1;32m    157\u001B[0m \u001B[38;5;28;01mtry\u001B[39;00m:\n\u001B[1;32m    158\u001B[0m     \u001B[38;5;28mself\u001B[39m\u001B[38;5;241m.\u001B[39m_validate_inputs(inputs)\n\u001B[1;32m    159\u001B[0m     outputs \u001B[38;5;241m=\u001B[39m (\n\u001B[0;32m--> 160\u001B[0m         \u001B[38;5;28mself\u001B[39m\u001B[38;5;241m.\u001B[39m_call(inputs, run_manager\u001B[38;5;241m=\u001B[39mrun_manager)\n\u001B[1;32m    161\u001B[0m         \u001B[38;5;28;01mif\u001B[39;00m new_arg_supported\n\u001B[1;32m    162\u001B[0m         \u001B[38;5;28;01melse\u001B[39;00m \u001B[38;5;28mself\u001B[39m\u001B[38;5;241m.\u001B[39m_call(inputs)\n\u001B[1;32m    163\u001B[0m     )\n\u001B[1;32m    165\u001B[0m     final_outputs: Dict[\u001B[38;5;28mstr\u001B[39m, Any] \u001B[38;5;241m=\u001B[39m \u001B[38;5;28mself\u001B[39m\u001B[38;5;241m.\u001B[39mprep_outputs(\n\u001B[1;32m    166\u001B[0m         inputs, outputs, return_only_outputs\n\u001B[1;32m    167\u001B[0m     )\n\u001B[1;32m    168\u001B[0m \u001B[38;5;28;01mexcept\u001B[39;00m \u001B[38;5;167;01mBaseException\u001B[39;00m \u001B[38;5;28;01mas\u001B[39;00m e:\n",
      "File \u001B[0;32m~/anaconda3/lib/python3.12/site-packages/langchain/agents/agent.py:1629\u001B[0m, in \u001B[0;36mAgentExecutor._call\u001B[0;34m(self, inputs, run_manager)\u001B[0m\n\u001B[1;32m   1627\u001B[0m \u001B[38;5;66;03m# We now enter the agent loop (until it returns something).\u001B[39;00m\n\u001B[1;32m   1628\u001B[0m \u001B[38;5;28;01mwhile\u001B[39;00m \u001B[38;5;28mself\u001B[39m\u001B[38;5;241m.\u001B[39m_should_continue(iterations, time_elapsed):\n\u001B[0;32m-> 1629\u001B[0m     next_step_output \u001B[38;5;241m=\u001B[39m \u001B[38;5;28mself\u001B[39m\u001B[38;5;241m.\u001B[39m_take_next_step(\n\u001B[1;32m   1630\u001B[0m         name_to_tool_map,\n\u001B[1;32m   1631\u001B[0m         color_mapping,\n\u001B[1;32m   1632\u001B[0m         inputs,\n\u001B[1;32m   1633\u001B[0m         intermediate_steps,\n\u001B[1;32m   1634\u001B[0m         run_manager\u001B[38;5;241m=\u001B[39mrun_manager,\n\u001B[1;32m   1635\u001B[0m     )\n\u001B[1;32m   1636\u001B[0m     \u001B[38;5;28;01mif\u001B[39;00m \u001B[38;5;28misinstance\u001B[39m(next_step_output, AgentFinish):\n\u001B[1;32m   1637\u001B[0m         \u001B[38;5;28;01mreturn\u001B[39;00m \u001B[38;5;28mself\u001B[39m\u001B[38;5;241m.\u001B[39m_return(\n\u001B[1;32m   1638\u001B[0m             next_step_output, intermediate_steps, run_manager\u001B[38;5;241m=\u001B[39mrun_manager\n\u001B[1;32m   1639\u001B[0m         )\n",
      "File \u001B[0;32m~/anaconda3/lib/python3.12/site-packages/langchain/agents/agent.py:1337\u001B[0m, in \u001B[0;36mAgentExecutor._take_next_step\u001B[0;34m(self, name_to_tool_map, color_mapping, inputs, intermediate_steps, run_manager)\u001B[0m\n\u001B[1;32m   1326\u001B[0m \u001B[38;5;28;01mdef\u001B[39;00m \u001B[38;5;21m_take_next_step\u001B[39m(\n\u001B[1;32m   1327\u001B[0m     \u001B[38;5;28mself\u001B[39m,\n\u001B[1;32m   1328\u001B[0m     name_to_tool_map: Dict[\u001B[38;5;28mstr\u001B[39m, BaseTool],\n\u001B[0;32m   (...)\u001B[0m\n\u001B[1;32m   1332\u001B[0m     run_manager: Optional[CallbackManagerForChainRun] \u001B[38;5;241m=\u001B[39m \u001B[38;5;28;01mNone\u001B[39;00m,\n\u001B[1;32m   1333\u001B[0m ) \u001B[38;5;241m-\u001B[39m\u001B[38;5;241m>\u001B[39m Union[AgentFinish, List[Tuple[AgentAction, \u001B[38;5;28mstr\u001B[39m]]]:\n\u001B[1;32m   1334\u001B[0m     \u001B[38;5;28;01mreturn\u001B[39;00m \u001B[38;5;28mself\u001B[39m\u001B[38;5;241m.\u001B[39m_consume_next_step(\n\u001B[1;32m   1335\u001B[0m         [\n\u001B[1;32m   1336\u001B[0m             a\n\u001B[0;32m-> 1337\u001B[0m             \u001B[38;5;28;01mfor\u001B[39;00m a \u001B[38;5;129;01min\u001B[39;00m \u001B[38;5;28mself\u001B[39m\u001B[38;5;241m.\u001B[39m_iter_next_step(\n\u001B[1;32m   1338\u001B[0m                 name_to_tool_map,\n\u001B[1;32m   1339\u001B[0m                 color_mapping,\n\u001B[1;32m   1340\u001B[0m                 inputs,\n\u001B[1;32m   1341\u001B[0m                 intermediate_steps,\n\u001B[1;32m   1342\u001B[0m                 run_manager,\n\u001B[1;32m   1343\u001B[0m             )\n\u001B[1;32m   1344\u001B[0m         ]\n\u001B[1;32m   1345\u001B[0m     )\n",
      "File \u001B[0;32m~/anaconda3/lib/python3.12/site-packages/langchain/agents/agent.py:1420\u001B[0m, in \u001B[0;36mAgentExecutor._iter_next_step\u001B[0;34m(self, name_to_tool_map, color_mapping, inputs, intermediate_steps, run_manager)\u001B[0m\n\u001B[1;32m   1418\u001B[0m     \u001B[38;5;28;01myield\u001B[39;00m agent_action\n\u001B[1;32m   1419\u001B[0m \u001B[38;5;28;01mfor\u001B[39;00m agent_action \u001B[38;5;129;01min\u001B[39;00m actions:\n\u001B[0;32m-> 1420\u001B[0m     \u001B[38;5;28;01myield\u001B[39;00m \u001B[38;5;28mself\u001B[39m\u001B[38;5;241m.\u001B[39m_perform_agent_action(\n\u001B[1;32m   1421\u001B[0m         name_to_tool_map, color_mapping, agent_action, run_manager\n\u001B[1;32m   1422\u001B[0m     )\n",
      "File \u001B[0;32m~/anaconda3/lib/python3.12/site-packages/langchain/agents/agent.py:1442\u001B[0m, in \u001B[0;36mAgentExecutor._perform_agent_action\u001B[0;34m(self, name_to_tool_map, color_mapping, agent_action, run_manager)\u001B[0m\n\u001B[1;32m   1440\u001B[0m         tool_run_kwargs[\u001B[38;5;124m\"\u001B[39m\u001B[38;5;124mllm_prefix\u001B[39m\u001B[38;5;124m\"\u001B[39m] \u001B[38;5;241m=\u001B[39m \u001B[38;5;124m\"\u001B[39m\u001B[38;5;124m\"\u001B[39m\n\u001B[1;32m   1441\u001B[0m     \u001B[38;5;66;03m# We then call the tool on the tool input to get an observation\u001B[39;00m\n\u001B[0;32m-> 1442\u001B[0m     observation \u001B[38;5;241m=\u001B[39m tool\u001B[38;5;241m.\u001B[39mrun(\n\u001B[1;32m   1443\u001B[0m         agent_action\u001B[38;5;241m.\u001B[39mtool_input,\n\u001B[1;32m   1444\u001B[0m         verbose\u001B[38;5;241m=\u001B[39m\u001B[38;5;28mself\u001B[39m\u001B[38;5;241m.\u001B[39mverbose,\n\u001B[1;32m   1445\u001B[0m         color\u001B[38;5;241m=\u001B[39mcolor,\n\u001B[1;32m   1446\u001B[0m         callbacks\u001B[38;5;241m=\u001B[39mrun_manager\u001B[38;5;241m.\u001B[39mget_child() \u001B[38;5;28;01mif\u001B[39;00m run_manager \u001B[38;5;28;01melse\u001B[39;00m \u001B[38;5;28;01mNone\u001B[39;00m,\n\u001B[1;32m   1447\u001B[0m         \u001B[38;5;241m*\u001B[39m\u001B[38;5;241m*\u001B[39mtool_run_kwargs,\n\u001B[1;32m   1448\u001B[0m     )\n\u001B[1;32m   1449\u001B[0m \u001B[38;5;28;01melse\u001B[39;00m:\n\u001B[1;32m   1450\u001B[0m     tool_run_kwargs \u001B[38;5;241m=\u001B[39m \u001B[38;5;28mself\u001B[39m\u001B[38;5;241m.\u001B[39m_action_agent\u001B[38;5;241m.\u001B[39mtool_run_logging_kwargs()\n",
      "File \u001B[0;32m~/anaconda3/lib/python3.12/site-packages/langchain_core/tools/base.py:689\u001B[0m, in \u001B[0;36mBaseTool.run\u001B[0;34m(self, tool_input, verbose, start_color, color, callbacks, tags, metadata, run_name, run_id, config, tool_call_id, **kwargs)\u001B[0m\n\u001B[1;32m    687\u001B[0m \u001B[38;5;28;01mif\u001B[39;00m error_to_raise:\n\u001B[1;32m    688\u001B[0m     run_manager\u001B[38;5;241m.\u001B[39mon_tool_error(error_to_raise)\n\u001B[0;32m--> 689\u001B[0m     \u001B[38;5;28;01mraise\u001B[39;00m error_to_raise\n\u001B[1;32m    690\u001B[0m output \u001B[38;5;241m=\u001B[39m _format_output(content, artifact, tool_call_id, \u001B[38;5;28mself\u001B[39m\u001B[38;5;241m.\u001B[39mname, status)\n\u001B[1;32m    691\u001B[0m run_manager\u001B[38;5;241m.\u001B[39mon_tool_end(output, color\u001B[38;5;241m=\u001B[39mcolor, name\u001B[38;5;241m=\u001B[39m\u001B[38;5;28mself\u001B[39m\u001B[38;5;241m.\u001B[39mname, \u001B[38;5;241m*\u001B[39m\u001B[38;5;241m*\u001B[39mkwargs)\n",
      "File \u001B[0;32m~/anaconda3/lib/python3.12/site-packages/langchain_core/tools/base.py:657\u001B[0m, in \u001B[0;36mBaseTool.run\u001B[0;34m(self, tool_input, verbose, start_color, color, callbacks, tags, metadata, run_name, run_id, config, tool_call_id, **kwargs)\u001B[0m\n\u001B[1;32m    655\u001B[0m \u001B[38;5;28;01mif\u001B[39;00m config_param \u001B[38;5;241m:=\u001B[39m _get_runnable_config_param(\u001B[38;5;28mself\u001B[39m\u001B[38;5;241m.\u001B[39m_run):\n\u001B[1;32m    656\u001B[0m     tool_kwargs[config_param] \u001B[38;5;241m=\u001B[39m config\n\u001B[0;32m--> 657\u001B[0m response \u001B[38;5;241m=\u001B[39m context\u001B[38;5;241m.\u001B[39mrun(\u001B[38;5;28mself\u001B[39m\u001B[38;5;241m.\u001B[39m_run, \u001B[38;5;241m*\u001B[39mtool_args, \u001B[38;5;241m*\u001B[39m\u001B[38;5;241m*\u001B[39mtool_kwargs)\n\u001B[1;32m    658\u001B[0m \u001B[38;5;28;01mif\u001B[39;00m \u001B[38;5;28mself\u001B[39m\u001B[38;5;241m.\u001B[39mresponse_format \u001B[38;5;241m==\u001B[39m \u001B[38;5;124m\"\u001B[39m\u001B[38;5;124mcontent_and_artifact\u001B[39m\u001B[38;5;124m\"\u001B[39m:\n\u001B[1;32m    659\u001B[0m     \u001B[38;5;28;01mif\u001B[39;00m \u001B[38;5;129;01mnot\u001B[39;00m \u001B[38;5;28misinstance\u001B[39m(response, \u001B[38;5;28mtuple\u001B[39m) \u001B[38;5;129;01mor\u001B[39;00m \u001B[38;5;28mlen\u001B[39m(response) \u001B[38;5;241m!=\u001B[39m \u001B[38;5;241m2\u001B[39m:\n",
      "File \u001B[0;32m~/anaconda3/lib/python3.12/site-packages/langchain_core/tools/simple.py:92\u001B[0m, in \u001B[0;36mTool._run\u001B[0;34m(self, config, run_manager, *args, **kwargs)\u001B[0m\n\u001B[1;32m     90\u001B[0m     \u001B[38;5;28;01mif\u001B[39;00m config_param \u001B[38;5;241m:=\u001B[39m _get_runnable_config_param(\u001B[38;5;28mself\u001B[39m\u001B[38;5;241m.\u001B[39mfunc):\n\u001B[1;32m     91\u001B[0m         kwargs[config_param] \u001B[38;5;241m=\u001B[39m config\n\u001B[0;32m---> 92\u001B[0m     \u001B[38;5;28;01mreturn\u001B[39;00m \u001B[38;5;28mself\u001B[39m\u001B[38;5;241m.\u001B[39mfunc(\u001B[38;5;241m*\u001B[39margs, \u001B[38;5;241m*\u001B[39m\u001B[38;5;241m*\u001B[39mkwargs)\n\u001B[1;32m     93\u001B[0m msg \u001B[38;5;241m=\u001B[39m \u001B[38;5;124m\"\u001B[39m\u001B[38;5;124mTool does not support sync invocation.\u001B[39m\u001B[38;5;124m\"\u001B[39m\n\u001B[1;32m     94\u001B[0m \u001B[38;5;28;01mraise\u001B[39;00m \u001B[38;5;167;01mNotImplementedError\u001B[39;00m(msg)\n",
      "File \u001B[0;32m~/anaconda3/lib/python3.12/site-packages/langchain_core/tools/base.py:689\u001B[0m, in \u001B[0;36mBaseTool.run\u001B[0;34m(self, tool_input, verbose, start_color, color, callbacks, tags, metadata, run_name, run_id, config, tool_call_id, **kwargs)\u001B[0m\n\u001B[1;32m    687\u001B[0m \u001B[38;5;28;01mif\u001B[39;00m error_to_raise:\n\u001B[1;32m    688\u001B[0m     run_manager\u001B[38;5;241m.\u001B[39mon_tool_error(error_to_raise)\n\u001B[0;32m--> 689\u001B[0m     \u001B[38;5;28;01mraise\u001B[39;00m error_to_raise\n\u001B[1;32m    690\u001B[0m output \u001B[38;5;241m=\u001B[39m _format_output(content, artifact, tool_call_id, \u001B[38;5;28mself\u001B[39m\u001B[38;5;241m.\u001B[39mname, status)\n\u001B[1;32m    691\u001B[0m run_manager\u001B[38;5;241m.\u001B[39mon_tool_end(output, color\u001B[38;5;241m=\u001B[39mcolor, name\u001B[38;5;241m=\u001B[39m\u001B[38;5;28mself\u001B[39m\u001B[38;5;241m.\u001B[39mname, \u001B[38;5;241m*\u001B[39m\u001B[38;5;241m*\u001B[39mkwargs)\n",
      "File \u001B[0;32m~/anaconda3/lib/python3.12/site-packages/langchain_core/tools/base.py:657\u001B[0m, in \u001B[0;36mBaseTool.run\u001B[0;34m(self, tool_input, verbose, start_color, color, callbacks, tags, metadata, run_name, run_id, config, tool_call_id, **kwargs)\u001B[0m\n\u001B[1;32m    655\u001B[0m \u001B[38;5;28;01mif\u001B[39;00m config_param \u001B[38;5;241m:=\u001B[39m _get_runnable_config_param(\u001B[38;5;28mself\u001B[39m\u001B[38;5;241m.\u001B[39m_run):\n\u001B[1;32m    656\u001B[0m     tool_kwargs[config_param] \u001B[38;5;241m=\u001B[39m config\n\u001B[0;32m--> 657\u001B[0m response \u001B[38;5;241m=\u001B[39m context\u001B[38;5;241m.\u001B[39mrun(\u001B[38;5;28mself\u001B[39m\u001B[38;5;241m.\u001B[39m_run, \u001B[38;5;241m*\u001B[39mtool_args, \u001B[38;5;241m*\u001B[39m\u001B[38;5;241m*\u001B[39mtool_kwargs)\n\u001B[1;32m    658\u001B[0m \u001B[38;5;28;01mif\u001B[39;00m \u001B[38;5;28mself\u001B[39m\u001B[38;5;241m.\u001B[39mresponse_format \u001B[38;5;241m==\u001B[39m \u001B[38;5;124m\"\u001B[39m\u001B[38;5;124mcontent_and_artifact\u001B[39m\u001B[38;5;124m\"\u001B[39m:\n\u001B[1;32m    659\u001B[0m     \u001B[38;5;28;01mif\u001B[39;00m \u001B[38;5;129;01mnot\u001B[39;00m \u001B[38;5;28misinstance\u001B[39m(response, \u001B[38;5;28mtuple\u001B[39m) \u001B[38;5;129;01mor\u001B[39;00m \u001B[38;5;28mlen\u001B[39m(response) \u001B[38;5;241m!=\u001B[39m \u001B[38;5;241m2\u001B[39m:\n",
      "File \u001B[0;32m~/anaconda3/lib/python3.12/site-packages/langchain_core/tools/simple.py:92\u001B[0m, in \u001B[0;36mTool._run\u001B[0;34m(self, config, run_manager, *args, **kwargs)\u001B[0m\n\u001B[1;32m     90\u001B[0m     \u001B[38;5;28;01mif\u001B[39;00m config_param \u001B[38;5;241m:=\u001B[39m _get_runnable_config_param(\u001B[38;5;28mself\u001B[39m\u001B[38;5;241m.\u001B[39mfunc):\n\u001B[1;32m     91\u001B[0m         kwargs[config_param] \u001B[38;5;241m=\u001B[39m config\n\u001B[0;32m---> 92\u001B[0m     \u001B[38;5;28;01mreturn\u001B[39;00m \u001B[38;5;28mself\u001B[39m\u001B[38;5;241m.\u001B[39mfunc(\u001B[38;5;241m*\u001B[39margs, \u001B[38;5;241m*\u001B[39m\u001B[38;5;241m*\u001B[39mkwargs)\n\u001B[1;32m     93\u001B[0m msg \u001B[38;5;241m=\u001B[39m \u001B[38;5;124m\"\u001B[39m\u001B[38;5;124mTool does not support sync invocation.\u001B[39m\u001B[38;5;124m\"\u001B[39m\n\u001B[1;32m     94\u001B[0m \u001B[38;5;28;01mraise\u001B[39;00m \u001B[38;5;167;01mNotImplementedError\u001B[39;00m(msg)\n",
      "File \u001B[0;32m~/anaconda3/lib/python3.12/site-packages/langchain_core/_api/deprecation.py:182\u001B[0m, in \u001B[0;36mdeprecated.<locals>.deprecate.<locals>.warning_emitting_wrapper\u001B[0;34m(*args, **kwargs)\u001B[0m\n\u001B[1;32m    180\u001B[0m     warned \u001B[38;5;241m=\u001B[39m \u001B[38;5;28;01mTrue\u001B[39;00m\n\u001B[1;32m    181\u001B[0m     emit_warning()\n\u001B[0;32m--> 182\u001B[0m \u001B[38;5;28;01mreturn\u001B[39;00m wrapped(\u001B[38;5;241m*\u001B[39margs, \u001B[38;5;241m*\u001B[39m\u001B[38;5;241m*\u001B[39mkwargs)\n",
      "File \u001B[0;32m~/anaconda3/lib/python3.12/site-packages/langchain/chains/base.py:606\u001B[0m, in \u001B[0;36mChain.run\u001B[0;34m(self, callbacks, tags, metadata, *args, **kwargs)\u001B[0m\n\u001B[1;32m    604\u001B[0m     \u001B[38;5;28;01mif\u001B[39;00m \u001B[38;5;28mlen\u001B[39m(args) \u001B[38;5;241m!=\u001B[39m \u001B[38;5;241m1\u001B[39m:\n\u001B[1;32m    605\u001B[0m         \u001B[38;5;28;01mraise\u001B[39;00m \u001B[38;5;167;01mValueError\u001B[39;00m(\u001B[38;5;124m\"\u001B[39m\u001B[38;5;124m`run` supports only one positional argument.\u001B[39m\u001B[38;5;124m\"\u001B[39m)\n\u001B[0;32m--> 606\u001B[0m     \u001B[38;5;28;01mreturn\u001B[39;00m \u001B[38;5;28mself\u001B[39m(args[\u001B[38;5;241m0\u001B[39m], callbacks\u001B[38;5;241m=\u001B[39mcallbacks, tags\u001B[38;5;241m=\u001B[39mtags, metadata\u001B[38;5;241m=\u001B[39mmetadata)[\n\u001B[1;32m    607\u001B[0m         _output_key\n\u001B[1;32m    608\u001B[0m     ]\n\u001B[1;32m    610\u001B[0m \u001B[38;5;28;01mif\u001B[39;00m kwargs \u001B[38;5;129;01mand\u001B[39;00m \u001B[38;5;129;01mnot\u001B[39;00m args:\n\u001B[1;32m    611\u001B[0m     \u001B[38;5;28;01mreturn\u001B[39;00m \u001B[38;5;28mself\u001B[39m(kwargs, callbacks\u001B[38;5;241m=\u001B[39mcallbacks, tags\u001B[38;5;241m=\u001B[39mtags, metadata\u001B[38;5;241m=\u001B[39mmetadata)[\n\u001B[1;32m    612\u001B[0m         _output_key\n\u001B[1;32m    613\u001B[0m     ]\n",
      "File \u001B[0;32m~/anaconda3/lib/python3.12/site-packages/langchain_core/_api/deprecation.py:182\u001B[0m, in \u001B[0;36mdeprecated.<locals>.deprecate.<locals>.warning_emitting_wrapper\u001B[0;34m(*args, **kwargs)\u001B[0m\n\u001B[1;32m    180\u001B[0m     warned \u001B[38;5;241m=\u001B[39m \u001B[38;5;28;01mTrue\u001B[39;00m\n\u001B[1;32m    181\u001B[0m     emit_warning()\n\u001B[0;32m--> 182\u001B[0m \u001B[38;5;28;01mreturn\u001B[39;00m wrapped(\u001B[38;5;241m*\u001B[39margs, \u001B[38;5;241m*\u001B[39m\u001B[38;5;241m*\u001B[39mkwargs)\n",
      "File \u001B[0;32m~/anaconda3/lib/python3.12/site-packages/langchain/chains/base.py:389\u001B[0m, in \u001B[0;36mChain.__call__\u001B[0;34m(self, inputs, return_only_outputs, callbacks, tags, metadata, run_name, include_run_info)\u001B[0m\n\u001B[1;32m    357\u001B[0m \u001B[38;5;250m\u001B[39m\u001B[38;5;124;03m\"\"\"Execute the chain.\u001B[39;00m\n\u001B[1;32m    358\u001B[0m \n\u001B[1;32m    359\u001B[0m \u001B[38;5;124;03mArgs:\u001B[39;00m\n\u001B[0;32m   (...)\u001B[0m\n\u001B[1;32m    380\u001B[0m \u001B[38;5;124;03m        `Chain.output_keys`.\u001B[39;00m\n\u001B[1;32m    381\u001B[0m \u001B[38;5;124;03m\"\"\"\u001B[39;00m\n\u001B[1;32m    382\u001B[0m config \u001B[38;5;241m=\u001B[39m {\n\u001B[1;32m    383\u001B[0m     \u001B[38;5;124m\"\u001B[39m\u001B[38;5;124mcallbacks\u001B[39m\u001B[38;5;124m\"\u001B[39m: callbacks,\n\u001B[1;32m    384\u001B[0m     \u001B[38;5;124m\"\u001B[39m\u001B[38;5;124mtags\u001B[39m\u001B[38;5;124m\"\u001B[39m: tags,\n\u001B[1;32m    385\u001B[0m     \u001B[38;5;124m\"\u001B[39m\u001B[38;5;124mmetadata\u001B[39m\u001B[38;5;124m\"\u001B[39m: metadata,\n\u001B[1;32m    386\u001B[0m     \u001B[38;5;124m\"\u001B[39m\u001B[38;5;124mrun_name\u001B[39m\u001B[38;5;124m\"\u001B[39m: run_name,\n\u001B[1;32m    387\u001B[0m }\n\u001B[0;32m--> 389\u001B[0m \u001B[38;5;28;01mreturn\u001B[39;00m \u001B[38;5;28mself\u001B[39m\u001B[38;5;241m.\u001B[39minvoke(\n\u001B[1;32m    390\u001B[0m     inputs,\n\u001B[1;32m    391\u001B[0m     cast(RunnableConfig, {k: v \u001B[38;5;28;01mfor\u001B[39;00m k, v \u001B[38;5;129;01min\u001B[39;00m config\u001B[38;5;241m.\u001B[39mitems() \u001B[38;5;28;01mif\u001B[39;00m v \u001B[38;5;129;01mis\u001B[39;00m \u001B[38;5;129;01mnot\u001B[39;00m \u001B[38;5;28;01mNone\u001B[39;00m}),\n\u001B[1;32m    392\u001B[0m     return_only_outputs\u001B[38;5;241m=\u001B[39mreturn_only_outputs,\n\u001B[1;32m    393\u001B[0m     include_run_info\u001B[38;5;241m=\u001B[39minclude_run_info,\n\u001B[1;32m    394\u001B[0m )\n",
      "File \u001B[0;32m~/anaconda3/lib/python3.12/site-packages/langchain/chains/base.py:170\u001B[0m, in \u001B[0;36mChain.invoke\u001B[0;34m(self, input, config, **kwargs)\u001B[0m\n\u001B[1;32m    168\u001B[0m \u001B[38;5;28;01mexcept\u001B[39;00m \u001B[38;5;167;01mBaseException\u001B[39;00m \u001B[38;5;28;01mas\u001B[39;00m e:\n\u001B[1;32m    169\u001B[0m     run_manager\u001B[38;5;241m.\u001B[39mon_chain_error(e)\n\u001B[0;32m--> 170\u001B[0m     \u001B[38;5;28;01mraise\u001B[39;00m e\n\u001B[1;32m    171\u001B[0m run_manager\u001B[38;5;241m.\u001B[39mon_chain_end(outputs)\n\u001B[1;32m    173\u001B[0m \u001B[38;5;28;01mif\u001B[39;00m include_run_info:\n",
      "File \u001B[0;32m~/anaconda3/lib/python3.12/site-packages/langchain/chains/base.py:160\u001B[0m, in \u001B[0;36mChain.invoke\u001B[0;34m(self, input, config, **kwargs)\u001B[0m\n\u001B[1;32m    157\u001B[0m \u001B[38;5;28;01mtry\u001B[39;00m:\n\u001B[1;32m    158\u001B[0m     \u001B[38;5;28mself\u001B[39m\u001B[38;5;241m.\u001B[39m_validate_inputs(inputs)\n\u001B[1;32m    159\u001B[0m     outputs \u001B[38;5;241m=\u001B[39m (\n\u001B[0;32m--> 160\u001B[0m         \u001B[38;5;28mself\u001B[39m\u001B[38;5;241m.\u001B[39m_call(inputs, run_manager\u001B[38;5;241m=\u001B[39mrun_manager)\n\u001B[1;32m    161\u001B[0m         \u001B[38;5;28;01mif\u001B[39;00m new_arg_supported\n\u001B[1;32m    162\u001B[0m         \u001B[38;5;28;01melse\u001B[39;00m \u001B[38;5;28mself\u001B[39m\u001B[38;5;241m.\u001B[39m_call(inputs)\n\u001B[1;32m    163\u001B[0m     )\n\u001B[1;32m    165\u001B[0m     final_outputs: Dict[\u001B[38;5;28mstr\u001B[39m, Any] \u001B[38;5;241m=\u001B[39m \u001B[38;5;28mself\u001B[39m\u001B[38;5;241m.\u001B[39mprep_outputs(\n\u001B[1;32m    166\u001B[0m         inputs, outputs, return_only_outputs\n\u001B[1;32m    167\u001B[0m     )\n\u001B[1;32m    168\u001B[0m \u001B[38;5;28;01mexcept\u001B[39;00m \u001B[38;5;167;01mBaseException\u001B[39;00m \u001B[38;5;28;01mas\u001B[39;00m e:\n",
      "File \u001B[0;32m~/anaconda3/lib/python3.12/site-packages/langchain/chains/llm_math/base.py:276\u001B[0m, in \u001B[0;36mLLMMathChain._call\u001B[0;34m(self, inputs, run_manager)\u001B[0m\n\u001B[1;32m    270\u001B[0m _run_manager\u001B[38;5;241m.\u001B[39mon_text(inputs[\u001B[38;5;28mself\u001B[39m\u001B[38;5;241m.\u001B[39minput_key])\n\u001B[1;32m    271\u001B[0m llm_output \u001B[38;5;241m=\u001B[39m \u001B[38;5;28mself\u001B[39m\u001B[38;5;241m.\u001B[39mllm_chain\u001B[38;5;241m.\u001B[39mpredict(\n\u001B[1;32m    272\u001B[0m     question\u001B[38;5;241m=\u001B[39minputs[\u001B[38;5;28mself\u001B[39m\u001B[38;5;241m.\u001B[39minput_key],\n\u001B[1;32m    273\u001B[0m     stop\u001B[38;5;241m=\u001B[39m[\u001B[38;5;124m\"\u001B[39m\u001B[38;5;124m```output\u001B[39m\u001B[38;5;124m\"\u001B[39m],\n\u001B[1;32m    274\u001B[0m     callbacks\u001B[38;5;241m=\u001B[39m_run_manager\u001B[38;5;241m.\u001B[39mget_child(),\n\u001B[1;32m    275\u001B[0m )\n\u001B[0;32m--> 276\u001B[0m \u001B[38;5;28;01mreturn\u001B[39;00m \u001B[38;5;28mself\u001B[39m\u001B[38;5;241m.\u001B[39m_process_llm_result(llm_output, _run_manager)\n",
      "File \u001B[0;32m~/anaconda3/lib/python3.12/site-packages/langchain/chains/llm_math/base.py:239\u001B[0m, in \u001B[0;36mLLMMathChain._process_llm_result\u001B[0;34m(self, llm_output, run_manager)\u001B[0m\n\u001B[1;32m    237\u001B[0m     answer \u001B[38;5;241m=\u001B[39m \u001B[38;5;124m\"\u001B[39m\u001B[38;5;124mAnswer: \u001B[39m\u001B[38;5;124m\"\u001B[39m \u001B[38;5;241m+\u001B[39m llm_output\u001B[38;5;241m.\u001B[39msplit(\u001B[38;5;124m\"\u001B[39m\u001B[38;5;124mAnswer:\u001B[39m\u001B[38;5;124m\"\u001B[39m)[\u001B[38;5;241m-\u001B[39m\u001B[38;5;241m1\u001B[39m]\n\u001B[1;32m    238\u001B[0m \u001B[38;5;28;01melse\u001B[39;00m:\n\u001B[0;32m--> 239\u001B[0m     \u001B[38;5;28;01mraise\u001B[39;00m \u001B[38;5;167;01mValueError\u001B[39;00m(\u001B[38;5;124mf\u001B[39m\u001B[38;5;124m\"\u001B[39m\u001B[38;5;124munknown format from LLM: \u001B[39m\u001B[38;5;132;01m{\u001B[39;00mllm_output\u001B[38;5;132;01m}\u001B[39;00m\u001B[38;5;124m\"\u001B[39m)\n\u001B[1;32m    240\u001B[0m \u001B[38;5;28;01mreturn\u001B[39;00m {\u001B[38;5;28mself\u001B[39m\u001B[38;5;241m.\u001B[39moutput_key: answer}\n",
      "\u001B[0;31mValueError\u001B[0m: unknown format from LLM: To solve this problem, we need to compute the scaled dot-product attention, which is a common operation in transformer models. The formula for scaled dot-product attention is:\n\n\\[ \\text{Attention}(Q, K, V) = \\text{softmax}\\left(\\frac{QK^T}{\\sqrt{d_k}}\\right)V \\]\n\nGiven the matrices:\n- \\( Q = \\begin{bmatrix} 1 & 0 \\\\ 0 & 1 \\end{bmatrix} \\)\n- \\( K = \\begin{bmatrix} 1 & 0 \\\\ 0 & 1 \\end{bmatrix} \\)\n- \\( V = \\begin{bmatrix} 1 & 2 \\\\ 3 & 4 \\end{bmatrix} \\)\n- \\( d_k = 2 \\)\n\nWe can break down the computation as follows:\n\n1. Compute \\( QK^T \\):\n   \\[\n   QK^T = \\begin{bmatrix} 1 & 0 \\\\ 0 & 1 \\end{bmatrix} \\begin{bmatrix} 1 & 0 \\\\ 0 & 1 \\end{bmatrix} = \\begin{bmatrix} 1 & 0 \\\\ 0 & 1 \\end{bmatrix}\n   \\]\n\n2. Scale by \\( \\frac{1}{\\sqrt{d_k}} \\):\n   \\[\n   \\frac{QK^T}{\\sqrt{2}} = \\begin{bmatrix} \\frac{1}{\\sqrt{2}} & 0 \\\\ 0 & \\frac{1}{\\sqrt{2}} \\end{bmatrix}\n   \\]\n\n3. Apply the softmax function to each row. Since the matrix is diagonal, the softmax of each row will be:\n   \\[\n   \\text{softmax}\\left(\\begin{bmatrix} \\frac{1}{\\sqrt{2}} & 0 \\end{bmatrix}\\right) = \\begin{bmatrix} 0.62245933 & 0.37754067 \\end{bmatrix}\n   \\]\n   \\[\n   \\text{softmax}\\left(\\begin{bmatrix} 0 & \\frac{1}{\\sqrt{2}} \\end{bmatrix}\\right) = \\begin{bmatrix} 0.37754067 & 0.62245933 \\end{bmatrix}\n   \\]\n\n4. Multiply by \\( V \\):\n   \\[\n   \\begin{bmatrix} 0.62245933 & 0.37754067 \\\\ 0.37754067 & 0.62245933 \\end{bmatrix} \\begin{bmatrix} 1 & 2 \\\\ 3 & 4 \\end{bmatrix} = \\begin{bmatrix} 1.37754067 & 2.37754067 \\\\ 2.62245933 & 3.62245933 \\end{bmatrix}\n   \\]\n\nNow, let's translate this into a Python expression using the `numexpr` library:\n\n```text\nimport numpy as np\nimport numexpr as ne\n\nQ = np.array([[1, 0], [0, 1]])\nK = np.array([[1, 0], [0, 1]])\nV = np.array([[1, 2], [3, 4]])\nd_k = 2\n\n# Compute QK^T\nQK_T = np.dot(Q, K.T)\n\n# Scale by 1/sqrt(d_k)\nscale = 1 / np.sqrt(d_k)\nscaled_QK_T = QK_T * scale\n\n# Apply softmax\nsoftmax = np.exp(scaled_QK_T) / np.sum(np.exp(scaled_QK_T), axis=1, keepdims=True)\n\n# Multiply by V\nresult = np.dot(softmax, V)\n\nresult\n```\n\n...numexpr.evaluate(\"result\")..."
     ]
    }
   ],
   "execution_count": 2
  },
  {
   "metadata": {
    "ExecuteTime": {
     "end_time": "2024-12-07T18:51:01.833591673Z",
     "start_time": "2024-09-13T13:06:13.985596Z"
    }
   },
   "cell_type": "code",
   "source": [
    "from langchain_community.agent_toolkits.load_tools import get_all_tool_names\n",
    "print(get_all_tool_names())"
   ],
   "id": "5d2e9401e331383",
   "outputs": [
    {
     "name": "stdout",
     "output_type": "stream",
     "text": [
      "['sleep', 'wolfram-alpha', 'google-search', 'google-search-results-json', 'searx-search-results-json', 'bing-search', 'metaphor-search', 'ddg-search', 'google-lens', 'google-serper', 'google-scholar', 'google-finance', 'google-trends', 'google-jobs', 'google-serper-results-json', 'searchapi', 'searchapi-results-json', 'serpapi', 'dalle-image-generator', 'twilio', 'searx-search', 'merriam-webster', 'wikipedia', 'arxiv', 'golden-query', 'pubmed', 'human', 'awslambda', 'stackexchange', 'sceneXplain', 'graphql', 'openweathermap-api', 'dataforseo-api-search', 'dataforseo-api-search-json', 'eleven_labs_text2speech', 'google_cloud_texttospeech', 'read_file', 'reddit_search', 'news-api', 'tmdb-api', 'podcast-api', 'memorize', 'llm-math', 'open-meteo-api', 'requests', 'requests_get', 'requests_post', 'requests_patch', 'requests_put', 'requests_delete', 'terminal']\n"
     ]
    }
   ],
   "execution_count": 9
  },
  {
   "metadata": {},
   "cell_type": "markdown",
   "source": "### Custom Tool",
   "id": "bc50f06b1a4d6d5e"
  },
  {
   "metadata": {
    "ExecuteTime": {
     "end_time": "2024-12-07T18:51:01.839298847Z",
     "start_time": "2024-09-13T13:40:02.222114Z"
    }
   },
   "cell_type": "code",
   "source": [
    "from typing import Optional\n",
    "from langchain.tools import BaseTool\n",
    "from langchain.callbacks.manager import AsyncCallbackManagerForToolRun, CallbackManagerForToolRun\n",
    "from langchain.agents import AgentType\n",
    "import nltk\n",
    "\n",
    "# download NLTK data packages\n",
    "nltk.download('punkt')\n",
    "nltk.download('maxent_ne_chunker')\n",
    "nltk.download('averaged_perceptron_tagger')\n",
    "nltk.download('words')\n",
    "\n",
    "class CustomNERTool(BaseTool):\n",
    "    name = \"NER tagger\"\n",
    "    description = \"named entity recognition tagger\"\n",
    "\n",
    "    def _run(self, query: str, run_manager: Optional[CallbackManagerForToolRun] = None) -> str:\n",
    "        tokens = nltk.word_tokenize(query)\n",
    "        tagged_tokens = nltk.pos_tag(tokens)\n",
    "        return nltk.ne_chunk(tagged_tokens)\n",
    "\n",
    "    async def _arun(self, query: str, run_manager: Optional[AsyncCallbackManagerForToolRun] = None) -> str:\n",
    "        \"\"\"Use the tool asynchronously.\"\"\"\n",
    "        raise NotImplementedError(\"not suppored\")\n",
    "\n",
    "tools = [CustomNERTool()]\n",
    "agent = initialize_agent(tools, llm, agent=AgentType.ZERO_SHOT_REACT_DESCRIPTION, verbose=True)\n",
    "agent.run(\"Tag NER text: John Doe is a founder of ExampleCorp that was created in 1986 in Australia.\") "
   ],
   "id": "4445850ddb110a5b",
   "outputs": [
    {
     "name": "stderr",
     "output_type": "stream",
     "text": [
      "[nltk_data] Downloading package punkt to /home/michal/nltk_data...\n",
      "[nltk_data]   Package punkt is already up-to-date!\n",
      "[nltk_data] Downloading package maxent_ne_chunker to\n",
      "[nltk_data]     /home/michal/nltk_data...\n",
      "[nltk_data]   Package maxent_ne_chunker is already up-to-date!\n",
      "[nltk_data] Downloading package averaged_perceptron_tagger to\n",
      "[nltk_data]     /home/michal/nltk_data...\n",
      "[nltk_data]   Package averaged_perceptron_tagger is already up-to-\n",
      "[nltk_data]       date!\n",
      "[nltk_data] Downloading package words to /home/michal/nltk_data...\n",
      "[nltk_data]   Unzipping corpora/words.zip.\n"
     ]
    },
    {
     "name": "stdout",
     "output_type": "stream",
     "text": [
      "\n",
      "\n",
      "\u001B[1m> Entering new AgentExecutor chain...\u001B[0m\n",
      "\u001B[32;1m\u001B[1;3mI need to identify the named entities in the given text using the NER tagger.\n",
      "Action: NER tagger\n",
      "Action Input: John Doe is a founder of ExampleCOrp that was created in 1986 in Australia.\u001B[0m\n",
      "Observation: \u001B[36;1m\u001B[1;3m(S\n",
      "  (PERSON John/NNP)\n",
      "  (ORGANIZATION Doe/NNP)\n",
      "  is/VBZ\n",
      "  a/DT\n",
      "  founder/NN\n",
      "  of/IN\n",
      "  (ORGANIZATION ExampleCOrp/NNP)\n",
      "  that/WDT\n",
      "  was/VBD\n",
      "  created/VBN\n",
      "  in/IN\n",
      "  1986/CD\n",
      "  in/IN\n",
      "  (GPE Australia/NNP)\n",
      "  ./.)\u001B[0m\n",
      "Thought:\u001B[32;1m\u001B[1;3mI now know the final answer.\n",
      "\n",
      "Final Answer: The named entities in the text are:\n",
      "- PERSON: John\n",
      "- ORGANIZATION: Doe, ExampleCOrp\n",
      "- GPE (Geopolitical Entity): Australia\u001B[0m\n",
      "\n",
      "\u001B[1m> Finished chain.\u001B[0m\n"
     ]
    },
    {
     "data": {
      "text/plain": [
       "'The named entities in the text are:\\n- PERSON: John\\n- ORGANIZATION: Doe, ExampleCOrp\\n- GPE (Geopolitical Entity): Australia'"
      ]
     },
     "execution_count": 21,
     "metadata": {},
     "output_type": "execute_result"
    }
   ],
   "execution_count": 21
  },
  {
   "metadata": {},
   "cell_type": "markdown",
   "source": [
    "### Evaluating Agents\n",
    "solving tasks with agents can be evaluated by Trajectory Evaluator, which checks if agent resoning is going right path  \n",
    "see: https://js.langchain.com/v0.1/docs/guides/evaluation/trajectory/trajectory_eval/"
   ],
   "id": "2ed017738240e425"
  }
 ],
 "metadata": {
  "kernelspec": {
   "display_name": "Python 3",
   "language": "python",
   "name": "python3"
  },
  "language_info": {
   "codemirror_mode": {
    "name": "ipython",
    "version": 2
   },
   "file_extension": ".py",
   "mimetype": "text/x-python",
   "name": "python",
   "nbconvert_exporter": "python",
   "pygments_lexer": "ipython2",
   "version": "2.7.6"
  }
 },
 "nbformat": 4,
 "nbformat_minor": 5
}
