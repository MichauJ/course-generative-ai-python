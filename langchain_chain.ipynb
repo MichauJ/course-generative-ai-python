{
 "cells": [
  {
   "metadata": {},
   "cell_type": "markdown",
   "source": "## LangChain Chains",
   "id": "37df4435dc3fccd0"
  },
  {
   "metadata": {
    "ExecuteTime": {
     "end_time": "2024-09-10T05:27:28.679752Z",
     "start_time": "2024-09-10T05:27:28.674851Z"
    }
   },
   "cell_type": "code",
   "source": [
    "import os\n",
    "import openai\n",
    "from dotenv import load_dotenv, find_dotenv\n",
    "from langchain import PromptTemplate, OpenAI, LLMChain\n",
    "\n",
    "load_dotenv(find_dotenv())\n",
    "openai.api_key = os.environ[\"OPENAI_API_KEY\"]"
   ],
   "id": "7b1413f7c92c7552",
   "outputs": [],
   "execution_count": 9
  },
  {
   "metadata": {
    "ExecuteTime": {
     "end_time": "2024-09-10T05:28:58.189547Z",
     "start_time": "2024-09-10T05:28:56.339822Z"
    }
   },
   "cell_type": "code",
   "source": [
    "template = \"\"\"\n",
    "Extract name of a person and language of message from the input.\n",
    "\n",
    "Format the output as JSON with the following keys:\n",
    "name\n",
    "language\n",
    "\n",
    "text: {input}\n",
    "\"\"\"\n",
    "\n",
    "llm = OpenAI(temperature=0)\n",
    "prompt_template = PromptTemplate.from_template(template=template)\n",
    "name_lang_chain = LLMChain(llm=llm, prompt=prompt_template)\n",
    "name_lang_chain.predict(input=\"Herr Josef Braun ist am 22.09.1999 geboren.\")"
   ],
   "id": "abce6e8506642746",
   "outputs": [
    {
     "data": {
      "text/plain": [
       "'\\n{\\n    \"name\": \"Josef Braun\",\\n    \"language\": \"German\"\\n}'"
      ]
     },
     "execution_count": 13,
     "metadata": {},
     "output_type": "execute_result"
    }
   ],
   "execution_count": 13
  },
  {
   "metadata": {
    "ExecuteTime": {
     "end_time": "2024-09-10T05:29:03.744385Z",
     "start_time": "2024-09-10T05:29:01.003606Z"
    }
   },
   "cell_type": "code",
   "source": [
    "response_template = \"\"\"\n",
    "You are an AI assistant generating greeting message for the beginning of an e-mail. \n",
    "Propose greeting using provided name and language.\n",
    "\n",
    "text: {input}\n",
    "\"\"\"\n",
    "greeting_template = PromptTemplate(input_variables=[\"input\"], template=response_template)\n",
    "greeting_chain = LLMChain(llm=llm, prompt=greeting_template)\n",
    "from langchain.chains import SimpleSequentialChain\n",
    "\n",
    "overall_chain = SimpleSequentialChain(chains=[name_lang_chain, review_chain], verbose=True)\n",
    "\n",
    "overall_chain.run(input=\"Herr Josef Braun ist am 22.09.1999 geboren.\")"
   ],
   "id": "53e31a735548ba37",
   "outputs": [
    {
     "name": "stdout",
     "output_type": "stream",
     "text": [
      "\n",
      "\n",
      "\u001B[1m> Entering new SimpleSequentialChain chain...\u001B[0m\n",
      "\u001B[36;1m\u001B[1;3m\n",
      "{\n",
      "    \"name\": \"Josef Braun\",\n",
      "    \"language\": \"German\"\n",
      "}\u001B[0m\n",
      "\u001B[33;1m\u001B[1;3m\n",
      "Guten Tag Josef Braun,\n",
      "\n",
      "Ich hoffe, es geht Ihnen gut. Ich wollte Ihnen nur eine kurze E-Mail schreiben, um mich vorzustellen und Ihnen mitzuteilen, dass ich Ihr neuer AI-Assistent bin. Ich freue mich darauf, Ihnen bei all Ihren Aufgaben und Anfragen behilflich zu sein. Zögern Sie nicht, mich jederzeit zu kontaktieren.\n",
      "\n",
      "Mit freundlichen Grüßen,\n",
      "[Your Name]\u001B[0m\n",
      "\n",
      "\u001B[1m> Finished chain.\u001B[0m\n"
     ]
    },
    {
     "data": {
      "text/plain": [
       "'\\nGuten Tag Josef Braun,\\n\\nIch hoffe, es geht Ihnen gut. Ich wollte Ihnen nur eine kurze E-Mail schreiben, um mich vorzustellen und Ihnen mitzuteilen, dass ich Ihr neuer AI-Assistent bin. Ich freue mich darauf, Ihnen bei all Ihren Aufgaben und Anfragen behilflich zu sein. Zögern Sie nicht, mich jederzeit zu kontaktieren.\\n\\nMit freundlichen Grüßen,\\n[Your Name]'"
      ]
     },
     "execution_count": 14,
     "metadata": {},
     "output_type": "execute_result"
    }
   ],
   "execution_count": 14
  }
 ],
 "metadata": {
  "kernelspec": {
   "display_name": "Python 3",
   "language": "python",
   "name": "python3"
  },
  "language_info": {
   "codemirror_mode": {
    "name": "ipython",
    "version": 2
   },
   "file_extension": ".py",
   "mimetype": "text/x-python",
   "name": "python",
   "nbconvert_exporter": "python",
   "pygments_lexer": "ipython2",
   "version": "2.7.6"
  }
 },
 "nbformat": 4,
 "nbformat_minor": 5
}
