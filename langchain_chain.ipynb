{
 "cells": [
  {
   "metadata": {},
   "cell_type": "markdown",
   "source": "## LangChain Chains",
   "id": "37df4435dc3fccd0"
  },
  {
   "metadata": {
    "ExecuteTime": {
     "end_time": "2024-09-14T11:17:56.504552Z",
     "start_time": "2024-09-14T11:17:56.448730Z"
    }
   },
   "cell_type": "code",
   "source": [
    "import os\n",
    "import openai\n",
    "from dotenv import load_dotenv, find_dotenv\n",
    "from langchain import PromptTemplate, OpenAI, LLMChain\n",
    "\n",
    "load_dotenv(find_dotenv())\n",
    "openai.api_key = os.environ[\"OPENAI_API_KEY\"]"
   ],
   "id": "7b1413f7c92c7552",
   "outputs": [
    {
     "name": "stderr",
     "output_type": "stream",
     "text": [
      "/home/michal/anaconda3/lib/python3.11/site-packages/pydantic/_internal/_config.py:341: UserWarning: Valid config keys have changed in V2:\n",
      "* 'allow_population_by_field_name' has been renamed to 'populate_by_name'\n",
      "  warnings.warn(message, UserWarning)\n"
     ]
    }
   ],
   "execution_count": 12
  },
  {
   "metadata": {
    "ExecuteTime": {
     "end_time": "2024-09-10T05:28:58.189547Z",
     "start_time": "2024-09-10T05:28:56.339822Z"
    }
   },
   "cell_type": "code",
   "source": [
    "template = \"\"\"\n",
    "Extract name of a person and language of message from the input.\n",
    "\n",
    "Format the output as JSON with the following keys:\n",
    "name\n",
    "language\n",
    "\n",
    "text: {input}\n",
    "\"\"\"\n",
    "\n",
    "llm = OpenAI(temperature=0)\n",
    "prompt_template = PromptTemplate.from_template(template=template)\n",
    "name_lang_chain = LLMChain(llm=llm, prompt=prompt_template)\n",
    "name_lang_chain.predict(input=\"Herr Josef Braun ist am 22.09.1999 geboren.\")"
   ],
   "id": "abce6e8506642746",
   "outputs": [
    {
     "data": {
      "text/plain": [
       "'\\n{\\n    \"name\": \"Josef Braun\",\\n    \"language\": \"German\"\\n}'"
      ]
     },
     "execution_count": 13,
     "metadata": {},
     "output_type": "execute_result"
    }
   ],
   "execution_count": 13
  },
  {
   "metadata": {},
   "cell_type": "markdown",
   "source": "### Sequential Chain",
   "id": "3d9a89da70d2befb"
  },
  {
   "metadata": {
    "ExecuteTime": {
     "end_time": "2024-09-10T05:29:03.744385Z",
     "start_time": "2024-09-10T05:29:01.003606Z"
    }
   },
   "cell_type": "code",
   "source": [
    "response_template = \"\"\"\n",
    "You are an AI assistant generating greeting message for the beginning of an e-mail. \n",
    "Propose greeting using provided name and language.\n",
    "\n",
    "text: {input}\n",
    "\"\"\"\n",
    "greeting_template = PromptTemplate(input_variables=[\"input\"], template=response_template)\n",
    "greeting_chain = LLMChain(llm=llm, prompt=greeting_template)\n",
    "from langchain.chains import SimpleSequentialChain\n",
    "\n",
    "overall_chain = SimpleSequentialChain(chains=[name_lang_chain, review_chain], verbose=True)\n",
    "\n",
    "overall_chain.run(input=\"Herr Josef Braun ist am 22.09.1999 geboren.\")"
   ],
   "id": "53e31a735548ba37",
   "outputs": [
    {
     "name": "stdout",
     "output_type": "stream",
     "text": [
      "\n",
      "\n",
      "\u001B[1m> Entering new SimpleSequentialChain chain...\u001B[0m\n",
      "\u001B[36;1m\u001B[1;3m\n",
      "{\n",
      "    \"name\": \"Josef Braun\",\n",
      "    \"language\": \"German\"\n",
      "}\u001B[0m\n",
      "\u001B[33;1m\u001B[1;3m\n",
      "Guten Tag Josef Braun,\n",
      "\n",
      "Ich hoffe, es geht Ihnen gut. Ich wollte Ihnen nur eine kurze E-Mail schreiben, um mich vorzustellen und Ihnen mitzuteilen, dass ich Ihr neuer AI-Assistent bin. Ich freue mich darauf, Ihnen bei all Ihren Aufgaben und Anfragen behilflich zu sein. Zögern Sie nicht, mich jederzeit zu kontaktieren.\n",
      "\n",
      "Mit freundlichen Grüßen,\n",
      "[Your Name]\u001B[0m\n",
      "\n",
      "\u001B[1m> Finished chain.\u001B[0m\n"
     ]
    },
    {
     "data": {
      "text/plain": [
       "'\\nGuten Tag Josef Braun,\\n\\nIch hoffe, es geht Ihnen gut. Ich wollte Ihnen nur eine kurze E-Mail schreiben, um mich vorzustellen und Ihnen mitzuteilen, dass ich Ihr neuer AI-Assistent bin. Ich freue mich darauf, Ihnen bei all Ihren Aufgaben und Anfragen behilflich zu sein. Zögern Sie nicht, mich jederzeit zu kontaktieren.\\n\\nMit freundlichen Grüßen,\\n[Your Name]'"
      ]
     },
     "execution_count": 14,
     "metadata": {},
     "output_type": "execute_result"
    }
   ],
   "execution_count": 14
  },
  {
   "metadata": {},
   "cell_type": "markdown",
   "source": "## Custom callback",
   "id": "63a361321c507fbe"
  },
  {
   "metadata": {
    "ExecuteTime": {
     "end_time": "2024-09-14T11:21:38.276744Z",
     "start_time": "2024-09-14T11:21:36.717495Z"
    }
   },
   "cell_type": "code",
   "source": [
    "from langchain_core.callbacks import BaseCallbackHandler\n",
    "from langchain_core.prompts import ChatPromptTemplate\n",
    "from langchain_openai import ChatOpenAI\n",
    "\n",
    "\n",
    "class CustomHandler(BaseCallbackHandler):\n",
    "    buffer = []\n",
    "    def on_llm_new_token(self, token: str, **kwargs) -> None:\n",
    "        self.buffer.append(token)\n",
    "        if len(self.buffer) == 4:\n",
    "            self.buffer.reverse() # inverse order of words to make text like said by master Yoda\n",
    "            print(' '.join(self.buffer))\n",
    "            self.buffer = []\n",
    "\n",
    "\n",
    "prompt = ChatPromptTemplate.from_messages([\"Answer a question{question}\"])\n",
    "model = ChatOpenAI(streaming=True, callbacks=[CustomHandler()])\n",
    "chain = prompt | model\n",
    "\n",
    "response = chain.invoke({\"question\": \"What is the path of Jedi?\"})"
   ],
   "id": "ac0bd2c00622488",
   "outputs": [
    {
     "name": "stdout",
     "output_type": "stream",
     "text": [
      " of  path The \n",
      " one  is  Jedi  a\n",
      " self ,  discipline  of\n",
      ",  compassion , lessness\n",
      " Jedi .  balance  and\n",
      " use  to  trained  are\n",
      " knowledge  for  Force  the\n",
      " to ,  defense  and\n",
      " justice  and  peace  uphold\n",
      ",  galaxy  the  in\n",
      " the  resist  to  and\n",
      " the  of ations  tempt\n",
      " They .  side  dark\n",
      " Code  Jedi  the  follow\n",
      " the  emphasizes  which ,\n",
      ",  mindfulness  of  importance\n",
      " and ,  control  emotional\n",
      " serving  to  commitment  a\n",
      " also  Jedi .  others\n",
      " a  maintain  to  strive\n",
      " Force  the  with  connection\n",
      " seek  constantly  to  and\n",
      "-im  self  and  knowledge\n",
      " . vement pro\n"
     ]
    }
   ],
   "execution_count": 17
  },
  {
   "metadata": {},
   "cell_type": "code",
   "outputs": [],
   "execution_count": null,
   "source": "",
   "id": "6fdfbd7a8df871db"
  }
 ],
 "metadata": {
  "kernelspec": {
   "display_name": "Python 3",
   "language": "python",
   "name": "python3"
  },
  "language_info": {
   "codemirror_mode": {
    "name": "ipython",
    "version": 2
   },
   "file_extension": ".py",
   "mimetype": "text/x-python",
   "name": "python",
   "nbconvert_exporter": "python",
   "pygments_lexer": "ipython2",
   "version": "2.7.6"
  }
 },
 "nbformat": 4,
 "nbformat_minor": 5
}
