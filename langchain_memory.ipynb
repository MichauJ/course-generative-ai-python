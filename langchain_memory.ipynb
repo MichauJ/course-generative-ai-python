{
 "cells": [
  {
   "metadata": {},
   "cell_type": "markdown",
   "source": "## Memory",
   "id": "6531a8cd2a648138"
  },
  {
   "metadata": {
    "ExecuteTime": {
     "end_time": "2024-09-11T05:09:31.999520Z",
     "start_time": "2024-09-11T05:09:31.197282Z"
    }
   },
   "cell_type": "code",
   "source": [
    "import os\n",
    "import openai\n",
    "from dotenv import load_dotenv, find_dotenv\n",
    "from langchain.memory import ChatMessageHistory, ConversationBufferMemory\n",
    "from langchain.llms import OpenAI\n",
    "from langchain.chains import ConversationChain\n",
    "\n",
    "load_dotenv(find_dotenv())\n",
    "openai.api_key = os.environ[\"OPENAI_API_KEY\"]"
   ],
   "id": "e3ad2fd4d9690eab",
   "outputs": [],
   "execution_count": 3
  },
  {
   "metadata": {
    "ExecuteTime": {
     "end_time": "2024-09-11T05:10:54.931735Z",
     "start_time": "2024-09-11T05:10:54.927148Z"
    }
   },
   "cell_type": "code",
   "source": [
    "# message history\n",
    "history = ChatMessageHistory()\n",
    "\n",
    "history.add_user_message(\"Buenos dias!\")\n",
    "history.add_ai_message(\"hello!\")\n",
    "history.add_user_message(\"Whats your name?\")\n",
    "history.add_ai_message(\"My name is GIGACHAT\")\n",
    "history.messages"
   ],
   "id": "5fde6c50099d2dc0",
   "outputs": [
    {
     "data": {
      "text/plain": [
       "[HumanMessage(content='Buenos dias!'),\n",
       " AIMessage(content='hello!'),\n",
       " HumanMessage(content='Whats your name?'),\n",
       " AIMessage(content='My name is GIGACHAT')]"
      ]
     },
     "execution_count": 5,
     "metadata": {},
     "output_type": "execute_result"
    }
   ],
   "execution_count": 5
  },
  {
   "metadata": {
    "ExecuteTime": {
     "end_time": "2024-09-11T05:22:20.772319Z",
     "start_time": "2024-09-11T05:22:20.766406Z"
    }
   },
   "cell_type": "code",
   "source": [
    "# memory\n",
    "# History keeps all messages between the user and AI intact. History is what the user sees in the UI.\n",
    "# It represents what was actually said. Memory keeps some information, which is presented to the LLM to make it behave as if it \"remembers\" the conversation.\n",
    "memory = ConversationBufferMemory()\n",
    "memory.chat_memory.add_user_message(\"Buenos dias!\")\n",
    "memory.chat_memory.add_ai_message(\"Hello!\")\n",
    "memory.chat_memory.add_user_message(\"Whats your name?\")\n",
    "memory.chat_memory.add_ai_message(\"My name is GIGACHAT\")\n",
    "memory.load_memory_variables({})"
   ],
   "id": "81383dc2d55c720e",
   "outputs": [
    {
     "data": {
      "text/plain": [
       "{'history': 'Human: Buenos dias!\\nAI: hello!\\nHuman: Whats your name?\\nAI: My name is GIGACHAT'}"
      ]
     },
     "execution_count": 8,
     "metadata": {},
     "output_type": "execute_result"
    }
   ],
   "execution_count": 8
  },
  {
   "metadata": {
    "ExecuteTime": {
     "end_time": "2024-09-11T05:34:39.629576Z",
     "start_time": "2024-09-11T05:34:38.581452Z"
    }
   },
   "cell_type": "code",
   "source": [
    "llm = OpenAI(temperature=0)\n",
    "conversation = ConversationChain(\n",
    "    llm=llm, verbose=True, memory=ConversationBufferMemory()\n",
    ")\n",
    "conversation.predict(input=\"Buenos Dias!\") # will it response in different language?"
   ],
   "id": "17c462608d785beb",
   "outputs": [
    {
     "name": "stdout",
     "output_type": "stream",
     "text": [
      "\n",
      "\n",
      "\u001B[1m> Entering new ConversationChain chain...\u001B[0m\n",
      "Prompt after formatting:\n",
      "\u001B[32;1m\u001B[1;3mThe following is a friendly conversation between a human and an AI. The AI is talkative and provides lots of specific details from its context. If the AI does not know the answer to a question, it truthfully says it does not know.\n",
      "\n",
      "Current conversation:\n",
      "\n",
      "Human: Buenos Dias!\n",
      "AI:\u001B[0m\n",
      "\n",
      "\u001B[1m> Finished chain.\u001B[0m\n"
     ]
    },
    {
     "data": {
      "text/plain": [
       "\" Hello! It's currently 9:00 AM here in my location. I am an AI programmed to respond to human interactions. How can I assist you today?\""
      ]
     },
     "execution_count": 12,
     "metadata": {},
     "output_type": "execute_result"
    }
   ],
   "execution_count": 12
  },
  {
   "metadata": {},
   "cell_type": "markdown",
   "source": "## Summary",
   "id": "7ff7a90f50f9b8c0"
  },
  {
   "metadata": {
    "ExecuteTime": {
     "end_time": "2024-09-11T05:23:46.408227Z",
     "start_time": "2024-09-11T05:23:41.398411Z"
    }
   },
   "cell_type": "code",
   "source": "!pip install tiktoken",
   "id": "dca217ae32fb17ec",
   "outputs": [
    {
     "name": "stdout",
     "output_type": "stream",
     "text": [
      "Requirement already satisfied: tiktoken in /home/michal/anaconda3/lib/python3.11/site-packages (0.6.0)\r\n",
      "Requirement already satisfied: regex>=2022.1.18 in /home/michal/anaconda3/lib/python3.11/site-packages (from tiktoken) (2023.10.3)\r\n",
      "Requirement already satisfied: requests>=2.26.0 in /home/michal/anaconda3/lib/python3.11/site-packages (from tiktoken) (2.32.3)\r\n",
      "Requirement already satisfied: charset-normalizer<4,>=2 in /home/michal/anaconda3/lib/python3.11/site-packages (from requests>=2.26.0->tiktoken) (3.3.2)\r\n",
      "Requirement already satisfied: idna<4,>=2.5 in /home/michal/anaconda3/lib/python3.11/site-packages (from requests>=2.26.0->tiktoken) (3.4)\r\n",
      "Requirement already satisfied: urllib3<3,>=1.21.1 in /home/michal/anaconda3/lib/python3.11/site-packages (from requests>=2.26.0->tiktoken) (2.0.7)\r\n",
      "Requirement already satisfied: certifi>=2017.4.17 in /home/michal/anaconda3/lib/python3.11/site-packages (from requests>=2.26.0->tiktoken) (2024.7.4)\r\n"
     ]
    }
   ],
   "execution_count": 11
  },
  {
   "metadata": {
    "ExecuteTime": {
     "end_time": "2024-09-11T05:41:47.223315Z",
     "start_time": "2024-09-11T05:41:45.557343Z"
    }
   },
   "cell_type": "code",
   "source": [
    "from langchain.memory import ConversationSummaryBufferMemory\n",
    "\n",
    "previous_output_review = \"Rdr2 is an experience, as it's more than just a video game. It's like being in one long Oscar winning movie. Script, acting, storyline are immense, it's quite unbelievable really. You are living as a cowboy day in day out eating, bathing, sleeping, everything in a huge openworld.\"\n",
    "\n",
    "memory = ConversationSummaryBufferMemory(llm=llm, max_token_limit=1-0)\n",
    "memory.save_context(\n",
    "    {\"input\": f\"Could you analyze review for me {previous_output_review}?\"},\n",
    "    {\"output\": \"Sure, no problem\"},\n",
    ")"
   ],
   "id": "166a5c5ccbdfd892",
   "outputs": [],
   "execution_count": 21
  },
  {
   "metadata": {
    "ExecuteTime": {
     "end_time": "2024-09-11T05:41:47.908997Z",
     "start_time": "2024-09-11T05:41:47.905557Z"
    }
   },
   "cell_type": "code",
   "source": "conversation = ConversationChain(llm=llm, memory=memory, verbose=True)",
   "id": "c44fda78a5ecd387",
   "outputs": [],
   "execution_count": 22
  },
  {
   "metadata": {
    "ExecuteTime": {
     "end_time": "2024-09-11T05:41:57.682190Z",
     "start_time": "2024-09-11T05:41:51.595434Z"
    }
   },
   "cell_type": "code",
   "source": "conversation.predict(input=\"Thank you\")",
   "id": "eafcd8f46a9b388a",
   "outputs": [
    {
     "name": "stdout",
     "output_type": "stream",
     "text": [
      "\n",
      "\n",
      "\u001B[1m> Entering new ConversationChain chain...\u001B[0m\n",
      "Prompt after formatting:\n",
      "\u001B[32;1m\u001B[1;3mThe following is a friendly conversation between a human and an AI. The AI is talkative and provides lots of specific details from its context. If the AI does not know the answer to a question, it truthfully says it does not know.\n",
      "\n",
      "Current conversation:\n",
      "System: \n",
      "The human asks the AI to analyze a review for the game Rdr2, which is described as an immersive experience similar to living in an Oscar-winning movie. The AI is asked to analyze the script, acting, and storyline, which are all praised as immense and unbelievable. The game allows players to live as a cowboy in a huge open world, performing daily tasks such as eating, bathing, and sleeping.\n",
      "AI: Sure, no problem\n",
      "Human: Thank you\n",
      "AI:\u001B[0m\n",
      "\n",
      "\u001B[1m> Finished chain.\u001B[0m\n"
     ]
    },
    {
     "data": {
      "text/plain": [
       "\" You're welcome! So, let me start by saying that Rdr2 stands for Red Dead Redemption 2, which is a popular action-adventure game developed by Rockstar Games. It was released in 2018 and has received critical acclaim for its immersive gameplay and detailed open world. The game is set in the late 19th century in the American Old West and follows the story of Arthur Morgan, a member of the Van der Linde gang. The script for the game was written by Dan Houser, who is known for his work on other successful Rockstar titles such as Grand Theft Auto V. The acting in Rdr2 is top-notch, with motion capture technology used to bring the characters to life. The main storyline is praised for its depth and emotional impact, with players having to make tough decisions that affect the outcome of the game. As for the daily tasks, they add to the immersion of the game and make players feel like they are truly living in the Old West. Is there anything else you would like me to analyze about the game?\""
      ]
     },
     "execution_count": 23,
     "metadata": {},
     "output_type": "execute_result"
    }
   ],
   "execution_count": 23
  }
 ],
 "metadata": {
  "kernelspec": {
   "display_name": "Python 3",
   "language": "python",
   "name": "python3"
  },
  "language_info": {
   "codemirror_mode": {
    "name": "ipython",
    "version": 2
   },
   "file_extension": ".py",
   "mimetype": "text/x-python",
   "name": "python",
   "nbconvert_exporter": "python",
   "pygments_lexer": "ipython2",
   "version": "2.7.6"
  }
 },
 "nbformat": 4,
 "nbformat_minor": 5
}
